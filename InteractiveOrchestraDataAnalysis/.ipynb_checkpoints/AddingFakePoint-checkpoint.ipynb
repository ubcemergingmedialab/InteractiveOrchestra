{
 "cells": [
  {
   "cell_type": "code",
   "execution_count": null,
   "metadata": {},
   "outputs": [],
   "source": [
    "import pandas as pd\n",
    "import numpy as np\n",
    "import matplotlib.pyplot as plt\n"
   ]
  },
  {
   "cell_type": "code",
   "execution_count": null,
   "metadata": {},
   "outputs": [],
   "source": [
    "data = pd.read_csv(r'CleanData.csv');"
   ]
  },
  {
   "cell_type": "code",
   "execution_count": null,
   "metadata": {},
   "outputs": [],
   "source": [
    "trials = range(1,41)\n",
    "bpm = [80,100,120]\n",
    "gestureSize = [\"S\",\"M\",\"L\"]"
   ]
  },
  {
   "cell_type": "code",
   "execution_count": null,
   "metadata": {},
   "outputs": [],
   "source": [
    "data.DistanceCoveredSoFar = data.DistanceCoveredSoFar.astype(float)\n",
    "data.VelocityMagnitude = data.VelocityMagnitude.astype(float)\n",
    "data.AngleToBP1 = data.AngleToBP1.astype(float)\n",
    "data.BPM = data.BPM.astype(int)\n",
    "data.Position_Y = data.Position_Y.astype(float)"
   ]
  },
  {
   "cell_type": "code",
   "execution_count": null,
   "metadata": {},
   "outputs": [],
   "source": [
    "newOutputTable = pd.DataFrame({'Trial':[],'BPM':[],'GestureSize':[],'MedianVelocityRegionOne':[]})"
   ]
  },
  {
   "cell_type": "code",
   "execution_count": null,
   "metadata": {},
   "outputs": [],
   "source": [
    "newCleanData = pd.DataFrame({'ID':[],'GestureSize':[],'Velocity_X':[],'Velocity_Y':[],'Velocity_Z':[],'Position_X':[],'Position_Y':[],'Position_z':[],'VelocityMagnitude':[],'TimeRelativeToPrep':[],'AngleToBP1':[],'DistanceCoveredSoFar':[],'Acceleration':[],'BPM':[],'Trial':[]})"
   ]
  },
  {
   "cell_type": "code",
   "execution_count": 125,
   "metadata": {},
   "outputs": [],
   "source": [
    "for g in gestureSize:\n",
    "    for b in bpm:\n",
    "        for i in trials:\n",
    "            # First we slice, by only getting the ith trial\n",
    "            sliceByTrial = data.loc[data.Trial == i]\n",
    "            #Then we slice by getting only gesture g, of trial i\n",
    "            sliceByGesture = sliceByTrial.loc[sliceByTrial.GestureSize == g]\n",
    "            #Then we slice by getting only bpm b, of gesture g and trial i\n",
    "            sliceByBPM = sliceByGesture.loc[sliceByGesture.BPM == b]\n",
    "            \n",
    "            # =======================================\n",
    "            # ============ REGION 1 =================\n",
    "            # =======================================\n",
    "            \n",
    "            # First we need to find the index where the position is highest\n",
    "            # This will correspond to the moment of the prep beat, right before the user moves downwards towards the base plane\n",
    "            # idxmax() is a built in python function that grabs the index of the max value of a given array\n",
    "            globalHighestPointIndex = sliceByBPM.Position_Y.idxmax()\n",
    "            \n",
    "            # This checks if the base plane has been hit by the time we reach the highest point in the gesture. \n",
    "            # Continue exits out of the current for loop, so we can remove the trials that have errors. \n",
    "            if(sliceByBPM.AngleToBP1[globalHighestPointIndex]==-999):\n",
    "                continue\n",
    "            \n",
    "            # The next operation exists because 'globalHighestPointIndex' will give us the index of the highest position, in terms of the indexing of the entire dataset\n",
    "            # So although our now spliced data stored in 'sliceByBPM' has only about 40 data points, we might be getting an index of 6000 or something crazy.\n",
    "            # The reason this is cumbersome is because, a few lines below, we're going to be slicing this dataset from 0 to our 'globalHighestPointIndex'\n",
    "            # Getting the data points from 0 to 6000 doesn't make sense for a 40 data point dataset. So we want a 'local' 'HighestPointIndex'\n",
    "            \n",
    "            # We subtract 'globalHighestPointIndex' by the index of the very first data point in 'sliceByBPM'.\n",
    "            # This gives us the number of items between highestPointIndex and the beginning of the gesture. \n",
    "            # We then add 1 python is not inclusive for the second index in a slice [x:y]\n",
    "            # So to actually include the data point at y we need [x : y+1]\n",
    "            localHighestPointIndex = globalHighestPointIndex - sliceByBPM.index[0] + 1\n",
    "            \n",
    "            # Now we need to get a similar index for the first position where Velocity_Y is positive\n",
    "            # To start we slice the data to get all the points where Velocity_Y is positive\n",
    "            sliceToGetPositiveYVelocity = sliceByBPM.loc[sliceByBPM.Velocity_Y > 0]\n",
    "            \n",
    "            # Then we get the index of the very first data point sliced\n",
    "            globalIndexFirstPositiveYVelocity = sliceToGetPositiveYVelocity.index[0]\n",
    "            # We convert to local and now we have the index we need.\n",
    "            # We don't need to add 1 in this case because python is inclusive on the first index in a slice [x:y]\n",
    "            localIndexFirstPositiveYVelocity = globalIndexFirstPositiveYVelocity - sliceByBPM.index[0]\n",
    "            \n",
    "            # Now we have our region One data\n",
    "            RegionOne = sliceByBPM[localIndexFirstPositiveYVelocity:localHighestPointIndex+1]\n",
    "            \n",
    "            \n",
    "            # =======================================\n",
    "            # ============ REGION 2 =================\n",
    "            # =======================================\n",
    "            \n",
    "            # Now we get the smallest Position_Y of region 1\n",
    "            # We can get it by either getting the first index or actually using the min function!\n",
    "            smallestYPoint_RegionOneIndex = RegionOne.Position_Y.idxmin()\n",
    "            \n",
    "            # We get the highest Y position with our globalHighestPointIndex\n",
    "            y_positionHighestPoint = sliceByBPM.Position_Y[globalHighestPointIndex]\n",
    "            # And our lowest y position with our smallest y point in region 1\n",
    "            y_positionLowestPoint  = sliceByBPM.Position_Y[smallestYPoint_RegionOneIndex]\n",
    "            \n",
    "            # We get the absolute y distance between the lowest and highest points\n",
    "            y_distance = np.absolute(y_positionHighestPoint - y_positionLowestPoint)\n",
    "            # Then we take half of that distance\n",
    "            y_distanceWithinRegion2 = y_distance/2\n",
    "            \n",
    "            # Now let's get everything NOT in Region 1\n",
    "            portionAfterRegionOne = sliceByBPM[localHighestPointIndex+1:]\n",
    "            \n",
    "            # From everything NOT in Region 1 we grab every point that is within y_distanceWithinRegion2 of the highest Y position in Region 1\n",
    "            # And like that we have Region Two \n",
    "            RegionTwo = portionAfterRegionOne[np.absolute(portionAfterRegionOne.Position_Y - y_positionHighestPoint) < y_distanceWithinRegion2]\n",
    "            \n",
    "            # ============================================\n",
    "            # ============ Interpolating =================\n",
    "            # ============================================\n",
    "            \n",
    "            # First we grab the index of the lowest point in regionOne (base plane)\n",
    "            indexOfBasePlane = RegionOne.Position_Y.idxmin()\n",
    "            # And the index of the last position\n",
    "            indexOfLastPosition = sliceByBPM.DistanceCoveredSoFar.idxmax()\n",
    "        \n",
    "            # Now we have the yposition of the base plane, the last point in the set, and the penultimate point\n",
    "            Position_Y_AtBasePlane     = RegionOne.Position_Y.loc[indexOfBasePlane]\n",
    "            \n",
    "            # Here we grab all pointslocated below the base plane y position\n",
    "            pointsAfterPlane = portionAfterRegionOne.loc[portionAfterRegionOne.Position_Y < Position_Y_AtBasePlane]\n",
    "            #print(pointsAfterPlane)\n",
    "            # Here we grab all the point above the base plane y position\n",
    "            pointsAbovePlane = portionAfterRegionOne.loc[portionAfterRegionOne.Position_Y > Position_Y_AtBasePlane]\n",
    "            if(pointsAfterPlane.Trial.size==0 or pointsAbovePlane.Trial.size==0):\n",
    "                print(\"This if loop checks to make sure that there are points before and after the plane in every trial\")\n",
    "            #print(pointsAbovePlane)\n",
    "            minimumDistanceCoveredAfterPlaneIndex = pointsAfterPlane.DistanceCoveredSoFar.idxmin()\n",
    "            #print(minimumDistanceCoveredAfterPlaneIndex)\n",
    "            minimumDistanceCoveredAfterPlane = pointsAfterPlane.iloc[minimumDistanceCoveredAfterPlaneIndex-pointsAfterPlane.index[0]]\n",
    "            \n",
    "            if(minimumDistanceCoveredAfterPlane.DistanceCoveredSoFar == 0):\n",
    "                print(portionAfterRegionOne)\n",
    "                print(\"We got a problem batman\")\n",
    "            \n",
    "            pointsAboveAndBeforePlane = pointsAbovePlane.loc[pointsAbovePlane.DistanceCoveredSoFar < minimumDistanceCoveredAfterPlane.DistanceCoveredSoFar]\n",
    "            #print(pointsAboveAndBeforePlane)\n",
    "            # This gets the item that's at the last index before the plane. Meaning it's the item just before the user hits the base plane again. \n",
    "            if(pointsAboveAndBeforePlane.Trial.size==0):\n",
    "                print(\"Check to make sure we have points above and before the plane\")\n",
    "                continue\n",
    "            GlobalIndexRightBeforePlane = pointsAboveAndBeforePlane.index[pointsAboveAndBeforePlane.Trial.size-1]\n",
    "            LocalIndexRightBeforePlane = pointsAboveAndBeforePlane.index[pointsAboveAndBeforePlane.Trial.size-1]- pointsAboveAndBeforePlane.index[0]\n",
    "        \n",
    "            itemRightBeforePlane = pointsAboveAndBeforePlane.iloc[pointsAboveAndBeforePlane.index[pointsAboveAndBeforePlane.Trial.size-1] - pointsAboveAndBeforePlane.index[0]]\n",
    "            \n",
    "            firstChunkOfData = sliceByBPM[0:GlobalIndexRightBeforePlane + 1 - sliceByBPM.index[0]]\n",
    "            SecondChunkOfData = sliceByBPM[GlobalIndexRightBeforePlane + 1 - sliceByBPM.index[0]:]\n",
    "            if(SecondChunkOfData.Trial.size == 0):\n",
    "                print(\"This makes sure that there will always be one point in front of the point to be interpolated!\")\n",
    "                continue\n",
    "            \n",
    "            IDOfNewPoint = g+''+ str(b)+'' +str(i)+'' + \"Interp\"\n",
    "            newPointToBeInterpolated = pd.DataFrame({'Position_Y' : [Position_Y_AtBasePlane],\n",
    "                                                     'GestureSize': [g],\n",
    "                                                     'ID': IDOfNewPoint})\n",
    "            # We add that point to our first Chunk\n",
    "            firstChunkOfData = firstChunkOfData.append(newPointToBeInterpolated,ignore_index = True,sort = False)\n",
    "            # And add the last point of the originla data set\n",
    "            finalChunkOfData = firstChunkOfData.append(SecondChunkOfData,ignore_index = True,sort = False)\n",
    "            #print(finalChunkOfData)\n",
    "            # Now we interpolate the missing values of the 'newPointToBeInterpolated'\n",
    "            finalChunkOfData = finalChunkOfData.interpolate(method ='linear', limit_direction ='forward') \n",
    "            \n",
    "            newCleanData = newCleanData.append(finalChunkOfData,ignore_index = True,sort=False)\n",
    "            "
   ]
  },
  {
   "cell_type": "raw",
   "metadata": {},
   "source": [
    "newCleanData = newCleanData.loc[:, ~newCleanData.columns.str.contains('^Unnamed')]\n",
    "newCleanData[1000:1200]"
   ]
  },
  {
   "cell_type": "code",
   "execution_count": null,
   "metadata": {},
   "outputs": [],
   "source": []
  },
  {
   "cell_type": "code",
   "execution_count": null,
   "metadata": {},
   "outputs": [],
   "source": []
  },
  {
   "cell_type": "code",
   "execution_count": null,
   "metadata": {},
   "outputs": [],
   "source": []
  },
  {
   "cell_type": "code",
   "execution_count": null,
   "metadata": {},
   "outputs": [],
   "source": []
  },
  {
   "cell_type": "code",
   "execution_count": null,
   "metadata": {},
   "outputs": [],
   "source": []
  },
  {
   "cell_type": "code",
   "execution_count": null,
   "metadata": {},
   "outputs": [],
   "source": []
  },
  {
   "cell_type": "code",
   "execution_count": null,
   "metadata": {},
   "outputs": [],
   "source": []
  },
  {
   "cell_type": "code",
   "execution_count": null,
   "metadata": {},
   "outputs": [],
   "source": []
  }
 ],
 "metadata": {
  "kernelspec": {
   "display_name": "Python 3",
   "language": "python",
   "name": "python3"
  },
  "language_info": {
   "codemirror_mode": {
    "name": "ipython",
    "version": 3
   },
   "file_extension": ".py",
   "mimetype": "text/x-python",
   "name": "python",
   "nbconvert_exporter": "python",
   "pygments_lexer": "ipython3",
   "version": "3.6.5"
  }
 },
 "nbformat": 4,
 "nbformat_minor": 2
}
