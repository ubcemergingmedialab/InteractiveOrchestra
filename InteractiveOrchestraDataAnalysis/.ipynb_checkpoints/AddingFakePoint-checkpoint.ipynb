{
 "cells": [
  {
   "cell_type": "code",
   "execution_count": null,
   "metadata": {},
   "outputs": [],
   "source": [
    "import pandas as pd\n",
    "import numpy as np"
   ]
  },
  {
   "cell_type": "code",
   "execution_count": null,
   "metadata": {},
   "outputs": [],
   "source": [
    "data = pd.read_csv(r'CleanData.csv');"
   ]
  },
  {
   "cell_type": "code",
   "execution_count": null,
   "metadata": {},
   "outputs": [],
   "source": [
    "trials = range(1,41)\n",
    "bpm = [80,100,120]\n",
    "gestureSize = [\"S\",\"M\",\"L\"]"
   ]
  },
  {
   "cell_type": "code",
   "execution_count": null,
   "metadata": {},
   "outputs": [],
   "source": [
    "data.DistanceCoveredSoFar = data.DistanceCoveredSoFar.astype(float)\n",
    "data.VelocityMagnitude = data.VelocityMagnitude.astype(float)\n",
    "data.AngleToBP1 = data.AngleToBP1.astype(float)\n",
    "data.BPM = data.BPM.astype(int)\n",
    "data.Position_Y = data.Position_Y.astype(float)"
   ]
  },
  {
   "cell_type": "code",
   "execution_count": null,
   "metadata": {},
   "outputs": [],
   "source": [
    "\n",
    "newOutputTable = pd.DataFrame({'Trial':[],'BPM':[],'GestureSize':[],'MedianVelocityRegionOne':[]})"
   ]
  },
  {
   "cell_type": "code",
   "execution_count": 46,
   "metadata": {},
   "outputs": [
    {
     "name": "stdout",
     "output_type": "stream",
     "text": [
      "ERROR\n",
      "ERROR\n",
      "ERROR\n",
      "ERROR\n",
      "ERROR\n",
      "ERROR\n"
     ]
    }
   ],
   "source": [
    "for g in gestureSize:\n",
    "    for b in bpm:\n",
    "        for i in trials:\n",
    "            sliceByTrial = data.loc[data.Trial == i]\n",
    "            sliceByGesture = sliceByTrial.loc[sliceByTrial.GestureSize == g]\n",
    "            sliceByBPM = sliceByGesture.loc[sliceByGesture.BPM == b]\n",
    "\n",
    "            globalHighestPointIndex = sliceByBPM.Position_Y.idxmax()\n",
    "\n",
    "            localHighestPointIndex = globalHighestPointIndex - sliceByBPM.index[0] + 1\n",
    "            \n",
    "            indexOfLastPosition = sliceByBPM.DistanceCoveredSoFar.idxmax()\n",
    "            sliceByNegativeAngle = sliceByBPM.loc[sliceByBPM.AngleToBP1 == -999]\n",
    "            \n",
    "            Position_Y_AtBasePlane = sliceByBPM.Position_Y.loc[sliceByBPM.index[0] + sliceByNegativeAngle.Trial.size - 1]\n",
    "            #print(sliceByBPM[sliceByNegativeAngle.Trial.size + sliceByBPM.index[0]])\n",
    "            Position_Y_BeforeBasePlane = sliceByBPM.Position_Y.loc[indexOfLastPosition - 1]\n",
    "            Position_Y_AfterBasePlane = sliceByBPM.Position_Y.loc[indexOfLastPosition]\n",
    "            if(Position_Y_AfterBasePlane > Position_Y_AtBasePlane):\n",
    "                print(\"ERROR\")\n",
    "            \n",
    "            \n",
    "            "
   ]
  },
  {
   "cell_type": "code",
   "execution_count": null,
   "metadata": {},
   "outputs": [],
   "source": [
    "newOutputTable"
   ]
  },
  {
   "cell_type": "code",
   "execution_count": null,
   "metadata": {},
   "outputs": [],
   "source": [
    "np.mean(newOutputTable[newOutputTable.GestureSize == \"S\"])"
   ]
  },
  {
   "cell_type": "code",
   "execution_count": null,
   "metadata": {},
   "outputs": [],
   "source": [
    "np.mean(newOutputTable[newOutputTable.GestureSize == \"M\"])"
   ]
  },
  {
   "cell_type": "code",
   "execution_count": null,
   "metadata": {},
   "outputs": [],
   "source": [
    "np.mean(newOutputTable[newOutputTable.GestureSize == \"L\"])"
   ]
  },
  {
   "cell_type": "code",
   "execution_count": null,
   "metadata": {},
   "outputs": [],
   "source": []
  },
  {
   "cell_type": "code",
   "execution_count": null,
   "metadata": {},
   "outputs": [],
   "source": [
    "newOutputTable.to_csv(r'MedianVelocityRegionOne.csv')"
   ]
  },
  {
   "cell_type": "code",
   "execution_count": null,
   "metadata": {},
   "outputs": [],
   "source": []
  }
 ],
 "metadata": {
  "kernelspec": {
   "display_name": "Python 3",
   "language": "python",
   "name": "python3"
  },
  "language_info": {
   "codemirror_mode": {
    "name": "ipython",
    "version": 3
   },
   "file_extension": ".py",
   "mimetype": "text/x-python",
   "name": "python",
   "nbconvert_exporter": "python",
   "pygments_lexer": "ipython3",
   "version": "3.6.5"
  }
 },
 "nbformat": 4,
 "nbformat_minor": 2
}
