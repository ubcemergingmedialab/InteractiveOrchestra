{
 "cells": [
  {
   "cell_type": "code",
   "execution_count": 1,
   "metadata": {},
   "outputs": [],
   "source": [
    "import pandas as pd\n",
    "import numpy as np"
   ]
  },
  {
   "cell_type": "code",
   "execution_count": 2,
   "metadata": {},
   "outputs": [],
   "source": [
    "csv_data = pd.read_csv(r'CleanDataUpdated.csv');"
   ]
  },
  {
   "cell_type": "code",
   "execution_count": 3,
   "metadata": {},
   "outputs": [],
   "source": [
    "trials = range(1,41)\n",
    "bpm = [80,100,120]\n",
    "gestureSize = [\"S\",\"M\",\"L\"]"
   ]
  },
  {
   "cell_type": "code",
   "execution_count": 4,
   "metadata": {},
   "outputs": [],
   "source": [
    "csv_data.DistanceCoveredSoFar = csv_data.DistanceCoveredSoFar.astype(float)\n",
    "csv_data.VelocityMagnitude = csv_data.VelocityMagnitude.astype(float)\n",
    "csv_data.AngleToBP1 = csv_data.AngleToBP1.astype(float)\n",
    "csv_data.BPM = csv_data.BPM.astype(int)\n",
    "csv_data.Position_Y = csv_data.Position_Y.astype(float)"
   ]
  },
  {
   "cell_type": "code",
   "execution_count": 5,
   "metadata": {},
   "outputs": [],
   "source": [
    "newOutputTable = pd.DataFrame({'Trial':[],'BPM':[],'GestureSize':[], 'MinAngleRegionTwo':[]})"
   ]
  },
  {
   "cell_type": "code",
   "execution_count": 12,
   "metadata": {},
   "outputs": [],
   "source": [
    "# Here's where we iterate over the arrays we mentioned earlie\n",
    "trials = [7]\n",
    "bpm = [100]\n",
    "gestureSize = [\"M\"]\n",
    "for g in gestureSize:\n",
    "    for b in bpm:\n",
    "        for i in trials: \n",
    "            sliceByTrial = csv_data.loc[csv_data.Trial == i] \n",
    "            sliceByGesture = sliceByTrial.loc[sliceByTrial.GestureSize == g] \n",
    "            sliceByBPM = sliceByGesture.loc[sliceByGesture.BPM == b] \n",
    "            if(sliceByBPM.Trial.size == 0):\n",
    "               continue\n",
    "            \n",
    "            # =======================================\n",
    "            # ============ REGION 1 =================\n",
    "            # =======================================\n",
    "            InitialPoxX = sliceByBPM.iloc[0].Position_X\n",
    "            InitialPosY = sliceByBPM.iloc[0].Position_Y\n",
    "            \n",
    "            globalHighestPointIndex = sliceByBPM.Position_Y.idxmax()\n",
    "            \n",
    "            localHighestPointIndex = globalHighestPointIndex - sliceByBPM.index[0] + 1\n",
    "            \n",
    "            sliceToGetPositiveYVelocity = sliceByBPM.loc[sliceByBPM.Velocity_Y > 0]\n",
    "            \n",
    "            globalIndexFirstPositiveYVelocity = sliceToGetPositiveYVelocity.index[0]\n",
    "            \n",
    "            localIndexFirstPositiveYVelocity = globalIndexFirstPositiveYVelocity - sliceByBPM.index[0]\n",
    "            \n",
    "            RegionOne = sliceByBPM[localIndexFirstPositiveYVelocity:localHighestPointIndex+1] \n",
    "            RegionOneX = RegionOne.iloc[0].Position_X\n",
    "            RegionOneY = RegionOne.iloc[0].Position_Y\n",
    "            \n",
    "            # =======================================\n",
    "            # ============ REGION 2 =================\n",
    "            # =======================================\n",
    "            \n",
    "            smallestYPoint_RegionOneIndex = RegionOne.Position_Y.idxmin()\n",
    "            \n",
    "            y_positionHighestPoint = sliceByBPM.Position_Y[globalHighestPointIndex]\n",
    "            \n",
    "            y_positionLowestPoint  = sliceByBPM.Position_Y[smallestYPoint_RegionOneIndex]\n",
    "            \n",
    "            y_distance = np.absolute(y_positionHighestPoint - y_positionLowestPoint)\n",
    "            \n",
    "            y_distanceWithinRegion2 = y_distance/2\n",
    "            \n",
    "            portionAfterRegionOne = sliceByBPM[localHighestPointIndex+1:]\n",
    "            \n",
    "            RegionTwo = portionAfterRegionOne[np.absolute(portionAfterRegionOne.Position_Y - y_positionHighestPoint) < y_distanceWithinRegion2]\n",
    "            \n",
    "            RegionTwoX = RegionTwo.iloc[0].Position_X\n",
    "            RegionTwoY = RegionTwo.iloc[0].Position_Y\n",
    "            \n",
    "            # =======================================\n",
    "            # ========== MIN ANGLE R2 ===============\n",
    "            # =======================================\n",
    "                    \n",
    "            minAngleRegionTwo = min(RegionTwo[\"AngleToBP1\"])\n",
    "            newOutputTable = newOutputTable.append({'Trial': i,'BPM':b,'GestureSize':g,'MinAngleRegionTwo':minAngleRegionTwo}, ignore_index = True)"
   ]
  },
  {
   "cell_type": "code",
   "execution_count": 11,
   "metadata": {},
   "outputs": [
    {
     "data": {
      "text/plain": [
       "0.8009729"
      ]
     },
     "execution_count": 11,
     "metadata": {},
     "output_type": "execute_result"
    }
   ],
   "source": [
    "InitialPoxX"
   ]
  },
  {
   "cell_type": "code",
   "execution_count": 8,
   "metadata": {},
   "outputs": [],
   "source": [
    "newOutputTable.to_csv(r'MinAngleRegionTwo.csv')"
   ]
  },
  {
   "cell_type": "code",
   "execution_count": null,
   "metadata": {},
   "outputs": [],
   "source": []
  }
 ],
 "metadata": {
  "kernelspec": {
   "display_name": "Python 3",
   "language": "python",
   "name": "python3"
  },
  "language_info": {
   "codemirror_mode": {
    "name": "ipython",
    "version": 3
   },
   "file_extension": ".py",
   "mimetype": "text/x-python",
   "name": "python",
   "nbconvert_exporter": "python",
   "pygments_lexer": "ipython3",
   "version": "3.6.5"
  }
 },
 "nbformat": 4,
 "nbformat_minor": 2
}
