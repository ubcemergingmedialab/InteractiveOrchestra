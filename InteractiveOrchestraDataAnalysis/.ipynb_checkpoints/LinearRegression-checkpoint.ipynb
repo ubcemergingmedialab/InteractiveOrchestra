{
 "cells": [
  {
   "cell_type": "code",
   "execution_count": 15,
   "metadata": {},
   "outputs": [],
   "source": [
    "import pandas as pd\n",
    "import numpy as np\n",
    "import matplotlib.pyplot as plt\n",
    "import seaborn as sns\n",
    "sns.set(style=\"darkgrid\")\n",
    "from sklearn import linear_model\n",
    "from sklearn.linear_model import LinearRegression"
   ]
  },
  {
   "cell_type": "code",
   "execution_count": 16,
   "metadata": {},
   "outputs": [],
   "source": [
    "algoData = pd.read_csv(r'CombinedAlgorithmData.csv')\n",
    "algoData = algoData.sample(frac=1)\n",
    "# Automatic Cross validation and picks a hyper parameter for regularization given a list of small lambda values\n",
    "reg = linear_model.RidgeCV(alphas=np.logspace(-8,8,15))"
   ]
  },
  {
   "cell_type": "code",
   "execution_count": 17,
   "metadata": {},
   "outputs": [],
   "source": [
    "trainingSize = np.arange(20,357,20)\n",
    "algoData = algoData.iloc[:,4:22]"
   ]
  },
  {
   "cell_type": "raw",
   "metadata": {},
   "source": [
    "X = algoData.iloc[:,0:17]\n",
    "y = algoData.iloc[:,-1]\n",
    "y = y.astype(float)\n",
    "X = X.astype(float)\n",
    "X"
   ]
  },
  {
   "cell_type": "code",
   "execution_count": 5,
   "metadata": {},
   "outputs": [],
   "source": [
    "mu, sigma = 0, 0.1\n",
    "noise = np.random.normal(mu,sigma,[algoData.shape[0],algoData.shape[1]])\n",
    "algoDataNoisy = algoData.astype(float) + noise\n",
    "XNoise = algoData.iloc[:,0:17]\n",
    "yNoise = algoData.iloc[:,-1]\n",
    "yNoise = yNoise.astype(float)\n",
    "XNoise = XNoise.astype(float)"
   ]
  },
  {
   "cell_type": "code",
   "execution_count": 6,
   "metadata": {},
   "outputs": [
    {
     "name": "stdout",
     "output_type": "stream",
     "text": [
      "20\n",
      "40\n",
      "60\n",
      "80\n",
      "100\n",
      "120\n",
      "140\n",
      "160\n",
      "180\n",
      "200\n",
      "220\n",
      "240\n",
      "260\n",
      "280\n",
      "300\n",
      "320\n",
      "340\n"
     ]
    }
   ],
   "source": [
    "optimalSize = int(358*.7)\n",
    "maxScore = 0\n",
    "for size in trainingSize:\n",
    "    X_train = X[:size].append(XNoise[:size])\n",
    "    y_train = y[:size].append(yNoise[:size])\n",
    "    X_test = X[size:].append(XNoise[size:])\n",
    "    y_test = y[size:].append(yNoise[size:])\n",
    "    model = reg.fit(X_train,y_train)\n",
    "    if model.score(X_test,y_test) > maxScore:\n",
    "        maxScore = model.score(X_test,y_test)\n",
    "        #optimalSize = size\n",
    "    print(size)"
   ]
  },
  {
   "cell_type": "code",
   "execution_count": 7,
   "metadata": {},
   "outputs": [],
   "source": [
    "X_train = X[:optimalSize].append(XNoise[:optimalSize])\n",
    "y_train = y[:optimalSize].append(yNoise[:optimalSize])\n",
    "X_test = X[optimalSize:].append(XNoise[optimalSize:])\n",
    "y_test = y[optimalSize:].append(yNoise[optimalSize:])"
   ]
  },
  {
   "cell_type": "code",
   "execution_count": 8,
   "metadata": {},
   "outputs": [
    {
     "data": {
      "text/plain": [
       "250"
      ]
     },
     "execution_count": 8,
     "metadata": {},
     "output_type": "execute_result"
    }
   ],
   "source": [
    "optimalSize"
   ]
  },
  {
   "cell_type": "code",
   "execution_count": 9,
   "metadata": {},
   "outputs": [
    {
     "data": {
      "text/plain": [
       "0.0003727593720314938"
      ]
     },
     "execution_count": 9,
     "metadata": {},
     "output_type": "execute_result"
    }
   ],
   "source": [
    "model = reg.fit(X_train,y_train)\n",
    "reg.alpha_"
   ]
  },
  {
   "cell_type": "code",
   "execution_count": 10,
   "metadata": {},
   "outputs": [
    {
     "data": {
      "text/plain": [
       "-2.220446049250313e-16"
      ]
     },
     "execution_count": 10,
     "metadata": {},
     "output_type": "execute_result"
    }
   ],
   "source": [
    "np.mean(model.predict(X_train) - y_train)"
   ]
  },
  {
   "cell_type": "code",
   "execution_count": 11,
   "metadata": {},
   "outputs": [
    {
     "data": {
      "text/plain": [
       "-0.001094017079652927"
      ]
     },
     "execution_count": 11,
     "metadata": {},
     "output_type": "execute_result"
    }
   ],
   "source": [
    "np.mean(model.predict(X_test) - y_test)"
   ]
  },
  {
   "cell_type": "code",
   "execution_count": 12,
   "metadata": {},
   "outputs": [
    {
     "name": "stdout",
     "output_type": "stream",
     "text": [
      "0.9652737742207367\n"
     ]
    }
   ],
   "source": [
    "print(model.score(X_test,y_test))"
   ]
  },
  {
   "cell_type": "code",
   "execution_count": 13,
   "metadata": {},
   "outputs": [
    {
     "name": "stdout",
     "output_type": "stream",
     "text": [
      "120    0.65\n",
      "204    0.45\n",
      "224    0.43\n",
      "9      0.69\n",
      "58     0.47\n",
      "73     0.53\n",
      "28     0.53\n",
      "311    0.59\n",
      "174    0.51\n",
      "229    0.43\n",
      "211    0.47\n",
      "190    0.55\n",
      "70     0.53\n",
      "0      0.64\n",
      "260    0.63\n",
      "273    0.59\n",
      "67     0.53\n",
      "261    0.61\n",
      "349    0.43\n",
      "118    0.67\n",
      "203    0.43\n",
      "328    0.51\n",
      "335    0.45\n",
      "280    0.59\n",
      "57     0.51\n",
      "342    0.45\n",
      "271    0.55\n",
      "281    0.65\n",
      "197    0.53\n",
      "317    0.57\n",
      "       ... \n",
      "272    0.53\n",
      "129    0.67\n",
      "31     0.61\n",
      "316    0.59\n",
      "77     0.51\n",
      "298    0.59\n",
      "114    0.39\n",
      "334    0.43\n",
      "131    0.71\n",
      "248    0.71\n",
      "39     0.49\n",
      "223    0.45\n",
      "289    0.53\n",
      "94     0.41\n",
      "209    0.45\n",
      "138    0.55\n",
      "278    0.53\n",
      "54     0.51\n",
      "166    0.53\n",
      "127    0.63\n",
      "321    0.55\n",
      "161    0.53\n",
      "300    0.53\n",
      "40     0.51\n",
      "179    0.55\n",
      "17     0.69\n",
      "35     0.53\n",
      "156    0.59\n",
      "50     0.51\n",
      "275    0.57\n",
      "Name: TimeDifferenceBetweenCollisions, Length: 216, dtype: float64 [0.6367164  0.46925411 0.45552568 0.65423701 0.4800878  0.53106237\n",
      " 0.52644709 0.57109555 0.50574252 0.45960313 0.47240514 0.54906946\n",
      " 0.54065271 0.60764536 0.63836305 0.59833656 0.5374522  0.60197874\n",
      " 0.43085054 0.65478908 0.41915395 0.50543849 0.45954081 0.60680022\n",
      " 0.4824102  0.45078535 0.57195544 0.65806416 0.55036208 0.57400298\n",
      " 0.44819164 0.74528554 0.56588555 0.68467365 0.46032263 0.47556219\n",
      " 0.52360648 0.52072958 0.70906545 0.65918405 0.63367929 0.5839593\n",
      " 0.54633309 0.54118336 0.50597157 0.56305134 0.54807615 0.5922914\n",
      " 0.4558084  0.4597575  0.70541507 0.40582272 0.50091341 0.53238159\n",
      " 0.51612032 0.50374282 0.54929248 0.55270751 0.58192929 0.57164931\n",
      " 0.62766599 0.5726617  0.57126572 0.61511623 0.48416482 0.53054734\n",
      " 0.44389661 0.4579632  0.57306535 0.42985595 0.72217222 0.41280798\n",
      " 0.67873566 0.51467554 0.59726563 0.54362935 0.45635127 0.63168179\n",
      " 0.54057876 0.6652553  0.58919526 0.58634778 0.53288939 0.59666476\n",
      " 0.38493968 0.42979306 0.68003    0.72774705 0.48792557 0.44736408\n",
      " 0.52031751 0.40094384 0.47186362 0.54119006 0.53012164 0.5131415\n",
      " 0.50779398 0.62543697 0.55046966 0.5094239  0.54227108 0.50643162\n",
      " 0.55045005 0.66421602 0.55683973 0.58678401 0.52240515 0.56707196\n",
      " 0.6367164  0.46925411 0.45552568 0.65423701 0.4800878  0.53106237\n",
      " 0.52644709 0.57109555 0.50574252 0.45960313 0.47240514 0.54906946\n",
      " 0.54065271 0.60764536 0.63836305 0.59833656 0.5374522  0.60197874\n",
      " 0.43085054 0.65478908 0.41915395 0.50543849 0.45954081 0.60680022\n",
      " 0.4824102  0.45078535 0.57195544 0.65806416 0.55036208 0.57400298\n",
      " 0.44819164 0.74528554 0.56588555 0.68467365 0.46032263 0.47556219\n",
      " 0.52360648 0.52072958 0.70906545 0.65918405 0.63367929 0.5839593\n",
      " 0.54633309 0.54118336 0.50597157 0.56305134 0.54807615 0.5922914\n",
      " 0.4558084  0.4597575  0.70541507 0.40582272 0.50091341 0.53238159\n",
      " 0.51612032 0.50374282 0.54929248 0.55270751 0.58192929 0.57164931\n",
      " 0.62766599 0.5726617  0.57126572 0.61511623 0.48416482 0.53054734\n",
      " 0.44389661 0.4579632  0.57306535 0.42985595 0.72217222 0.41280798\n",
      " 0.67873566 0.51467554 0.59726563 0.54362935 0.45635127 0.63168179\n",
      " 0.54057876 0.6652553  0.58919526 0.58634778 0.53288939 0.59666476\n",
      " 0.38493968 0.42979306 0.68003    0.72774705 0.48792557 0.44736408\n",
      " 0.52031751 0.40094384 0.47186362 0.54119006 0.53012164 0.5131415\n",
      " 0.50779398 0.62543697 0.55046966 0.5094239  0.54227108 0.50643162\n",
      " 0.55045005 0.66421602 0.55683973 0.58678401 0.52240515 0.56707196]\n"
     ]
    }
   ],
   "source": [
    "print(y_test,model.predict(X_test))"
   ]
  },
  {
   "cell_type": "code",
   "execution_count": 14,
   "metadata": {},
   "outputs": [
    {
     "name": "stdout",
     "output_type": "stream",
     "text": [
      "[-3.25511626e-02  1.15400230e-03 -8.04258180e-02  1.46279823e-01\n",
      " -1.84145346e-01 -3.78655231e-02 -3.45894887e-04  3.38333140e-04\n",
      " -7.83842484e-05  4.48474817e-02 -3.15975199e-02  1.34321221e-02\n",
      "  4.50300939e-02 -4.23116139e-03  1.24455554e+00 -1.31935036e+00\n",
      "  9.98110984e-02]\n"
     ]
    }
   ],
   "source": [
    "print(model.coef_)"
   ]
  },
  {
   "cell_type": "code",
   "execution_count": 466,
   "metadata": {},
   "outputs": [
    {
     "name": "stdout",
     "output_type": "stream",
     "text": [
      "0.001170535384974258\n"
     ]
    }
   ],
   "source": [
    "print(np.mean(model.predict(X_test)-y_test))"
   ]
  },
  {
   "cell_type": "code",
   "execution_count": null,
   "metadata": {},
   "outputs": [],
   "source": []
  }
 ],
 "metadata": {
  "kernelspec": {
   "display_name": "Python 3",
   "language": "python",
   "name": "python3"
  },
  "language_info": {
   "codemirror_mode": {
    "name": "ipython",
    "version": 3
   },
   "file_extension": ".py",
   "mimetype": "text/x-python",
   "name": "python",
   "nbconvert_exporter": "python",
   "pygments_lexer": "ipython3",
   "version": "3.6.5"
  }
 },
 "nbformat": 4,
 "nbformat_minor": 2
}
