{
 "cells": [
  {
   "cell_type": "code",
   "execution_count": 52,
   "metadata": {},
   "outputs": [],
   "source": [
    "import pandas as pd\n",
    "import numpy as np"
   ]
  },
  {
   "cell_type": "code",
   "execution_count": 53,
   "metadata": {},
   "outputs": [],
   "source": [
    "data = pd.read_csv(r'CleanData.csv');"
   ]
  },
  {
   "cell_type": "code",
   "execution_count": 54,
   "metadata": {},
   "outputs": [],
   "source": [
    "\n",
    "# This gives us an array of 1 through 40 \n",
    "trials = range(1,41)\n",
    "bpm = [80,100,120]\n",
    "gestureSize = [\"S\",\"M\",\"L\"]\n",
    "# We initialize these array because we're going to be iterating over them in a bit"
   ]
  },
  {
   "cell_type": "code",
   "execution_count": 55,
   "metadata": {},
   "outputs": [],
   "source": [
    "# These lines let Python know that we want to treat the data as numbers, not strings\n",
    "# This will be useful when we're splicing the data set and comparing values\n",
    "data.DistanceCoveredSoFar = data.DistanceCoveredSoFar.astype(float)\n",
    "data.VelocityMagnitude = data.VelocityMagnitude.astype(float)\n",
    "data.AngleToBP1 = data.AngleToBP1.astype(float)\n",
    "data.BPM = data.BPM.astype(int)\n",
    "data.Position_Y = data.Position_Y.astype(float)"
   ]
  },
  {
   "cell_type": "code",
   "execution_count": 56,
   "metadata": {},
   "outputs": [],
   "source": [
    "# Here we define how we want our final table to look like. \n",
    "# We name all our features\n",
    "newOutputTable = pd.DataFrame({'Trial':[],'BPM':[],'GestureSize':[],'TotalDistanceCoveredInRegionOne':[], 'TotalDistanceCoveredInRegionTwo': [], 'TotalDistanceCoveredBothRegions': []})"
   ]
  },
  {
   "cell_type": "code",
   "execution_count": 57,
   "metadata": {},
   "outputs": [],
   "source": [
    " for g in gestureSize:\n",
    "    for b in bpm:\n",
    "        for i in trials:\n",
    "            #g = 'S'\n",
    "            #b = 80\n",
    "            #i = 1\n",
    "            sliceByTrial = data.loc[data.Trial == i]\n",
    "            sliceByGesture = sliceByTrial.loc[sliceByTrial.GestureSize == g]\n",
    "            sliceByBPM = sliceByGesture.loc[sliceByGesture.BPM == b]\n",
    "\n",
    "\n",
    "            # =======================================\n",
    "            # ============ REGION 1 =================\n",
    "            # =======================================\n",
    "\n",
    "            globalHighestPointIndex = sliceByBPM.Position_Y.idxmax()\n",
    "            # currentTotalDistanceCovered = sliceByBPM[globalHighestPointIndex].DistanceCoveredSoFar\n",
    "            localHighestPointIndex = globalHighestPointIndex - sliceByBPM.index[0]\n",
    "\n",
    "            sliceToGetPositiveYVelocity = sliceByBPM.loc[sliceByBPM.Velocity_Y > 0]\n",
    "            globalIndexFirstPositiveYVelocity = sliceToGetPositiveYVelocity.index[0]\n",
    "            localIndexFirstPositiveYVelocity = globalIndexFirstPositiveYVelocity - sliceByBPM.index[0]\n",
    "\n",
    "            RegionOne = sliceByBPM[localIndexFirstPositiveYVelocity:localHighestPointIndex+1]\n",
    "\n",
    "\n",
    "            # =======================================\n",
    "            # ============ REGION 2 =================\n",
    "            # =======================================\n",
    "\n",
    "            # Now we get the smallest Position_Y of region 1\n",
    "            # We can get it by either getting the first index or actually using the min function!\n",
    "            smallestYPoint_RegionOneIndex = RegionOne.Position_Y.idxmin()\n",
    "\n",
    "            # We get the highest Y position with our globalHighestPointIndex\n",
    "            y_positionHighestPoint = sliceByBPM.Position_Y[globalHighestPointIndex]\n",
    "            # And our lowest y position with our smallest y point in region 1\n",
    "            y_positionLowestPoint  = sliceByBPM.Position_Y[smallestYPoint_RegionOneIndex]\n",
    "\n",
    "            # We get the absolute y distance between the lowest and highest points\n",
    "            y_distance = np.absolute(y_positionHighestPoint - y_positionLowestPoint)\n",
    "            # Then we take half of that distance\n",
    "            y_distanceWithinRegion2 = y_distance/2\n",
    "\n",
    "            # Now let's get everything NOT in Region 1\n",
    "            portionAfterRegionOne = sliceByBPM[localHighestPointIndex+1:]\n",
    "\n",
    "            # From everything NOT in Region 1 we grab every point that is within y_distanceWithinRegion2 of the highest Y position in Region 1\n",
    "            # And like that we have Region Two \n",
    "            RegionTwo = portionAfterRegionOne[np.absolute(portionAfterRegionOne.Position_Y - y_positionHighestPoint) < y_distanceWithinRegion2]\n",
    "\n",
    "            # =======================================\n",
    "            # ====== Total Distance Covered ==========\n",
    "            # =======================================\n",
    "\n",
    "            distanceCoveredValuesOne = RegionOne[\"DistanceCoveredSoFar\"] #need to get region one distance covered values only\n",
    "            regionOneTotalDistanceCovered = max(distanceCoveredValuesOne) #gets the maximum value in the array containing DistanceCovered values in RegionOne\n",
    "            distanceCoveredValuesBoth = RegionTwo[\"DistanceCoveredSoFar\"]\n",
    "            bothRegionsTotalDistanceCovered = max(distanceCoveredValuesBoth)\n",
    "            regionTwoTotalDistanceCovered = bothRegionsTotalDistanceCovered - regionOneTotalDistanceCovered\n",
    "            newOutputTable = newOutputTable.append({'Trial': i,'BPM':b,'GestureSize':g,'TotalDistanceCoveredInRegionOne':regionOneTotalDistanceCovered, 'TotalDistanceCoveredInRegionTwo': regionTwoTotalDistanceCovered, 'TotalDistanceCoveredBothRegions': bothRegionsTotalDistanceCovered}, ignore_index = True)\n"
   ]
  },
  {
   "cell_type": "code",
   "execution_count": 58,
   "metadata": {},
   "outputs": [
    {
     "data": {
      "text/html": [
       "<div>\n",
       "<style scoped>\n",
       "    .dataframe tbody tr th:only-of-type {\n",
       "        vertical-align: middle;\n",
       "    }\n",
       "\n",
       "    .dataframe tbody tr th {\n",
       "        vertical-align: top;\n",
       "    }\n",
       "\n",
       "    .dataframe thead th {\n",
       "        text-align: right;\n",
       "    }\n",
       "</style>\n",
       "<table border=\"1\" class=\"dataframe\">\n",
       "  <thead>\n",
       "    <tr style=\"text-align: right;\">\n",
       "      <th></th>\n",
       "      <th>BPM</th>\n",
       "      <th>GestureSize</th>\n",
       "      <th>TotalDistanceCoveredInRegionOne</th>\n",
       "      <th>TotalDistanceCoveredInRegionTwo</th>\n",
       "      <th>Trial</th>\n",
       "    </tr>\n",
       "  </thead>\n",
       "  <tbody>\n",
       "    <tr>\n",
       "      <th>0</th>\n",
       "      <td>80.0</td>\n",
       "      <td>S</td>\n",
       "      <td>0.3302</td>\n",
       "      <td>0.46734</td>\n",
       "      <td>1.0</td>\n",
       "    </tr>\n",
       "  </tbody>\n",
       "</table>\n",
       "</div>"
      ],
      "text/plain": [
       "    BPM GestureSize  TotalDistanceCoveredInRegionOne  \\\n",
       "0  80.0           S                           0.3302   \n",
       "\n",
       "   TotalDistanceCoveredInRegionTwo  Trial  \n",
       "0                          0.46734    1.0  "
      ]
     },
     "execution_count": 58,
     "metadata": {},
     "output_type": "execute_result"
    }
   ],
   "source": [
    "newOutputTable"
   ]
  },
  {
   "cell_type": "code",
   "execution_count": 59,
   "metadata": {},
   "outputs": [
    {
     "data": {
      "text/plain": [
       "BPM                                80.00000\n",
       "TotalDistanceCoveredInRegionOne     0.33020\n",
       "TotalDistanceCoveredInRegionTwo     0.46734\n",
       "Trial                               1.00000\n",
       "dtype: float64"
      ]
     },
     "execution_count": 59,
     "metadata": {},
     "output_type": "execute_result"
    }
   ],
   "source": [
    "np.mean(newOutputTable[newOutputTable.GestureSize == \"S\"])"
   ]
  },
  {
   "cell_type": "code",
   "execution_count": 60,
   "metadata": {},
   "outputs": [
    {
     "data": {
      "text/plain": [
       "BPM                               NaN\n",
       "GestureSize                       NaN\n",
       "TotalDistanceCoveredInRegionOne   NaN\n",
       "TotalDistanceCoveredInRegionTwo   NaN\n",
       "Trial                             NaN\n",
       "dtype: float64"
      ]
     },
     "execution_count": 60,
     "metadata": {},
     "output_type": "execute_result"
    }
   ],
   "source": [
    "np.mean(newOutputTable[newOutputTable.GestureSize == \"M\"])"
   ]
  },
  {
   "cell_type": "code",
   "execution_count": 61,
   "metadata": {},
   "outputs": [
    {
     "data": {
      "text/plain": [
       "BPM                               NaN\n",
       "GestureSize                       NaN\n",
       "TotalDistanceCoveredInRegionOne   NaN\n",
       "TotalDistanceCoveredInRegionTwo   NaN\n",
       "Trial                             NaN\n",
       "dtype: float64"
      ]
     },
     "execution_count": 61,
     "metadata": {},
     "output_type": "execute_result"
    }
   ],
   "source": [
    "np.mean(newOutputTable[newOutputTable.GestureSize == \"L\"])"
   ]
  },
  {
   "cell_type": "code",
   "execution_count": 62,
   "metadata": {},
   "outputs": [],
   "source": [
    "# When you're done with your data set, save it as a csv and push it up to develop. \n",
    "# Once we have all of the data we need, we'll combine it all into one table and start messing around with the values. \n",
    "newOutputTable.to_csv(r'TotalDistanceCoveredBothRegions.csv')"
   ]
  },
  {
   "cell_type": "code",
   "execution_count": null,
   "metadata": {},
   "outputs": [],
   "source": []
  }
 ],
 "metadata": {
  "kernelspec": {
   "display_name": "Python 2",
   "language": "python",
   "name": "python2"
  },
  "language_info": {
   "codemirror_mode": {
    "name": "ipython",
    "version": 2
   },
   "file_extension": ".py",
   "mimetype": "text/x-python",
   "name": "python",
   "nbconvert_exporter": "python",
   "pygments_lexer": "ipython2",
   "version": "2.7.16"
  }
 },
 "nbformat": 4,
 "nbformat_minor": 2
}
