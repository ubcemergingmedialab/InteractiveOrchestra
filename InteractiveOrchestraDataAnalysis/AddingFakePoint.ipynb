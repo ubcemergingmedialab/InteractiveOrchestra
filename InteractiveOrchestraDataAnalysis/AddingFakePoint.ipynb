{
 "cells": [
  {
   "cell_type": "code",
   "execution_count": null,
   "metadata": {},
   "outputs": [],
   "source": [
    "import pandas as pd\n",
    "import numpy as np\n",
    "import matplotlib.pyplot as plt\n"
   ]
  },
  {
   "cell_type": "code",
   "execution_count": null,
   "metadata": {},
   "outputs": [],
   "source": [
    "data = pd.read_csv(r'CleanData.csv');"
   ]
  },
  {
   "cell_type": "code",
   "execution_count": null,
   "metadata": {},
   "outputs": [],
   "source": [
    "trials = range(1,41)\n",
    "bpm = [80,100,120]\n",
    "gestureSize = [\"S\",\"M\",\"L\"]"
   ]
  },
  {
   "cell_type": "code",
   "execution_count": null,
   "metadata": {},
   "outputs": [],
   "source": [
    "data.DistanceCoveredSoFar = data.DistanceCoveredSoFar.astype(float)\n",
    "data.VelocityMagnitude = data.VelocityMagnitude.astype(float)\n",
    "data.AngleToBP1 = data.AngleToBP1.astype(float)\n",
    "data.BPM = data.BPM.astype(int)\n",
    "data.Position_Y = data.Position_Y.astype(float)"
   ]
  },
  {
   "cell_type": "code",
   "execution_count": null,
   "metadata": {},
   "outputs": [],
   "source": [
    "newOutputTable = pd.DataFrame({'Trial':[],'BPM':[],'GestureSize':[],'MedianVelocityRegionOne':[]})"
   ]
  },
  {
   "cell_type": "code",
   "execution_count": null,
   "metadata": {},
   "outputs": [],
   "source": [
    "newCleanData = pd.DataFrame({'ID':[],'GestureSize':[],'Velocity_X':[],'Velocity_Y':[],'Velocity_Z':[],'Position_X':[],'Position_Y':[],'Position_z':[],'VelocityMagnitude':[],'TimeRelativeToPrep':[],'AngleToBP1':[],'DistanceCoveredSoFar':[],'Acceleration':[],'BPM':[],'Trial':[]})"
   ]
  },
  {
   "cell_type": "code",
   "execution_count": 389,
   "metadata": {},
   "outputs": [
    {
     "ename": "AttributeError",
     "evalue": "'numpy.int64' object has no attribute 'loc'",
     "output_type": "error",
     "traceback": [
      "\u001b[0;31m---------------------------------------------------------------------------\u001b[0m",
      "\u001b[0;31mAttributeError\u001b[0m                            Traceback (most recent call last)",
      "\u001b[0;32m<ipython-input-389-c68059e995fb>\u001b[0m in \u001b[0;36m<module>\u001b[0;34m\u001b[0m\n\u001b[1;32m     94\u001b[0m \u001b[0;34m\u001b[0m\u001b[0m\n\u001b[1;32m     95\u001b[0m             \u001b[0;31m# We add a new point with Y position of the base plane\u001b[0m\u001b[0;34m\u001b[0m\u001b[0;34m\u001b[0m\u001b[0;34m\u001b[0m\u001b[0m\n\u001b[0;32m---> 96\u001b[0;31m             \u001b[0mIDOfNewPoint\u001b[0m \u001b[0;34m=\u001b[0m \u001b[0mpointPastPlane\u001b[0m\u001b[0;34m.\u001b[0m\u001b[0mloc\u001b[0m\u001b[0;34m[\u001b[0m\u001b[0;34m'ID'\u001b[0m\u001b[0;34m]\u001b[0m \u001b[0;34m+\u001b[0m \u001b[0;34m\"Interp\"\u001b[0m\u001b[0;34m\u001b[0m\u001b[0;34m\u001b[0m\u001b[0m\n\u001b[0m\u001b[1;32m     97\u001b[0m             newPointToBeInterpolated = pd.DataFrame({'Position_Y' : [Position_Y_AtBasePlane],\n\u001b[1;32m     98\u001b[0m                                                      \u001b[0;34m'GestureSize'\u001b[0m\u001b[0;34m:\u001b[0m \u001b[0;34m[\u001b[0m\u001b[0mpointPastPlane\u001b[0m\u001b[0;34m.\u001b[0m\u001b[0mloc\u001b[0m\u001b[0;34m[\u001b[0m\u001b[0;34m'GestureSize'\u001b[0m\u001b[0;34m]\u001b[0m\u001b[0;34m[\u001b[0m\u001b[0;36m0\u001b[0m\u001b[0;34m]\u001b[0m\u001b[0;34m]\u001b[0m\u001b[0;34m,\u001b[0m\u001b[0;34m\u001b[0m\u001b[0;34m\u001b[0m\u001b[0m\n",
      "\u001b[0;31mAttributeError\u001b[0m: 'numpy.int64' object has no attribute 'loc'"
     ]
    }
   ],
   "source": [
    "for g in gestureSize:\n",
    "    for b in bpm:\n",
    "        for i in trials:\n",
    "            # First we slice, by only getting the ith trial\n",
    "            sliceByTrial = data.loc[data.Trial == i]\n",
    "            #Then we slice by getting only gesture g, of trial i\n",
    "            sliceByGesture = sliceByTrial.loc[sliceByTrial.GestureSize == g]\n",
    "            #Then we slice by getting only bpm b, of gesture g and trial i\n",
    "            sliceByBPM = sliceByGesture.loc[sliceByGesture.BPM == b]\n",
    "            \n",
    "            # =======================================\n",
    "            # ============ REGION 1 =================\n",
    "            # =======================================\n",
    "            \n",
    "            # First we need to find the index where the position is highest\n",
    "            # This will correspond to the moment of the prep beat, right before the user moves downwards towards the base plane\n",
    "            # idxmax() is a built in python function that grabs the index of the max value of a given array\n",
    "            globalHighestPointIndex = sliceByBPM.Position_Y.idxmax()\n",
    "            \n",
    "            # The next operation exists because 'globalHighestPointIndex' will give us the index of the highest position, in terms of the indexing of the entire dataset\n",
    "            # So although our now spliced data stored in 'sliceByBPM' has only about 40 data points, we might be getting an index of 6000 or something crazy.\n",
    "            # The reason this is cumbersome is because, a few lines below, we're going to be slicing this dataset from 0 to our 'globalHighestPointIndex'\n",
    "            # Getting the data points from 0 to 6000 doesn't make sense for a 40 data point dataset. So we want a 'local' 'HighestPointIndex'\n",
    "            \n",
    "            # We subtract 'globalHighestPointIndex' by the index of the very first data point in 'sliceByBPM'.\n",
    "            # This gives us the number of items between highestPointIndex and the beginning of the gesture. \n",
    "            # We then add 1 python is not inclusive for the second index in a slice [x:y]\n",
    "            # So to actually include the data point at y we need [x : y+1]\n",
    "            localHighestPointIndex = globalHighestPointIndex - sliceByBPM.index[0] + 1\n",
    "            \n",
    "            # Now we need to get a similar index for the first position where Velocity_Y is positive\n",
    "            # To start we slice the data to get all the points where Velocity_Y is positive\n",
    "            sliceToGetPositiveYVelocity = sliceByBPM.loc[sliceByBPM.Velocity_Y > 0]\n",
    "            \n",
    "            # Then we get the index of the very first data point sliced\n",
    "            globalIndexFirstPositiveYVelocity = sliceToGetPositiveYVelocity.index[0]\n",
    "            # We convert to local and now we have the index we need.\n",
    "            # We don't need to add 1 in this case because python is inclusive on the first index in a slice [x:y]\n",
    "            localIndexFirstPositiveYVelocity = globalIndexFirstPositiveYVelocity - sliceByBPM.index[0]\n",
    "            \n",
    "            # Now we have our region One data\n",
    "            RegionOne = sliceByBPM[localIndexFirstPositiveYVelocity:localHighestPointIndex+1]\n",
    "            \n",
    "            \n",
    "            # =======================================\n",
    "            # ============ REGION 2 =================\n",
    "            # =======================================\n",
    "            \n",
    "            # Now we get the smallest Position_Y of region 1\n",
    "            # We can get it by either getting the first index or actually using the min function!\n",
    "            smallestYPoint_RegionOneIndex = RegionOne.Position_Y.idxmin()\n",
    "            \n",
    "            # We get the highest Y position with our globalHighestPointIndex\n",
    "            y_positionHighestPoint = sliceByBPM.Position_Y[globalHighestPointIndex]\n",
    "            # And our lowest y position with our smallest y point in region 1\n",
    "            y_positionLowestPoint  = sliceByBPM.Position_Y[smallestYPoint_RegionOneIndex]\n",
    "            \n",
    "            # We get the absolute y distance between the lowest and highest points\n",
    "            y_distance = np.absolute(y_positionHighestPoint - y_positionLowestPoint)\n",
    "            # Then we take half of that distance\n",
    "            y_distanceWithinRegion2 = y_distance/2\n",
    "            \n",
    "            # Now let's get everything NOT in Region 1\n",
    "            portionAfterRegionOne = sliceByBPM[localHighestPointIndex+1:]\n",
    "            \n",
    "            # From everything NOT in Region 1 we grab every point that is within y_distanceWithinRegion2 of the highest Y position in Region 1\n",
    "            # And like that we have Region Two \n",
    "            RegionTwo = portionAfterRegionOne[np.absolute(portionAfterRegionOne.Position_Y - y_positionHighestPoint) < y_distanceWithinRegion2]\n",
    "            \n",
    "            # ============================================\n",
    "            # ============ Interpolating =================\n",
    "            # ============================================\n",
    "            \n",
    "            # What to do next\n",
    "            # Need to get the index o the first point that crosses the plane\n",
    "            # Save the index of that point\n",
    "            # Grab a chunk of the entire data set up until that point, and save\n",
    "            # the chunk that's after that point\n",
    "            # Add the point\n",
    "            # reform the data\n",
    "            # Interpolate\n",
    "            # no need to check the bounds as I know for sure that the final point\n",
    "            # doesnt necessarily correspond to lowest Position _Y\n",
    "            # Maybe we don't need to add an entirely new point. Maybe I could just get the time difference and call it a day \n",
    "                        \n",
    "            # First we grab the index of the lowest point in regionOne (base plane)\n",
    "            indexOfLowestYPosition = RegionOne.Position_Y.idxmin()\n",
    "            # And the index of the last position\n",
    "            indexOfLastPosition = sliceByBPM.DistanceCoveredSoFar.idxmax()\n",
    "        \n",
    "            # Now we have the yposition of the base plane, the last point in the set, and the penultimate point\n",
    "            Position_Y_AtBasePlane     = RegionOne.Position_Y.loc[indexOfLowestYPosition]\n",
    "            Position_Y_BeforeBasePlane = sliceByBPM.Position_Y.loc[indexOfLastPosition-1]\n",
    "            Position_Y_AfterBasePlane  = sliceByBPM.Position_Y.loc[indexOfLastPosition]              \n",
    "            \n",
    "            # Here we grab all points after the base plane located below the base plane y position\n",
    "            pointsBelowPlane = portionAfterRegionOne.loc[portionAfterRegionOne.Position_Y < Position_Y_AtBasePlane].iloc[0]\n",
    "            \n",
    "            pointPastPlane   = pointsBelowPlane.iloc[0]\n",
    "            # Here we grab all the point above the base plane and after region one \n",
    "            pointsBeforePlane = portionAfterRegionOne.loc[portionAfterRegionOne.Position_Y > Position_Y_AtBasePlane]\n",
    "            \n",
    "            # Now we grab all of the data, except for the very last point\n",
    "            firstChunkOfData = sliceByBPM[0:indexRightBeforePlane - sliceByBPM.index[0] + 1]\n",
    "            \n",
    "            # We add a new point with Y position of the base plane\n",
    "            IDOfNewPoint = pointPastPlane.loc['ID'] + \"Interp\"\n",
    "            newPointToBeInterpolated = pd.DataFrame({'Position_Y' : [Position_Y_AtBasePlane],\n",
    "                                                     'GestureSize': [pointPastPlane.loc['GestureSize'][0]],\n",
    "                                                     'ID': IDOfNewPoint})\n",
    "            # We add that point to our first Chunk\n",
    "            firstChunkOfData = firstChunkOfData.append(newPointToBeInterpolated,ignore_index = True)\n",
    "            # And add the last point of the originla data set\n",
    "            finalChunkOfData = firstChunkOfData.append(pointPastPlane,ignore_index = True)\n",
    "            \n",
    "            # Now we interpolate the missing values of the 'newPointToBeInterpolated'\n",
    "            finalChunkOfData = finalChunkOfData.interpolate(method ='linear', limit_direction ='forward') \n",
    "            \n",
    "            \n",
    "            #if (pointPastPlane.loc['ID'] != sliceByBPM.iloc[sliceByBPM.Trial.size-1]['ID']):\n",
    "            #    print(\"This condition checks that the point past the plane is also the last point in the sliceByBPM data set\")            \n",
    "            #if ((pointPastPlane.loc['Unnamed: 0'].astype(int) - pointBeforePlane.loc['Unnamed: 0'].astype(int))>1):\n",
    "            #    print(pointPastPlane.loc['Unnamed: 0'].astype(int))\n",
    "            #    print(pointBeforePlane.loc['Unnamed: 0'].astype(int))\n",
    "            #    print(\"This checks to make sure that point before plane is right before the last point in the set\")\n",
    "            # We update our clean data with this new data point\n",
    "            newCleanData = newCleanData.append(finalChunkOfData,ignore_index = True)\n",
    "                \n",
    "            \n",
    "            "
   ]
  },
  {
   "cell_type": "raw",
   "metadata": {},
   "source": [
    "newOutputTable"
   ]
  },
  {
   "cell_type": "code",
   "execution_count": null,
   "metadata": {},
   "outputs": [],
   "source": []
  },
  {
   "cell_type": "code",
   "execution_count": null,
   "metadata": {},
   "outputs": [],
   "source": []
  },
  {
   "cell_type": "code",
   "execution_count": null,
   "metadata": {},
   "outputs": [],
   "source": []
  },
  {
   "cell_type": "code",
   "execution_count": null,
   "metadata": {},
   "outputs": [],
   "source": [
    "newCleanData = newCleanData.loc[:, ~newCleanData.columns.str.contains('^Unnamed')]\n",
    "newCleanData"
   ]
  },
  {
   "cell_type": "code",
   "execution_count": null,
   "metadata": {},
   "outputs": [],
   "source": [
    "newOutputTable.to_csv(r'MedianVelocityRegionOne.csv')"
   ]
  },
  {
   "cell_type": "code",
   "execution_count": null,
   "metadata": {},
   "outputs": [],
   "source": []
  }
 ],
 "metadata": {
  "kernelspec": {
   "display_name": "Python 3",
   "language": "python",
   "name": "python3"
  },
  "language_info": {
   "codemirror_mode": {
    "name": "ipython",
    "version": 3
   },
   "file_extension": ".py",
   "mimetype": "text/x-python",
   "name": "python",
   "nbconvert_exporter": "python",
   "pygments_lexer": "ipython3",
   "version": "3.7.1"
  }
 },
 "nbformat": 4,
 "nbformat_minor": 2
}
