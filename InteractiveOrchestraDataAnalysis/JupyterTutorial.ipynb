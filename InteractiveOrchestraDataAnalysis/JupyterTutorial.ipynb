{
 "cells": [
  {
   "cell_type": "code",
   "execution_count": 174,
   "metadata": {},
   "outputs": [
    {
     "data": {
      "text/plain": [
       "42.0"
      ]
     },
     "execution_count": 174,
     "metadata": {},
     "output_type": "execute_result"
    }
   ],
   "source": [
    "# Hello and welcome to a quick Jupyter Tutorial! \n",
    "# I'll run you down the basics of how our Jupyter document is gonna look like as well as some basic python operations!\n",
    "# For any questions, remember that the python community is active online and you can find most of your answers if you look around!\n",
    "# Let's get started! \n",
    "\n",
    "# By now you're probably weirded out by the node based format of this document\n",
    "# It's not like C# at all. \n",
    "# This is actually the very best part \n",
    "# You can run each node as soon as you type it, by clicking on the 'play' button at the top\n",
    "# or by pressing Shift + enter\n",
    "# I suggest going along this tutorial by running each node.\n",
    "# You'll know you're running correctly if you run this code and the answer to the following operation pops up\n",
    "\n",
    "3566976 / 84928"
   ]
  },
  {
   "cell_type": "code",
   "execution_count": null,
   "metadata": {},
   "outputs": [],
   "source": [
    "# At the top of your document you'll have some import statements\n",
    "# Import statements let you import libraries into jupyter. \n",
    "# The main ones we'll be using are 'pandas' and 'numpy'\n",
    "\n",
    "# 'pandas' is for big data tables. It's a library that provides high performance\n",
    "# easy to use data structures and data anylisis tools.\n",
    "# Part of what's great about it, is that it makes it real easy to store a lot of our big data.\n",
    "import pandas as pd\n",
    "# This import statement is similar to creating an object in Java or C#\n",
    "# We can then use pd to invoke methods specific to 'pandas'\n",
    "# Eg. pd.foo(); pd.fun(3,4);\n",
    "\n",
    "# 'numpy' is an optimized package for scientific computing. There are built in math operations in python, much\n",
    "# like any other programming language, but numpy just has some more complicated stuff, \n",
    "# in case we need them!\n",
    "import numpy as np\n",
    "\n",
    "# We're also going to briefly be using this library, just to extract the xml data into\n",
    "# a workable format\n",
    "import xml.etree.ElementTree as ET\n",
    "\n",
    "\n",
    "# What methods do each of these have?\n",
    "# Lots! I don't know them all! But if you can think about it, it probably exists!\n",
    "# Look up the documentation of pandas and numpy in order to scavenge for methods that\n",
    "# you may need "
   ]
  },
  {
   "cell_type": "code",
   "execution_count": null,
   "metadata": {},
   "outputs": [],
   "source": [
    "# Here's some more variables to run, to get a feel of node based compiling. "
   ]
  },
  {
   "cell_type": "code",
   "execution_count": null,
   "metadata": {},
   "outputs": [],
   "source": [
    "a = 2"
   ]
  },
  {
   "cell_type": "code",
   "execution_count": null,
   "metadata": {},
   "outputs": [],
   "source": [
    "b = 2"
   ]
  },
  {
   "cell_type": "code",
   "execution_count": null,
   "metadata": {},
   "outputs": [],
   "source": [
    "c = a + b "
   ]
  },
  {
   "cell_type": "code",
   "execution_count": null,
   "metadata": {},
   "outputs": [],
   "source": [
    "c"
   ]
  },
  {
   "cell_type": "code",
   "execution_count": null,
   "metadata": {},
   "outputs": [],
   "source": [
    "# If you had skipped to line 5 without running 4 and 3, it would've resulted in an error\n",
    "# So make sure that in one session you run all the lines preceding the one\n",
    "# you're currently working on.\n",
    "\n",
    "# This doesn't mean that you have to go through every line every time. At this moment\n",
    "# The values of a, b and c, are still saved so if you write another expression\n",
    "# you'll be able to use their values. try it out below! "
   ]
  },
  {
   "cell_type": "code",
   "execution_count": null,
   "metadata": {},
   "outputs": [],
   "source": [
    "# Try a - b, a * b, or whatever you'd like:\n",
    "a * b * b"
   ]
  },
  {
   "cell_type": "code",
   "execution_count": null,
   "metadata": {},
   "outputs": [],
   "source": [
    "# Another neat thing about python is that you don't need to define your variables\n",
    "# This leaves the responsibility to the developer to make sure that they're using \n",
    "# the right functions on the right variables\n",
    "\n",
    "# The plus side is that this allows is to save, anything, anywhere. Check it out"
   ]
  },
  {
   "cell_type": "code",
   "execution_count": null,
   "metadata": {},
   "outputs": [],
   "source": [
    "this_is_an_array = [1, 2 ,3 ,4 ,6] "
   ]
  },
  {
   "cell_type": "code",
   "execution_count": null,
   "metadata": {},
   "outputs": [],
   "source": [
    "this_is_an_int = 5"
   ]
  },
  {
   "cell_type": "code",
   "execution_count": null,
   "metadata": {},
   "outputs": [],
   "source": [
    "this_is_another_int = 10"
   ]
  },
  {
   "cell_type": "code",
   "execution_count": null,
   "metadata": {},
   "outputs": [],
   "source": [
    "this_is_an_int + this_is_another_int"
   ]
  },
  {
   "cell_type": "code",
   "execution_count": null,
   "metadata": {},
   "outputs": [],
   "source": [
    "# See? We just assigned a number to a variable that was assigned to a string, but we didn't get an error!\n",
    "this_is_an_int = \"string\""
   ]
  },
  {
   "cell_type": "code",
   "execution_count": null,
   "metadata": {},
   "outputs": [],
   "source": [
    "# But if we try to perform an operation that is meant for numbers, on a string, then we will still get errors so watch out!\n",
    "this_is_an_int + this_is_another_int"
   ]
  },
  {
   "cell_type": "code",
   "execution_count": null,
   "metadata": {},
   "outputs": [],
   "source": [
    "# By this point, if you've only worked with C# or Java, you're looking at each semicolon-less line with horror and disgust\n",
    "# Python doesn't require a semicolon after each line. Instead what you're gonna have to be double checking as you go is indentation\n",
    "# Conditions, loops and functions use indentation to define what section of code they're wrapping around. "
   ]
  },
  {
   "cell_type": "code",
   "execution_count": null,
   "metadata": {},
   "outputs": [],
   "source": [
    "# Only do this\n",
    "if 5 > 3:\n",
    "    print(\"Indentation matters\")"
   ]
  },
  {
   "cell_type": "code",
   "execution_count": null,
   "metadata": {},
   "outputs": [],
   "source": [
    "# Don't do this, only villains do this\n",
    "if 5 > 3:\n",
    "print(\"Indentation matters\")"
   ]
  },
  {
   "cell_type": "code",
   "execution_count": null,
   "metadata": {},
   "outputs": [],
   "source": [
    "# Array can also hold different types within them! \n",
    "for i in [\"String\" , 4, '1']:\n",
    "    print (i)"
   ]
  },
  {
   "cell_type": "code",
   "execution_count": null,
   "metadata": {},
   "outputs": [],
   "source": [
    "# Neat Stuff! \n",
    "# Try out different stuff. Any coding knowledge you have is pretty easily transferable, just with a different format"
   ]
  },
  {
   "cell_type": "code",
   "execution_count": null,
   "metadata": {},
   "outputs": [],
   "source": [
    "# Now moving on to our data specific stuff"
   ]
  },
  {
   "cell_type": "code",
   "execution_count": null,
   "metadata": {},
   "outputs": [],
   "source": [
    "xml_data = '<?xml version=\"1.0\" encoding=\"utf-8\"?><Samples><ConductorSample><ID>4.06S80T1</ID><GestureSize>S</GestureSize><Velocity_X>0.1409131</Velocity_X><Velocity_Y>-0.8407739</Velocity_Y><Velocity_Z>0.3681716</Velocity_Z><Position_X>0.4745525</Position_X><Position_Y>-0.09039881</Position_Y><Position_Z>0.2971818</Position_Z><VelocityMagnitude>0.9286052</VelocityMagnitude><TimeRelativeToPrep>0</TimeRelativeToPrep><AngleToBP1>-999</AngleToBP1><DistanceCoveredSoFar>0</DistanceCoveredSoFar><Acceleration>5.705507</Acceleration><BPM>80</BPM><Trial>1</Trial></ConductorSample><ConductorSample><ID>4.08S80T1</ID><GestureSize>S</GestureSize><Velocity_X>0.1366675</Velocity_X><Velocity_Y>-0.8736829</Velocity_Y><Velocity_Z>0.3772067</Velocity_Z><Position_X>0.4776534</Position_X><Position_Y>-0.1086736</Position_Y><Position_Z>0.3054594</Position_Z><VelocityMagnitude>0.9613972</VelocityMagnitude><TimeRelativeToPrep>0.02</TimeRelativeToPrep><AngleToBP1>-999</AngleToBP1><DistanceCoveredSoFar>0</DistanceCoveredSoFar><Acceleration>5.712706</Acceleration><BPM>80</BPM><Trial>1</Trial></ConductorSample><ConductorSample><ID>4.1S80T1</ID><GestureSize>S</GestureSize><Velocity_X>0.06648421</Velocity_X><Velocity_Y>-1.04389</Velocity_Y><Velocity_Z>0.4147558</Velocity_Z><Position_X>0.4775399</Position_X><Position_Y>-0.1401357</Position_Y><Position_Z>0.3182275</Position_Z><VelocityMagnitude>1.125233</VelocityMagnitude><TimeRelativeToPrep>0.04</TimeRelativeToPrep><AngleToBP1>-999</AngleToBP1><DistanceCoveredSoFar>0</DistanceCoveredSoFar><Acceleration>3.881615</Acceleration><BPM>80</BPM><Trial>1</Trial></ConductorSample><ConductorSample><ID>4.12S80T1</ID><GestureSize>S</GestureSize><Velocity_X>0.01728466</Velocity_X><Velocity_Y>-1.090225</Velocity_Y><Velocity_Z>0.4114785</Velocity_Z><Position_X>0.476837</Position_X><Position_Y>-0.16307</Position_Y><Position_Z>0.3270898</Position_Z><VelocityMagnitude>1.16542</VelocityMagnitude><TimeRelativeToPrep>0.06</TimeRelativeToPrep><AngleToBP1>-999</AngleToBP1><DistanceCoveredSoFar>0</DistanceCoveredSoFar><Acceleration>3.045902</Acceleration><BPM>80</BPM><Trial>1</Trial></ConductorSample><ConductorSample><ID>4.14S80T1</ID><GestureSize>S</GestureSize><Velocity_X>-0.08002147</Velocity_X><Velocity_Y>-1.117624</Velocity_Y><Velocity_Z>0.3975012</Velocity_Z><Position_X>0.4730026</Position_X><Position_Y>-0.1908195</Position_Y><Position_Z>0.337536</Position_Z><VelocityMagnitude>1.188905</VelocityMagnitude><TimeRelativeToPrep>0.08</TimeRelativeToPrep><AngleToBP1>-999</AngleToBP1><DistanceCoveredSoFar>0</DistanceCoveredSoFar><Acceleration>3.958825</Acceleration><BPM>80</BPM><Trial>1</Trial></ConductorSample><ConductorSample><ID>4.16S80T1</ID><GestureSize>S</GestureSize><Velocity_X>-0.1397939</Velocity_X><Velocity_Y>-1.107569</Velocity_Y><Velocity_Z>0.3828098</Velocity_Z><Position_X>0.469023</Position_X><Position_Y>-0.2123145</Position_Y><Position_Z>0.3459269</Position_Z><VelocityMagnitude>1.180168</VelocityMagnitude><TimeRelativeToPrep>0.1</TimeRelativeToPrep><AngleToBP1>-999</AngleToBP1><DistanceCoveredSoFar>0</DistanceCoveredSoFar><Acceleration>4.799973</Acceleration><BPM>80</BPM><Trial>1</Trial></ConductorSample><ConductorSample><ID>4.18S80T1</ID><GestureSize>S</GestureSize><Velocity_X>-0.1397939</Velocity_X><Velocity_Y>-1.107569</Velocity_Y><Velocity_Z>0.3828098</Velocity_Z><Position_X>0.4669761</Position_X><Position_Y>-0.234229</Position_Y><Position_Z>0.3546265</Position_Z><VelocityMagnitude>1.180168</VelocityMagnitude><TimeRelativeToPrep>0.12</TimeRelativeToPrep><AngleToBP1>-999</AngleToBP1><DistanceCoveredSoFar>0</DistanceCoveredSoFar><Acceleration>4.799973</Acceleration><BPM>80</BPM><Trial>1</Trial></ConductorSample><ConductorSample><ID>4.22S80T1</ID><GestureSize>S</GestureSize><Velocity_X>-0.3101454</Velocity_X><Velocity_Y>-0.8264435</Velocity_Y><Velocity_Z>0.2824441</Velocity_Z><Position_X>0.4525103</Position_X><Position_Y>-0.2438301</Position_Y><Position_Z>0.3584433</Position_Z><VelocityMagnitude>0.9268084</VelocityMagnitude><TimeRelativeToPrep>0.16</TimeRelativeToPrep><AngleToBP1>-999</AngleToBP1><DistanceCoveredSoFar>0</DistanceCoveredSoFar><Acceleration>10.86316</Acceleration><BPM>80</BPM><Trial>1</Trial></ConductorSample><ConductorSample><ID>4.24S80T1</ID><GestureSize>S</GestureSize><Velocity_X>-0.4254376</Velocity_X><Velocity_Y>-0.4605381</Velocity_Y><Velocity_Z>0.2419787</Velocity_Z><Position_X>0.4381216</Position_X><Position_Y>-0.2449651</Position_Y><Position_Z>0.3636102</Position_Z><VelocityMagnitude>0.6720462</VelocityMagnitude><TimeRelativeToPrep>0.18</TimeRelativeToPrep><AngleToBP1>-999</AngleToBP1><DistanceCoveredSoFar>0</DistanceCoveredSoFar><Acceleration>13.0242</Acceleration><BPM>80</BPM><Trial>1</Trial></ConductorSample><ConductorSample><ID>4.26S80T1</ID><GestureSize>S</GestureSize><Velocity_X>-0.4610353</Velocity_X><Velocity_Y>-0.310364</Velocity_Y><Velocity_Z>0.2356843</Velocity_Z><Position_X>0.4275772</Position_X><Position_Y>-0.2465285</Position_Y><Position_Z>0.3684396</Position_Z><VelocityMagnitude>0.6036774</VelocityMagnitude><TimeRelativeToPrep>0.2</TimeRelativeToPrep><AngleToBP1>-999</AngleToBP1><DistanceCoveredSoFar>0</DistanceCoveredSoFar><Acceleration>12.88832</Acceleration><BPM>80</BPM><Trial>1</Trial></ConductorSample><ConductorSample><ID>4.3S80T1</ID><GestureSize>S</GestureSize><Velocity_X>-0.5797461</Velocity_X><Velocity_Y>0.2194178</Velocity_Y><Velocity_Z>0.2143464</Velocity_Z><Position_X>0.3988018</Position_X><Position_Y>-0.2244785</Position_Y><Position_Z>0.3773601</Position_Z><VelocityMagnitude>0.6558918</VelocityMagnitude><TimeRelativeToPrep>0.24</TimeRelativeToPrep><AngleToBP1>36.91868</AngleToBP1><DistanceCoveredSoFar>0.03733369</DistanceCoveredSoFar><Acceleration>12.37977</Acceleration><BPM>80</BPM><Trial>1</Trial></ConductorSample><ConductorSample><ID>4.32S80T1</ID><GestureSize>S</GestureSize><Velocity_X>-0.5797461</Velocity_X><Velocity_Y>0.2194178</Velocity_Y><Velocity_Z>0.2143464</Velocity_Z><Position_X>0.3872068</Position_X><Position_Y>-0.2200902</Position_Y><Position_Z>0.3817449</Position_Z><VelocityMagnitude>0.6558918</VelocityMagnitude><TimeRelativeToPrep>0.26</TimeRelativeToPrep><AngleToBP1>29.19842</AngleToBP1><DistanceCoveredSoFar>0.0504839</DistanceCoveredSoFar><Acceleration>12.37977</Acceleration><BPM>80</BPM><Trial>1</Trial></ConductorSample><ConductorSample><ID>4.34S80T1</ID><GestureSize>S</GestureSize><Velocity_X>-0.5864879</Velocity_X><Velocity_Y>0.6492952</Velocity_Y><Velocity_Z>0.1853299</Velocity_Z><Position_X>0.384214</Position_X><Position_Y>-0.1962581</Position_Y><Position_Z>0.3804808</Position_Z><VelocityMagnitude>0.894371</VelocityMagnitude><TimeRelativeToPrep>0.28</TimeRelativeToPrep><AngleToBP1>53.64619</AngleToBP1><DistanceCoveredSoFar>0.07453638</DistanceCoveredSoFar><Acceleration>12.85068</Acceleration><BPM>80</BPM><Trial>1</Trial></ConductorSample><ConductorSample><ID>4.36S80T1</ID><GestureSize>S</GestureSize><Velocity_X>-0.5741081</Velocity_X><Velocity_Y>0.7745831</Velocity_Y><Velocity_Z>0.1741333</Velocity_Z><Position_X>0.3731161</Position_X><Position_Y>-0.1768413</Position_Y><Position_Z>0.3831545</Position_Z><VelocityMagnitude>0.9797456</VelocityMagnitude><TimeRelativeToPrep>0.3</TimeRelativeToPrep><AngleToBP1>55.54963</AngleToBP1><DistanceCoveredSoFar>0.09706024</DistanceCoveredSoFar><Acceleration>12.3094</Acceleration><BPM>80</BPM><Trial>1</Trial></ConductorSample><ConductorSample><ID>4.38S80T1</ID><GestureSize>S</GestureSize><Velocity_X>-0.5390211</Velocity_X><Velocity_Y>1.097329</Velocity_Y><Velocity_Z>0.1207415</Velocity_Z><Position_X>0.3607881</Position_X><Position_Y>-0.1398491</Position_Y><Position_Z>0.3834713</Position_Z><VelocityMagnitude>1.228517</VelocityMagnitude><TimeRelativeToPrep>0.32</TimeRelativeToPrep><AngleToBP1>61.38669</AngleToBP1><DistanceCoveredSoFar>0.1360538</DistanceCoveredSoFar><Acceleration>10.1435</Acceleration><BPM>80</BPM><Trial>1</Trial></ConductorSample><ConductorSample><ID>4.4S80T1</ID><GestureSize>S</GestureSize><Velocity_X>-0.5255359</Velocity_X><Velocity_Y>1.255334</Velocity_Y><Velocity_Z>0.07335792</Velocity_Z><Position_X>0.3505305</Position_X><Position_Y>-0.1096983</Position_Y><Position_Z>0.3826432</Position_Z><VelocityMagnitude>1.362876</VelocityMagnitude><TimeRelativeToPrep>0.34</TimeRelativeToPrep><AngleToBP1>63.73313</AngleToBP1><DistanceCoveredSoFar>0.1679126</DistanceCoveredSoFar><Acceleration>10.41823</Acceleration><BPM>80</BPM><Trial>1</Trial></ConductorSample><ConductorSample><ID>4.42S80T1</ID><GestureSize>S</GestureSize><Velocity_X>-0.5043984</Velocity_X><Velocity_Y>1.563421</Velocity_Y><Velocity_Z>-0.048378</Velocity_Z><Position_X>0.3384878</Position_X><Position_Y>-0.0629122</Position_Y><Position_Z>0.3765621</Position_Z><VelocityMagnitude>1.643485</VelocityMagnitude><TimeRelativeToPrep>0.36</TimeRelativeToPrep><AngleToBP1>66.9537</AngleToBP1><DistanceCoveredSoFar>0.2166049</DistanceCoveredSoFar><Acceleration>9.869573</Acceleration><BPM>80</BPM><Trial>1</Trial></ConductorSample><ConductorSample><ID>4.44S80T1</ID><GestureSize>S</GestureSize><Velocity_X>-0.4984744</Velocity_X><Velocity_Y>1.659339</Velocity_Y><Velocity_Z>-0.107902</Velocity_Z><Position_X>0.3286787</Position_X><Position_Y>-0.02716921</Position_Y><Position_Z>0.37135</Position_Z><VelocityMagnitude>1.735951</VelocityMagnitude><TimeRelativeToPrep>0.38</TimeRelativeToPrep><AngleToBP1>68.23894</AngleToBP1><DistanceCoveredSoFar>0.2540341</DistanceCoveredSoFar><Acceleration>8.915062</Acceleration><BPM>80</BPM><Trial>1</Trial></ConductorSample><ConductorSample><ID>4.46S80T1</ID><GestureSize>S</GestureSize><Velocity_X>-0.4850611</Velocity_X><Velocity_Y>1.815128</Velocity_Y><Velocity_Z>-0.2968532</Velocity_Z><Position_X>0.3170957</Position_X><Position_Y>0.0212346</Position_Y><Position_Z>0.3569557</Position_Z><VelocityMagnitude>1.902129</VelocityMagnitude><TimeRelativeToPrep>0.4</TimeRelativeToPrep><AngleToBP1>69.4744</AngleToBP1><DistanceCoveredSoFar>0.3058442</DistanceCoveredSoFar><Acceleration>7.097132</Acceleration><BPM>80</BPM><Trial>1</Trial></ConductorSample><ConductorSample><ID>4.48S80T1</ID><GestureSize>S</GestureSize><Velocity_X>-0.4775119</Velocity_X><Velocity_Y>1.844593</Velocity_Y><Velocity_Z>-0.3770847</Velocity_Z><Position_X>0.3076849</Position_X><Position_Y>0.05826694</Position_Y><Position_Z>0.3456798</Position_Z><VelocityMagnitude>1.942353</VelocityMagnitude><TimeRelativeToPrep>0.42</TimeRelativeToPrep><AngleToBP1>69.8588</AngleToBP1><DistanceCoveredSoFar>0.3456827</DistanceCoveredSoFar><Acceleration>6.960589</Acceleration><BPM>80</BPM><Trial>1</Trial></ConductorSample><ConductorSample><ID>4.5S80T1</ID><GestureSize>S</GestureSize><Velocity_X>-0.4775119</Velocity_X><Velocity_Y>1.844593</Velocity_Y><Velocity_Z>-0.3770847</Velocity_Z><Position_X>0.2981745</Position_X><Position_Y>0.09430771</Position_Y><Position_Z>0.3371302</Position_Z><VelocityMagnitude>1.942353</VelocityMagnitude><TimeRelativeToPrep>0.44</TimeRelativeToPrep><AngleToBP1>70.11725</AngleToBP1><DistanceCoveredSoFar>0.3839251</DistanceCoveredSoFar><Acceleration>6.960589</Acceleration><BPM>80</BPM><Trial>1</Trial></ConductorSample><ConductorSample><ID>4.52S80T1</ID><GestureSize>S</GestureSize><Velocity_X>-0.4630961</Velocity_X><Velocity_Y>1.843766</Velocity_Y><Velocity_Z>-0.5934635</Velocity_Z><Position_X>0.2961657</Position_X><Position_Y>0.1022765</Position_Y><Position_Z>0.3230985</Position_Z><VelocityMagnitude>1.991515</VelocityMagnitude><TimeRelativeToPrep>0.46</TimeRelativeToPrep><AngleToBP1>69.52286</AngleToBP1><DistanceCoveredSoFar>0.4001863</DistanceCoveredSoFar><Acceleration>6.787778</Acceleration><BPM>80</BPM><Trial>1</Trial></ConductorSample><ConductorSample><ID>4.54S80T1</ID><GestureSize>S</GestureSize><Velocity_X>-0.4622799</Velocity_X><Velocity_Y>1.81619</Velocity_Y><Velocity_Z>-0.6713168</Velocity_Z><Position_X>0.2864918</Position_X><Position_Y>0.1364291</Position_Y><Position_Z>0.3060729</Position_Z><VelocityMagnitude>1.990707</VelocityMagnitude><TimeRelativeToPrep>0.48</TimeRelativeToPrep><AngleToBP1>69.06138</AngleToBP1><DistanceCoveredSoFar>0.4395545</DistanceCoveredSoFar><Acceleration>6.809979</Acceleration><BPM>80</BPM><Trial>1</Trial></ConductorSample><ConductorSample><ID>4.56S80T1</ID><GestureSize>S</GestureSize><Velocity_X>-0.4487537</Velocity_X><Velocity_Y>1.689389</Velocity_Y><Velocity_Z>-0.8456481</Velocity_Z><Position_X>0.2757599</Position_X><Position_Y>0.1723067</Position_Y><Position_Z>0.2785922</Position_Z><VelocityMagnitude>1.941786</VelocityMagnitude><TimeRelativeToPrep>0.5</TimeRelativeToPrep><AngleToBP1>67.85844</AngleToBP1><DistanceCoveredSoFar>0.4860041</DistanceCoveredSoFar><Acceleration>6.836877</Acceleration><BPM>80</BPM><Trial>1</Trial></ConductorSample><ConductorSample><ID>4.58S80T1</ID><GestureSize>S</GestureSize><Velocity_X>-0.4415646</Velocity_X><Velocity_Y>1.619723</Velocity_Y><Velocity_Z>-0.8977987</Velocity_Z><Position_X>0.2672235</Position_X><Position_Y>0.2010833</Position_Y><Position_Z>0.2581397</Position_Z><VelocityMagnitude>1.903818</VelocityMagnitude><TimeRelativeToPrep>0.52</TimeRelativeToPrep><AngleToBP1>67.0292</AngleToBP1><DistanceCoveredSoFar>0.5223258</DistanceCoveredSoFar><Acceleration>7.348384</Acceleration><BPM>80</BPM><Trial>1</Trial></ConductorSample><ConductorSample><ID>4.6S80T1</ID><GestureSize>S</GestureSize><Velocity_X>-0.4217391</Velocity_X><Velocity_Y>1.40797</Velocity_Y><Velocity_Z>-1.008111</Velocity_Z><Position_X>0.2577993</Position_X><Position_Y>0.2275909</Position_Y><Position_Z>0.2290982</Position_Z><VelocityMagnitude>1.782283</VelocityMagnitude><TimeRelativeToPrep>0.54</TimeRelativeToPrep><AngleToBP1>65.47748</AngleToBP1><DistanceCoveredSoFar>0.5627594</DistanceCoveredSoFar><Acceleration>7.247341</Acceleration><BPM>80</BPM><Trial>1</Trial></ConductorSample><ConductorSample><ID>4.62S80T1</ID><GestureSize>S</GestureSize><Velocity_X>-0.403564</Velocity_X><Velocity_Y>1.265627</Velocity_Y><Velocity_Z>-1.060294</Velocity_Z><Position_X>0.2503116</Position_X><Position_Y>0.2472655</Position_Y><Position_Z>0.2057336</Position_Z><VelocityMagnitude>1.699676</VelocityMagnitude><TimeRelativeToPrep>0.56</TimeRelativeToPrep><AngleToBP1>64.23108</AngleToBP1><DistanceCoveredSoFar>0.5942087</DistanceCoveredSoFar><Acceleration>7.810461</Acceleration><BPM>80</BPM><Trial>1</Trial></ConductorSample><ConductorSample><ID>4.64S80T1</ID><GestureSize>S</GestureSize><Velocity_X>-0.3938038</Velocity_X><Velocity_Y>1.010558</Velocity_Y><Velocity_Z>-1.059093</Velocity_Z><Position_X>0.2406815</Position_X><Position_Y>0.2638546</Position_Y><Position_Z>0.1793703</Position_Z><VelocityMagnitude>1.515911</VelocityMagnitude><TimeRelativeToPrep>0.58</TimeRelativeToPrep><AngleToBP1>62.583</AngleToBP1><DistanceCoveredSoFar>0.6268118</DistanceCoveredSoFar><Acceleration>9.048521</Acceleration><BPM>80</BPM><Trial>1</Trial></ConductorSample><ConductorSample><ID>4.66S80T1</ID><GestureSize>S</GestureSize><Velocity_X>-0.3915948</Velocity_X><Velocity_Y>0.9554224</Velocity_Y><Velocity_Z>-1.049711</Velocity_Z><Position_X>0.2327539</Position_X><Position_Y>0.279775</Position_Y><Position_Z>0.1586577</Position_Z><VelocityMagnitude>1.472438</VelocityMagnitude><TimeRelativeToPrep>0.6</TimeRelativeToPrep><AngleToBP1>61.48449</AngleToBP1><DistanceCoveredSoFar>0.6541123</DistanceCoveredSoFar><Acceleration>9.404949</Acceleration><BPM>80</BPM><Trial>1</Trial></ConductorSample><ConductorSample><ID>4.68S80T1</ID><GestureSize>S</GestureSize><Velocity_X>-0.3897175</Velocity_X><Velocity_Y>0.9186571</Velocity_Y><Velocity_Z>-1.041662</Velocity_Z><Position_X>0.2249102</Position_X><Position_Y>0.2949799</Position_Y><Position_Z>0.1383714</Position_Z><VelocityMagnitude>1.442522</VelocityMagnitude><TimeRelativeToPrep>0.62</TimeRelativeToPrep><AngleToBP1>60.45578</AngleToBP1><DistanceCoveredSoFar>0.6806499</DistanceCoveredSoFar><Acceleration>9.363582</Acceleration><BPM>80</BPM><Trial>1</Trial></ConductorSample><ConductorSample><ID>4.72S80T1</ID><GestureSize>S</GestureSize><Velocity_X>-0.3518523</Velocity_X><Velocity_Y>0.6097715</Velocity_Y><Velocity_Z>-0.9086741</Velocity_Z><Position_X>0.2181311</Position_X><Position_Y>0.2950322</Position_Y><Position_Z>0.1217581</Position_Z><VelocityMagnitude>1.149482</VelocityMagnitude><TimeRelativeToPrep>0.66</TimeRelativeToPrep><AngleToBP1>59.06343</AngleToBP1><DistanceCoveredSoFar>0.6985932</DistanceCoveredSoFar><Acceleration>8.898494</Acceleration><BPM>80</BPM><Trial>1</Trial></ConductorSample><ConductorSample><ID>4.74S80T1</ID><GestureSize>S</GestureSize><Velocity_X>-0.2360066</Velocity_X><Velocity_Y>0.3592354</Velocity_Y><Velocity_Z>-0.6966746</Velocity_Z><Position_X>0.2155833</Position_X><Position_Y>0.2953322</Position_Y><Position_Z>0.1109631</Position_Z><VelocityMagnitude>0.8185993</VelocityMagnitude><TimeRelativeToPrep>0.68</TimeRelativeToPrep><AngleToBP1>58.27694</AngleToBP1><DistanceCoveredSoFar>0.7096888</DistanceCoveredSoFar><Acceleration>9.587503</Acceleration><BPM>80</BPM><Trial>1</Trial></ConductorSample><ConductorSample><ID>4.76S80T1</ID><GestureSize>S</GestureSize><Velocity_X>-0.2149378</Velocity_X><Velocity_Y>0.3253841</Velocity_Y><Velocity_Z>-0.6556554</Velocity_Z><Position_X>0.2118254</Position_X><Position_Y>0.3000139</Position_Y><Position_Z>0.09945024</Position_Z><VelocityMagnitude>0.7628611</VelocityMagnitude><TimeRelativeToPrep>0.7</TimeRelativeToPrep><AngleToBP1>57.61433</AngleToBP1><DistanceCoveredSoFar>0.7226729</DistanceCoveredSoFar><Acceleration>9.447027</Acceleration><BPM>80</BPM><Trial>1</Trial></ConductorSample><ConductorSample><ID>4.82S80T1</ID><GestureSize>S</GestureSize><Velocity_X>0.03417885</Velocity_X><Velocity_Y>-0.04487315</Velocity_Y><Velocity_Z>-0.2246158</Velocity_Z><Position_X>0.2178648</Position_X><Position_Y>0.2920144</Position_Y><Position_Z>0.09018186</Position_Z><VelocityMagnitude>0.2315903</VelocityMagnitude><TimeRelativeToPrep>0.76</TimeRelativeToPrep><AngleToBP1>56.90843</AngleToBP1><DistanceCoveredSoFar>0.7363247</DistanceCoveredSoFar><Acceleration>7.677501</Acceleration><BPM>80</BPM><Trial>1</Trial></ConductorSample><ConductorSample><ID>4.86S80T1</ID><GestureSize>S</GestureSize><Velocity_X>0.1689361</Velocity_X><Velocity_Y>-0.2453237</Velocity_Y><Velocity_Z>0.1025905</Velocity_Z><Position_X>0.2279978</Position_X><Position_Y>0.2773968</Position_Y><Position_Z>0.1008378</Position_Z><VelocityMagnitude>0.3150364</VelocityMagnitude><TimeRelativeToPrep>0.8</TimeRelativeToPrep><AngleToBP1>57.30154</AngleToBP1><DistanceCoveredSoFar>0.7570588</DistanceCoveredSoFar><Acceleration>9.581665</Acceleration><BPM>80</BPM><Trial>1</Trial></ConductorSample><ConductorSample><ID>4.88S80T1</ID><GestureSize>S</GestureSize><Velocity_X>0.1847896</Velocity_X><Velocity_Y>-0.3062241</Velocity_Y><Velocity_Z>0.2004891</Velocity_Z><Position_X>0.2320031</Position_X><Position_Y>0.2693712</Position_Y><Position_Z>0.1083167</Position_Z><VelocityMagnitude>0.4100198</VelocityMagnitude><TimeRelativeToPrep>0.82</TimeRelativeToPrep><AngleToBP1>57.56715</AngleToBP1><DistanceCoveredSoFar>0.7687372</DistanceCoveredSoFar><Acceleration>9.741738</Acceleration><BPM>80</BPM><Trial>1</Trial></ConductorSample><ConductorSample><ID>4.9S80T1</ID><GestureSize>S</GestureSize><Velocity_X>0.2023914</Velocity_X><Velocity_Y>-0.5089416</Velocity_Y><Velocity_Z>0.462255</Velocity_Z><Position_X>0.2376622</Position_X><Position_Y>0.2514152</Position_Y><Position_Z>0.127938</Position_Z><VelocityMagnitude>0.7167032</VelocityMagnitude><TimeRelativeToPrep>0.84</TimeRelativeToPrep><AngleToBP1>58.2398</AngleToBP1><DistanceCoveredSoFar>0.7959298</DistanceCoveredSoFar><Acceleration>9.92006</Acceleration><BPM>80</BPM><Trial>1</Trial></ConductorSample><ConductorSample><ID>4.92S80T1</ID><GestureSize>S</GestureSize><Velocity_X>0.1942285</Velocity_X><Velocity_Y>-0.6020176</Velocity_Y><Velocity_Z>0.5715325</Velocity_Z><Position_X>0.2414973</Position_X><Position_Y>0.2370933</Position_Y><Position_Z>0.142815</Position_Z><VelocityMagnitude>0.8525252</VelocityMagnitude><TimeRelativeToPrep>0.86</TimeRelativeToPrep><AngleToBP1>58.72034</AngleToBP1><DistanceCoveredSoFar>0.8169334</DistanceCoveredSoFar><Acceleration>10.52952</Acceleration><BPM>80</BPM><Trial>1</Trial></ConductorSample><ConductorSample><ID>4.94S80T1</ID><GestureSize>S</GestureSize><Velocity_X>0.1942285</Velocity_X><Velocity_Y>-0.6020176</Velocity_Y><Velocity_Z>0.5715325</Velocity_Z><Position_X>0.245489</Position_X><Position_Y>0.2255856</Position_Y><Position_Z>0.1541493</Position_Z><VelocityMagnitude>0.8525252</VelocityMagnitude><TimeRelativeToPrep>0.88</TimeRelativeToPrep><AngleToBP1>59.12968</AngleToBP1><DistanceCoveredSoFar>0.8335716</DistanceCoveredSoFar><Acceleration>10.52952</Acceleration><BPM>80</BPM><Trial>1</Trial></ConductorSample><ConductorSample><ID>4.96S80T1</ID><GestureSize>S</GestureSize><Velocity_X>0.1291837</Velocity_X><Velocity_Y>-0.8814226</Velocity_Y><Velocity_Z>0.8410442</Velocity_Z><Position_X>0.2430258</Position_X><Position_Y>0.2092516</Position_Y><Position_Z>0.1711102</Position_Z><VelocityMagnitude>1.225132</VelocityMagnitude><TimeRelativeToPrep>0.9</TimeRelativeToPrep><AngleToBP1>59.31978</AngleToBP1><DistanceCoveredSoFar>0.8572472</DistanceCoveredSoFar><Acceleration>12.05654</Acceleration><BPM>80</BPM><Trial>1</Trial></ConductorSample><ConductorSample><ID>4.98S80T1</ID><GestureSize>S</GestureSize><Velocity_X>0.1027751</Velocity_X><Velocity_Y>-0.9965029</Velocity_Y><Velocity_Z>0.928995</Velocity_Z><Position_X>0.2444022</Position_X><Position_Y>0.1870676</Position_Y><Position_Z>0.192352</Position_Z><VelocityMagnitude>1.36624</VelocityMagnitude><TimeRelativeToPrep>0.92</TimeRelativeToPrep><AngleToBP1>59.69621</AngleToBP1><DistanceCoveredSoFar>0.887992</DistanceCoveredSoFar><Acceleration>12.37296</Acceleration><BPM>80</BPM><Trial>1</Trial></ConductorSample><ConductorSample><ID>5S80T1</ID><GestureSize>S</GestureSize><Velocity_X>0.03218424</Velocity_X><Velocity_Y>-1.333395</Velocity_Y><Velocity_Z>1.110153</Velocity_Z><Position_X>0.2433069</Position_X><Position_Y>0.1468968</Position_Y><Position_Z>0.225257</Position_Z><VelocityMagnitude>1.735344</VelocityMagnitude><TimeRelativeToPrep>0.94</TimeRelativeToPrep><AngleToBP1>59.55933</AngleToBP1><DistanceCoveredSoFar>0.9399307</DistanceCoveredSoFar><Acceleration>13.57481</Acceleration><BPM>80</BPM><Trial>1</Trial></ConductorSample><ConductorSample><ID>5.02S80T1</ID><GestureSize>S</GestureSize><Velocity_X>0.003800389</Velocity_X><Velocity_Y>-1.512131</Velocity_Y><Velocity_Z>1.171954</Velocity_Z><Position_X>0.2425596</Position_X><Position_Y>0.1117348</Position_Y><Position_Z>0.2519787</Position_Z><VelocityMagnitude>1.913121</VelocityMagnitude><TimeRelativeToPrep>0.96</TimeRelativeToPrep><AngleToBP1>59.0005</AngleToBP1><DistanceCoveredSoFar>0.9841005</DistanceCoveredSoFar><Acceleration>13.79918</Acceleration><BPM>80</BPM><Trial>1</Trial></ConductorSample><ConductorSample><ID>5.04S80T1</ID><GestureSize>S</GestureSize><Velocity_X>-0.03884684</Velocity_X><Velocity_Y>-2.042217</Velocity_Y><Velocity_Z>1.245481</Velocity_Z><Position_X>0.24031</Position_X><Position_Y>0.0521821</Position_Y><Position_Z>0.285818</Position_Z><VelocityMagnitude>2.392359</VelocityMagnitude><TimeRelativeToPrep>0.98</TimeRelativeToPrep><AngleToBP1>56.1507</AngleToBP1><DistanceCoveredSoFar>1.052633</DistanceCoveredSoFar><Acceleration>15.01342</Acceleration><BPM>80</BPM><Trial>1</Trial></ConductorSample><ConductorSample><ID>5.06S80T1</ID><GestureSize>S</GestureSize><Velocity_X>-0.04286069</Velocity_X><Velocity_Y>-2.160045</Velocity_Y><Velocity_Z>1.230628</Velocity_Z><Position_X>0.2391932</Position_X><Position_Y>0.007755765</Position_Y><Position_Z>0.3114769</Position_Z><VelocityMagnitude>2.486378</VelocityMagnitude><TimeRelativeToPrep>1</TimeRelativeToPrep><AngleToBP1>52.92089</AngleToBP1><DistanceCoveredSoFar>1.103949</DistanceCoveredSoFar><Acceleration>14.88139</Acceleration><BPM>80</BPM><Trial>1</Trial></ConductorSample><ConductorSample><ID>5.08S80T1</ID><GestureSize>S</GestureSize><Velocity_X>-0.04286069</Velocity_X><Velocity_Y>-2.160045</Velocity_Y><Velocity_Z>1.230628</Velocity_Z><Position_X>0.2382586</Position_X><Position_Y>-0.0338611</Position_Y><Position_Z>0.3377095</Position_Z><VelocityMagnitude>2.486378</VelocityMagnitude><TimeRelativeToPrep>1.02</TimeRelativeToPrep><AngleToBP1>48.60292</AngleToBP1><DistanceCoveredSoFar>1.153152</DistanceCoveredSoFar><Acceleration>14.88139</Acceleration><BPM>80</BPM><Trial>1</Trial></ConductorSample><ConductorSample><ID>5.1S80T1</ID><GestureSize>S</GestureSize><Velocity_X>0.002789204</Velocity_X><Velocity_Y>-2.515935</Velocity_Y><Velocity_Z>0.9999846</Velocity_Z><Position_X>0.2391957</Position_X><Position_Y>-0.06213589</Position_Y><Position_Z>0.3331406</Position_Z><VelocityMagnitude>2.70738</VelocityMagnitude><TimeRelativeToPrep>1.04</TimeRelativeToPrep><AngleToBP1>44.24699</AngleToBP1><DistanceCoveredSoFar>1.181809</DistanceCoveredSoFar><Acceleration>12.90013</Acceleration><BPM>80</BPM><Trial>1</Trial></ConductorSample><ConductorSample><ID>5.12S80T1</ID><GestureSize>S</GestureSize><Velocity_X>0.03825244</Velocity_X><Velocity_Y>-2.556378</Velocity_Y><Velocity_Z>0.8853469</Velocity_Z><Position_X>0.240451</Position_X><Position_Y>-0.1135352</Position_Y><Position_Z>0.3494852</Position_Z><VelocityMagnitude>2.705619</VelocityMagnitude><TimeRelativeToPrep>1.06</TimeRelativeToPrep><AngleToBP1>34.99755</AngleToBP1><DistanceCoveredSoFar>1.235759</DistanceCoveredSoFar><Acceleration>12.60002</Acceleration><BPM>80</BPM><Trial>1</Trial></ConductorSample><ConductorSample><ID>5.14S80T1</ID><GestureSize>S</GestureSize><Velocity_X>0.1577647</Velocity_X><Velocity_Y>-2.271325</Velocity_Y><Velocity_Z>0.3782441</Velocity_Z><Position_X>0.2463969</Position_X><Position_Y>-0.1645342</Position_Y><Position_Z>0.3484987</Position_Z><VelocityMagnitude>2.308003</VelocityMagnitude><TimeRelativeToPrep>1.08</TimeRelativeToPrep><AngleToBP1>22.71225</AngleToBP1><DistanceCoveredSoFar>1.287113</DistanceCoveredSoFar><Acceleration>22.68049</Acceleration><BPM>80</BPM><Trial>1</Trial></ConductorSample><ConductorSample><ID>5.16S80T1</ID><GestureSize>S</GestureSize><Velocity_X>0.165159</Velocity_X><Velocity_Y>-2.187153</Velocity_Y><Velocity_Z>0.3337651</Velocity_Z><Position_X>0.2492376</Position_X><Position_Y>-0.2057802</Position_Y><Position_Z>0.3560148</Position_Z><VelocityMagnitude>2.218629</VelocityMagnitude><TimeRelativeToPrep>1.1</TimeRelativeToPrep><AngleToBP1>9.943683</AngleToBP1><DistanceCoveredSoFar>1.329135</DistanceCoveredSoFar><Acceleration>24.62992</Acceleration><BPM>80</BPM><Trial>1</Trial></ConductorSample><ConductorSample><ID>5.2S80T1</ID><GestureSize>S</GestureSize><Velocity_X>0.09488861</Velocity_X><Velocity_Y>-1.108552</Velocity_Y><Velocity_Z>0.09865658</Velocity_Z><Position_X>0.2541809</Position_X><Position_Y>-0.2276546</Position_Y><Position_Z>0.3538435</Position_Z><VelocityMagnitude>1.116971</VelocityMagnitude><TimeRelativeToPrep>1.14</TimeRelativeToPrep><AngleToBP1>2.426322</AngleToBP1><DistanceCoveredSoFar>1.351665</DistanceCoveredSoFar><Acceleration>19.9405</Acceleration><BPM>80</BPM><Trial>1</Trial></ConductorSample><ConductorSample><ID>5.22S80T1</ID><GestureSize>S</GestureSize><Velocity_X>-0.1059122</Velocity_X><Velocity_Y>-0.5012243</Velocity_Y><Velocity_Z>0.02785152</Velocity_Z><Position_X>0.2448749</Position_X><Position_Y>-0.221907</Position_Y><Position_Z>0.3535295</Position_Z><VelocityMagnitude>0.5130486</VelocityMagnitude><TimeRelativeToPrep>1.16</TimeRelativeToPrep><AngleToBP1>4.249712</AngleToBP1><DistanceCoveredSoFar>1.362608</DistanceCoveredSoFar><Acceleration>19.68023</Acceleration><BPM>80</BPM><Trial>1</Trial></ConductorSample><ConductorSample><ID>5.26S80T1</ID><GestureSize>S</GestureSize><Velocity_X>-0.2446851</Velocity_X><Velocity_Y>0.2999539</Velocity_Y><Velocity_Z>0.0238231</Velocity_Z><Position_X>0.231466</Position_X><Position_Y>-0.1945862</Position_Y><Position_Z>0.3547844</Position_Z><VelocityMagnitude>0.3878281</VelocityMagnitude><TimeRelativeToPrep>1.2</TimeRelativeToPrep><AngleToBP1>12.4047</AngleToBP1><DistanceCoveredSoFar>1.393067</DistanceCoveredSoFar><Acceleration>17.55009</Acceleration><BPM>80</BPM><Trial>1</Trial></ConductorSample><ConductorSample><ID>5.28S80T1</ID><GestureSize>S</GestureSize><Velocity_X>-0.235934</Velocity_X><Velocity_Y>0.4363462</Velocity_Y><Velocity_Z>0.03695458</Velocity_Z><Position_X>0.2273013</Position_X><Position_Y>-0.1808868</Position_Y><Position_Z>0.3555811</Position_Z><VelocityMagnitude>0.4974218</VelocityMagnitude><TimeRelativeToPrep>1.22</TimeRelativeToPrep><AngleToBP1>16.12972</AngleToBP1><DistanceCoveredSoFar>1.407408</DistanceCoveredSoFar><Acceleration>16.50162</Acceleration><BPM>80</BPM><Trial>1</Trial></ConductorSample><ConductorSample><ID>6.24S80T2</ID><GestureSize>S</GestureSize><Velocity_X>-0.5761687</Velocity_X><Velocity_Y>-1.310067</Velocity_Y><Velocity_Z>0.8504027</Velocity_Z><Position_X>0.2472163</Position_X><Position_Y>-0.1129134</Position_Y><Position_Z>0.4147459</Position_Z><VelocityMagnitude>1.664761</VelocityMagnitude><TimeRelativeToPrep>0</TimeRelativeToPrep><AngleToBP1>-999</AngleToBP1><DistanceCoveredSoFar>0</DistanceCoveredSoFar><Acceleration>12.26135</Acceleration><BPM>80</BPM><Trial>2</Trial></ConductorSample><ConductorSample><ID>6.26S80T2</ID><GestureSize>S</GestureSize><Velocity_X>-0.7429614</Velocity_X><Velocity_Y>-1.425966</Velocity_Y><Velocity_Z>0.8349976</Velocity_Z><Position_X>0.2267961</Position_X><Position_Y>-0.1444608</Position_Y><Position_Z>0.4323424</Position_Z><VelocityMagnitude>1.811792</VelocityMagnitude><TimeRelativeToPrep>0.02</TimeRelativeToPrep><AngleToBP1>-999</AngleToBP1><DistanceCoveredSoFar>0</DistanceCoveredSoFar><Acceleration>10.66205</Acceleration><BPM>80</BPM><Trial>2</Trial></ConductorSample><ConductorSample><ID>6.28S80T2</ID><GestureSize>S</GestureSize><Velocity_X>-1.014544</Velocity_X><Velocity_Y>-1.501034</Velocity_Y><Velocity_Z>0.6922294</Velocity_Z><Position_X>0.1948562</Position_X><Position_Y>-0.183034</Position_Y><Position_Z>0.4468777</Position_Z><VelocityMagnitude>1.93948</VelocityMagnitude><TimeRelativeToPrep>0.04</TimeRelativeToPrep><AngleToBP1>-999</AngleToBP1><DistanceCoveredSoFar>0</DistanceCoveredSoFar><Acceleration>11.14424</Acceleration><BPM>80</BPM><Trial>2</Trial></ConductorSample><ConductorSample><ID>6.3S80T2</ID><GestureSize>S</GestureSize><Velocity_X>-1.17285</Velocity_X><Velocity_Y>-1.481941</Velocity_Y><Velocity_Z>0.5856993</Velocity_Z><Position_X>0.167419</Position_X><Position_Y>-0.2115338</Position_Y><Position_Z>0.457045</Position_Z><VelocityMagnitude>1.978577</VelocityMagnitude><TimeRelativeToPrep>0.06</TimeRelativeToPrep><AngleToBP1>-999</AngleToBP1><DistanceCoveredSoFar>0</DistanceCoveredSoFar><Acceleration>12.74045</Acceleration><BPM>80</BPM><Trial>2</Trial></ConductorSample><ConductorSample><ID>6.32S80T2</ID><GestureSize>S</GestureSize><Velocity_X>-1.19238</Velocity_X><Velocity_Y>-1.476631</Velocity_Y><Velocity_Z>0.5695949</Velocity_Z><Position_X>0.1436286</Position_X><Position_Y>-0.2405056</Position_Y><Position_Z>0.4696482</Position_Z><VelocityMagnitude>1.981577</VelocityMagnitude><TimeRelativeToPrep>0.08</TimeRelativeToPrep><AngleToBP1>-999</AngleToBP1><DistanceCoveredSoFar>0</DistanceCoveredSoFar><Acceleration>12.94083</Acceleration><BPM>80</BPM><Trial>2</Trial></ConductorSample><ConductorSample><ID>6.34S80T2</ID><GestureSize>S</GestureSize><Velocity_X>-1.399859</Velocity_X><Velocity_Y>-1.285237</Velocity_Y><Velocity_Z>0.2459659</Velocity_Z><Position_X>0.127133</Position_X><Position_Y>-0.2377232</Position_Y><Position_Z>0.456716</Position_Z><VelocityMagnitude>1.91623</VelocityMagnitude><TimeRelativeToPrep>0.1</TimeRelativeToPrep><AngleToBP1>-999</AngleToBP1><DistanceCoveredSoFar>0</DistanceCoveredSoFar><Acceleration>17.25257</Acceleration><BPM>80</BPM><Trial>2</Trial></ConductorSample><ConductorSample><ID>6.36S80T2</ID><GestureSize>S</GestureSize><Velocity_X>-1.415268</Velocity_X><Velocity_Y>-1.125828</Velocity_Y><Velocity_Z>0.09412781</Velocity_Z><Position_X>0.0987585</Position_X><Position_Y>-0.2553812</Position_Y><Position_Z>0.4559338</Position_Z><VelocityMagnitude>1.810893</VelocityMagnitude><TimeRelativeToPrep>0.12</TimeRelativeToPrep><AngleToBP1>-999</AngleToBP1><DistanceCoveredSoFar>0</DistanceCoveredSoFar><Acceleration>19.56626</Acceleration><BPM>80</BPM><Trial>2</Trial></ConductorSample><ConductorSample><ID>6.38S80T2</ID><GestureSize>S</GestureSize><Velocity_X>-1.290961</Velocity_X><Velocity_Y>-0.5081698</Velocity_Y><Velocity_Z>-0.2215923</Velocity_Z><Position_X>0.06861097</Position_X><Position_Y>-0.250164</Position_Y><Position_Z>0.4413666</Position_Z><VelocityMagnitude>1.404963</VelocityMagnitude><TimeRelativeToPrep>0.14</TimeRelativeToPrep><AngleToBP1>-999</AngleToBP1><DistanceCoveredSoFar>0</DistanceCoveredSoFar><Acceleration>24.05641</Acceleration><BPM>80</BPM><Trial>2</Trial></ConductorSample><ConductorSample><ID>6.4S80T2</ID><GestureSize>S</GestureSize><Velocity_X>-1.162613</Velocity_X><Velocity_Y>-0.1564634</Velocity_Y><Velocity_Z>-0.2884713</Velocity_Z><Position_X>0.04919419</Position_X><Position_Y>-0.2418855</Position_Y><Position_Z>0.4337287</Position_Z><VelocityMagnitude>1.208042</VelocityMagnitude><TimeRelativeToPrep>0.16</TimeRelativeToPrep><AngleToBP1>-999</AngleToBP1><DistanceCoveredSoFar>0</DistanceCoveredSoFar><Acceleration>22.82542</Acceleration><BPM>80</BPM><Trial>2</Trial></ConductorSample><ConductorSample><ID>6.44S80T2</ID><GestureSize>S</GestureSize><Velocity_X>-0.9261552</Velocity_X><Velocity_Y>0.6639508</Velocity_Y><Velocity_Z>-0.3456373</Velocity_Z><Position_X>0.01265668</Position_X><Position_Y>-0.1947284</Position_Y><Position_Z>0.417083</Position_Z><VelocityMagnitude>1.190823</VelocityMagnitude><TimeRelativeToPrep>0.2</TimeRelativeToPrep><AngleToBP1>47.32821</AngleToBP1><DistanceCoveredSoFar>0.06193436</DistanceCoveredSoFar><Acceleration>18.04745</Acceleration><BPM>80</BPM><Trial>2</Trial></ConductorSample><ConductorSample><ID>6.46S80T2</ID><GestureSize>S</GestureSize><Velocity_X>-0.6704163</Velocity_X><Velocity_Y>1.267294</Velocity_Y><Velocity_Z>-0.3325187</Velocity_Z><Position_X>0.002748646</Position_X><Position_Y>-0.1488082</Position_Y><Position_Z>0.4086765</Position_Z><VelocityMagnitude>1.471754</VelocityMagnitude><TimeRelativeToPrep>0.22</TimeRelativeToPrep><AngleToBP1>64.65505</AngleToBP1><DistanceCoveredSoFar>0.1096575</DistanceCoveredSoFar><Acceleration>20.43517</Acceleration><BPM>80</BPM><Trial>2</Trial></ConductorSample><ConductorSample><ID>6.48S80T2</ID><GestureSize>S</GestureSize><Velocity_X>-0.5560268</Velocity_X><Velocity_Y>1.454941</Velocity_Y><Velocity_Z>-0.3012796</Velocity_Z><Position_X>-0.004969217</Position_X><Position_Y>-0.1148402</Position_Y><Position_Z>0.4027801</Position_Z><VelocityMagnitude>1.586439</VelocityMagnitude><TimeRelativeToPrep>0.24</TimeRelativeToPrep><AngleToBP1>67.73449</AngleToBP1><DistanceCoveredSoFar>0.1449868</DistanceCoveredSoFar><Acceleration>17.58463</Acceleration><BPM>80</BPM><Trial>2</Trial></ConductorSample><ConductorSample><ID>6.5S80T2</ID><GestureSize>S</GestureSize><Velocity_X>-0.5560268</Velocity_X><Velocity_Y>1.454941</Velocity_Y><Velocity_Z>-0.3012796</Velocity_Z><Position_X>-0.01576608</Position_X><Position_Y>-0.08590935</Position_Y><Position_Z>0.3963791</Position_Z><VelocityMagnitude>1.586439</VelocityMagnitude><TimeRelativeToPrep>0.26</TimeRelativeToPrep><AngleToBP1>67.46727</AngleToBP1><DistanceCoveredSoFar>0.1765231</DistanceCoveredSoFar><Acceleration>17.58463</Acceleration><BPM>80</BPM><Trial>2</Trial></ConductorSample><ConductorSample><ID>6.52S80T2</ID><GestureSize>S</GestureSize><Velocity_X>-0.3283843</Velocity_X><Velocity_Y>1.836894</Velocity_Y><Velocity_Z>-0.301607</Velocity_Z><Position_X>-0.00765747</Position_X><Position_Y>-0.0607603</Position_Y><Position_Z>0.3938426</Position_Z><VelocityMagnitude>1.890234</VelocityMagnitude><TimeRelativeToPrep>0.28</TimeRelativeToPrep><AngleToBP1>72.57568</AngleToBP1><DistanceCoveredSoFar>0.2030685</DistanceCoveredSoFar><Acceleration>11.22851</Acceleration><BPM>80</BPM><Trial>2</Trial></ConductorSample><ConductorSample><ID>6.54S80T2</ID><GestureSize>S</GestureSize><Velocity_X>-0.2797832</Velocity_X><Velocity_Y>1.928509</Velocity_Y><Velocity_Z>-0.3348203</Velocity_Z><Position_X>-0.01211103</Position_X><Position_Y>-0.02017242</Position_Y><Position_Z>0.3848148</Position_Z><VelocityMagnitude>1.977253</VelocityMagnitude><TimeRelativeToPrep>0.3</TimeRelativeToPrep><AngleToBP1>73.49842</AngleToBP1><DistanceCoveredSoFar>0.2448862</DistanceCoveredSoFar><Acceleration>10.88315</Acceleration><BPM>80</BPM><Trial>2</Trial></ConductorSample><ConductorSample><ID>6.56S80T2</ID><GestureSize>S</GestureSize><Velocity_X>-0.1424363</Velocity_X><Velocity_Y>2.144206</Velocity_Y><Velocity_Z>-0.4725688</Velocity_Z><Position_X>-0.01199061</Position_X><Position_Y>0.03736147</Position_Y><Position_Z>0.3666733</Position_Z><VelocityMagnitude>2.200279</VelocityMagnitude><TimeRelativeToPrep>0.32</TimeRelativeToPrep><AngleToBP1>74.21757</AngleToBP1><DistanceCoveredSoFar>0.3052126</DistanceCoveredSoFar><Acceleration>9.753289</Acceleration><BPM>80</BPM><Trial>2</Trial></ConductorSample><ConductorSample><ID>6.58S80T2</ID><GestureSize>S</GestureSize><Velocity_X>-0.06990517</Velocity_X><Velocity_Y>2.208651</Velocity_Y><Velocity_Z>-0.5636818</Velocity_Z><Position_X>-0.01101212</Position_X><Position_Y>0.08228926</Position_Y><Position_Z>0.3506022</Position_Z><VelocityMagnitude>2.280518</VelocityMagnitude><TimeRelativeToPrep>0.34</TimeRelativeToPrep><AngleToBP1>74.15296</AngleToBP1><DistanceCoveredSoFar>0.3529383</DistanceCoveredSoFar><Acceleration>9.278444</Acceleration><BPM>80</BPM><Trial>2</Trial></ConductorSample><ConductorSample><ID>6.6S80T2</ID><GestureSize>S</GestureSize><Velocity_X>0.07790048</Velocity_X><Velocity_Y>2.180723</Velocity_Y><Velocity_Z>-0.8152863</Velocity_Z><Position_X>-0.004795868</Position_X><Position_Y>0.1330456</Position_Y><Position_Z>0.3211965</Position_Z><VelocityMagnitude>2.329445</VelocityMagnitude><TimeRelativeToPrep>0.36</TimeRelativeToPrep><AngleToBP1>72.62639</AngleToBP1><DistanceCoveredSoFar>0.4119259</DistanceCoveredSoFar><Acceleration>10.14768</Acceleration><BPM>80</BPM><Trial>2</Trial></ConductorSample><ConductorSample><ID>6.62S80T2</ID><GestureSize>S</GestureSize><Velocity_X>0.1202195</Velocity_X><Velocity_Y>2.090858</Velocity_Y><Velocity_Z>-0.9282678</Velocity_Z><Position_X>-0.001450391</Position_X><Position_Y>0.170052</Position_Y><Position_Z>0.2978867</Position_Z><VelocityMagnitude>2.290812</VelocityMagnitude><TimeRelativeToPrep>0.38</TimeRelativeToPrep><AngleToBP1>71.29673</AngleToBP1><DistanceCoveredSoFar>0.4557895</DistanceCoveredSoFar><Acceleration>11.11357</Acceleration><BPM>80</BPM><Trial>2</Trial></ConductorSample><ConductorSample><ID>6.64S80T2</ID><GestureSize>S</GestureSize><Velocity_X>0.1882014</Velocity_X><Velocity_Y>1.78456</Velocity_Y><Velocity_Z>-1.119899</Velocity_Z><Position_X>0.0047668</Position_X><Position_Y>0.2028241</Position_Y><Position_Z>0.2639969</Position_Z><VelocityMagnitude>2.115242</VelocityMagnitude><TimeRelativeToPrep>0.4</TimeRelativeToPrep><AngleToBP1>68.76232</AngleToBP1><DistanceCoveredSoFar>0.5033414</DistanceCoveredSoFar><Acceleration>11.60071</Acceleration><BPM>80</BPM><Trial>2</Trial></ConductorSample><ConductorSample><ID>6.66S80T2</ID><GestureSize>S</GestureSize><Velocity_X>0.2101574</Velocity_X><Velocity_Y>1.651715</Velocity_Y><Velocity_Z>-1.16179</Velocity_Z><Position_X>0.009496035</Position_X><Position_Y>0.2297753</Position_Y><Position_Z>0.2392258</Position_Z><VelocityMagnitude>2.030292</VelocityMagnitude><TimeRelativeToPrep>0.42</TimeRelativeToPrep><AngleToBP1>67.27136</AngleToBP1><DistanceCoveredSoFar>0.5402514</DistanceCoveredSoFar><Acceleration>11.79758</Acceleration><BPM>80</BPM><Trial>2</Trial></ConductorSample><ConductorSample><ID>6.68S80T2</ID><GestureSize>S</GestureSize><Velocity_X>0.2463004</Velocity_X><Velocity_Y>1.255421</Velocity_Y><Velocity_Z>-1.204902</Velocity_Z><Position_X>0.01641908</Position_X><Position_Y>0.2470989</Position_Y><Position_Z>0.2083149</Position_Z><VelocityMagnitude>1.757423</VelocityMagnitude><TimeRelativeToPrep>0.44</TimeRelativeToPrep><AngleToBP1>64.89368</AngleToBP1><DistanceCoveredSoFar>0.5763557</DistanceCoveredSoFar><Acceleration>13.09465</Acceleration><BPM>80</BPM><Trial>2</Trial></ConductorSample><ConductorSample><ID>6.7S80T2</ID><GestureSize>S</GestureSize><Velocity_X>0.2491167</Velocity_X><Velocity_Y>1.096595</Velocity_Y><Velocity_Z>-1.184736</Velocity_Z><Position_X>0.02096303</Position_X><Position_Y>0.262146</Position_Y><Position_Z>0.1854846</Position_Z><VelocityMagnitude>1.633456</VelocityMagnitude><TimeRelativeToPrep>0.46</TimeRelativeToPrep><AngleToBP1>63.38415</AngleToBP1><DistanceCoveredSoFar>0.6040736</DistanceCoveredSoFar><Acceleration>13.34649</Acceleration><BPM>80</BPM><Trial>2</Trial></ConductorSample><ConductorSample><ID>6.72S80T2</ID><GestureSize>S</GestureSize><Velocity_X>0.2491984</Velocity_X><Velocity_Y>1.07018</Velocity_Y><Velocity_Z>-1.178339</Velocity_Z><Position_X>0.0254484</Position_X><Position_Y>0.2804925</Position_Y><Position_Z>0.1628122</Position_Z><VelocityMagnitude>1.611169</VelocityMagnitude><TimeRelativeToPrep>0.48</TimeRelativeToPrep><AngleToBP1>62.16369</AngleToBP1><DistanceCoveredSoFar>0.6335821</DistanceCoveredSoFar><Acceleration>13.46331</Acceleration><BPM>80</BPM><Trial>2</Trial></ConductorSample><ConductorSample><ID>6.74S80T2</ID><GestureSize>S</GestureSize><Velocity_X>0.2354995</Velocity_X><Velocity_Y>0.7109536</Velocity_Y><Velocity_Z>-0.9932965</Velocity_Z><Position_X>0.02510048</Position_X><Position_Y>0.2666359</Position_Y><Position_Z>0.1664922</Position_Z><VelocityMagnitude>1.244007</VelocityMagnitude><TimeRelativeToPrep>0.5</TimeRelativeToPrep><AngleToBP1>61.82584</AngleToBP1><DistanceCoveredSoFar>0.6479232</DistanceCoveredSoFar><Acceleration>12.99962</Acceleration><BPM>80</BPM><Trial>2</Trial></ConductorSample><ConductorSample><ID>6.76S80T2</ID><GestureSize>S</GestureSize><Velocity_X>0.219146</Velocity_X><Velocity_Y>0.5661682</Velocity_Y><Velocity_Z>-0.8947471</Velocity_Z><Position_X>0.02827857</Position_X><Position_Y>0.2726213</Position_Y><Position_Z>0.1519253</Position_Z><VelocityMagnitude>1.08127</VelocityMagnitude><TimeRelativeToPrep>0.52</TimeRelativeToPrep><AngleToBP1>60.80217</AngleToBP1><DistanceCoveredSoFar>0.6639894</DistanceCoveredSoFar><Acceleration>12.03387</Acceleration><BPM>80</BPM><Trial>2</Trial></ConductorSample><ConductorSample><ID>6.78S80T2</ID><GestureSize>S</GestureSize><Velocity_X>0.182049</Velocity_X><Velocity_Y>0.2690646</Velocity_Y><Velocity_Z>-0.7137954</Velocity_Z><Position_X>0.03174504</Position_X><Position_Y>0.2702822</Position_Y><Position_Z>0.1399607</Position_Z><VelocityMagnitude>0.7842458</VelocityMagnitude><TimeRelativeToPrep>0.54</TimeRelativeToPrep><AngleToBP1>59.62197</AngleToBP1><DistanceCoveredSoFar>0.6766637</DistanceCoveredSoFar><Acceleration>10.18302</Acceleration><BPM>80</BPM><Trial>2</Trial></ConductorSample><ConductorSample><ID>6.8S80T2</ID><GestureSize>S</GestureSize><Velocity_X>0.1756901</Velocity_X><Velocity_Y>0.1665118</Velocity_Y><Velocity_Z>-0.6519441</Velocity_Z><Position_X>0.03499335</Position_X><Position_Y>0.2697322</Position_Y><Position_Z>0.1293712</Position_Z><VelocityMagnitude>0.6954311</VelocityMagnitude><TimeRelativeToPrep>0.56</TimeRelativeToPrep><AngleToBP1>58.66821</AngleToBP1><DistanceCoveredSoFar>0.6877539</DistanceCoveredSoFar><Acceleration>9.685665</Acceleration><BPM>80</BPM><Trial>2</Trial></ConductorSample><ConductorSample><ID>6.82S80T2</ID><GestureSize>S</GestureSize><Velocity_X>0.1910922</Velocity_X><Velocity_Y>-0.06707989</Velocity_Y><Velocity_Z>-0.4470142</Velocity_Z><Position_X>0.04021685</Position_X><Position_Y>0.2606833</Position_Y><Position_Z>0.124857</Position_Z><VelocityMagnitude>0.4907521</VelocityMagnitude><TimeRelativeToPrep>0.58</TimeRelativeToPrep><AngleToBP1>57.78411</AngleToBP1><DistanceCoveredSoFar>0.6991357</DistanceCoveredSoFar><Acceleration>10.33017</Acceleration><BPM>80</BPM><Trial>2</Trial></ConductorSample><ConductorSample><ID>6.86S80T2</ID><GestureSize>S</GestureSize><Velocity_X>0.1923647</Velocity_X><Velocity_Y>-0.2511514</Velocity_Y><Velocity_Z>0.02524958</Velocity_Z><Position_X>0.04826372</Position_X><Position_Y>0.2466843</Position_Y><Position_Z>0.1328351</Position_Z><VelocityMagnitude>0.3173622</VelocityMagnitude><TimeRelativeToPrep>0.62</TimeRelativeToPrep><AngleToBP1>57.67376</AngleToBP1><DistanceCoveredSoFar>0.717146</DistanceCoveredSoFar><Acceleration>11.82417</Acceleration><BPM>80</BPM><Trial>2</Trial></ConductorSample><ConductorSample><ID>6.88S80T2</ID><GestureSize>S</GestureSize><Velocity_X>0.172166</Velocity_X><Velocity_Y>-0.3199831</Velocity_Y><Velocity_Z>0.1628522</Velocity_Z><Position_X>0.05058656</Position_X><Position_Y>0.2384781</Position_Y><Position_Z>0.1402679</Position_Z><VelocityMagnitude>0.3981848</VelocityMagnitude><TimeRelativeToPrep>0.64</TimeRelativeToPrep><AngleToBP1>57.86045</AngleToBP1><DistanceCoveredSoFar>0.7284591</DistanceCoveredSoFar><Acceleration>10.47416</Acceleration><BPM>80</BPM><Trial>2</Trial></ConductorSample><ConductorSample><ID>6.92S80T2</ID><GestureSize>S</GestureSize><Velocity_X>0.1201832</Velocity_X><Velocity_Y>-0.5107559</Velocity_Y><Velocity_Z>0.4042756</Velocity_Z><Position_X>0.05223693</Position_X><Position_Y>0.2213159</Position_Y><Position_Z>0.1568748</Position_Z><VelocityMagnitude>0.6623853</VelocityMagnitude><TimeRelativeToPrep>0.68</TimeRelativeToPrep><AngleToBP1>58.39505</AngleToBP1><DistanceCoveredSoFar>0.7523976</DistanceCoveredSoFar><Acceleration>9.37864</Acceleration><BPM>80</BPM><Trial>2</Trial></ConductorSample><ConductorSample><ID>6.94S80T2</ID><GestureSize>S</GestureSize><Velocity_X>0.08901557</Velocity_X><Velocity_Y>-0.602988</Velocity_Y><Velocity_Z>0.5013256</Velocity_Z><Position_X>0.05347558</Position_X><Position_Y>0.2070309</Position_Y><Position_Z>0.1695263</Position_Z><VelocityMagnitude>0.7892057</VelocityMagnitude><TimeRelativeToPrep>0.7</TimeRelativeToPrep><AngleToBP1>58.76122</AngleToBP1><DistanceCoveredSoFar>0.7715197</DistanceCoveredSoFar><Acceleration>10.13139</Acceleration><BPM>80</BPM><Trial>2</Trial></ConductorSample><ConductorSample><ID>6.96S80T2</ID><GestureSize>S</GestureSize><Velocity_X>-0.03357458</Velocity_X><Velocity_Y>-0.8416596</Velocity_Y><Velocity_Z>0.773528</Velocity_Z><Position_X>0.05034166</Position_X><Position_Y>0.1816764</Position_Y><Position_Z>0.1948521</Position_Z><VelocityMagnitude>1.143619</VelocityMagnitude><TimeRelativeToPrep>0.72</TimeRelativeToPrep><AngleToBP1>59.84257</AngleToBP1><DistanceCoveredSoFar>0.8074929</DistanceCoveredSoFar><Acceleration>13.38789</Acceleration><BPM>80</BPM><Trial>2</Trial></ConductorSample><ConductorSample><ID>6.98S80T2</ID><GestureSize>S</GestureSize><Velocity_X>-0.1088871</Velocity_X><Velocity_Y>-0.9646122</Velocity_Y><Velocity_Z>0.9126459</Velocity_Z><Position_X>0.04631803</Position_X><Position_Y>0.1603494</Position_Y><Position_Z>0.2164608</Position_Z><VelocityMagnitude>1.332387</VelocityMagnitude><TimeRelativeToPrep>0.74</TimeRelativeToPrep><AngleToBP1>60.93607</AngleToBP1><DistanceCoveredSoFar>0.8381191</DistanceCoveredSoFar><Acceleration>14.93171</Acceleration><BPM>80</BPM><Trial>2</Trial></ConductorSample><ConductorSample><ID>7S80T2</ID><GestureSize>S</GestureSize><Velocity_X>-0.2809498</Velocity_X><Velocity_Y>-1.295143</Velocity_Y><Velocity_Z>1.209419</Velocity_Z><Position_X>0.03571025</Position_X><Position_Y>0.1234097</Position_Y><Position_Z>0.253119</Position_Z><VelocityMagnitude>1.794164</VelocityMagnitude><TimeRelativeToPrep>0.76</TimeRelativeToPrep><AngleToBP1>63.13825</AngleToBP1><DistanceCoveredSoFar>0.8912312</DistanceCoveredSoFar><Acceleration>16.87421</Acceleration><BPM>80</BPM><Trial>2</Trial></ConductorSample><ConductorSample><ID>7.02S80T2</ID><GestureSize>S</GestureSize><Velocity_X>-0.3571168</Velocity_X><Velocity_Y>-1.462901</Velocity_Y><Velocity_Z>1.327476</Velocity_Z><Position_X>0.02720394</Position_X><Position_Y>0.09182614</Position_Y><Position_Z>0.2831617</Position_Z><VelocityMagnitude>2.007437</VelocityMagnitude><TimeRelativeToPrep>0.78</TimeRelativeToPrep><AngleToBP1>65.27517</AngleToBP1><DistanceCoveredSoFar>0.9356434</DistanceCoveredSoFar><Acceleration>19.2098</Acceleration><BPM>80</BPM><Trial>2</Trial></ConductorSample><ConductorSample><ID>7.04S80T2</ID><GestureSize>S</GestureSize><Velocity_X>-0.6309961</Velocity_X><Velocity_Y>-2.058855</Velocity_Y><Velocity_Z>1.572576</Velocity_Z><Position_X>0.00559096</Position_X><Position_Y>0.03069347</Position_Y><Position_Z>0.3300551</Position_Z><VelocityMagnitude>2.666465</VelocityMagnitude><TimeRelativeToPrep>0.8</TimeRelativeToPrep><AngleToBP1>68.36679</AngleToBP1><DistanceCoveredSoFar>1.015664</DistanceCoveredSoFar><Acceleration>24.37642</Acceleration><BPM>80</BPM><Trial>2</Trial></ConductorSample><ConductorSample><ID>7.06S80T2</ID><GestureSize>S</GestureSize><Velocity_X>-0.7706836</Velocity_X><Velocity_Y>-2.378779</Velocity_Y><Velocity_Z>1.601468</Velocity_Z><Position_X>-0.01367049</Position_X><Position_Y>-0.02269183</Position_Y><Position_Z>0.3650033</Position_Z><VelocityMagnitude>2.969384</VelocityMagnitude><TimeRelativeToPrep>0.82</TimeRelativeToPrep><AngleToBP1>69.04077</AngleToBP1><DistanceCoveredSoFar>1.082315</DistanceCoveredSoFar><Acceleration>25.34468</Acceleration><BPM>80</BPM><Trial>2</Trial></ConductorSample><ConductorSample><ID>7.08S80T2</ID><GestureSize>S</GestureSize><Velocity_X>-0.7706836</Velocity_X><Velocity_Y>-2.378779</Velocity_Y><Velocity_Z>1.601468</Velocity_Z><Position_X>-0.02920591</Position_X><Position_Y>-0.06788588</Position_Y><Position_Z>0.3993348</Position_Z><VelocityMagnitude>2.969384</VelocityMagnitude><TimeRelativeToPrep>0.84</TimeRelativeToPrep><AngleToBP1>66.43252</AngleToBP1><DistanceCoveredSoFar>1.141158</DistanceCoveredSoFar><Acceleration>25.34468</Acceleration><BPM>80</BPM><Trial>2</Trial></ConductorSample><ConductorSample><ID>7.1S80T2</ID><GestureSize>S</GestureSize><Velocity_X>-0.828763</Velocity_X><Velocity_Y>-2.985261</Velocity_Y><Velocity_Z>1.332534</Velocity_Z><Position_X>-0.03849102</Position_X><Position_Y>-0.1089324</Position_Y><Position_Z>0.3958545</Position_Z><VelocityMagnitude>3.372577</VelocityMagnitude><TimeRelativeToPrep>0.86</TimeRelativeToPrep><AngleToBP1>55.07145</AngleToBP1><DistanceCoveredSoFar>1.183385</DistanceCoveredSoFar><Acceleration>21.90109</Acceleration><BPM>80</BPM><Trial>2</Trial></ConductorSample><ConductorSample><ID>7.12S80T2</ID><GestureSize>S</GestureSize><Velocity_X>-0.6936443</Velocity_X><Velocity_Y>-3.03194</Velocity_Y><Velocity_Z>1.146891</Velocity_Z><Position_X>-0.0498734</Position_X><Position_Y>-0.1695998</Position_Y><Position_Z>0.4163081</Position_Z><VelocityMagnitude>3.314991</VelocityMagnitude><TimeRelativeToPrep>0.88</TimeRelativeToPrep><AngleToBP1>29.545</AngleToBP1><DistanceCoveredSoFar>1.248412</DistanceCoveredSoFar><Acceleration>25.78532</Acceleration><BPM>80</BPM><Trial>2</Trial></ConductorSample><ConductorSample><ID>7.32S80T2</ID><GestureSize>S</GestureSize><Velocity_X>0.1202536</Velocity_X><Velocity_Y>0.4740923</Velocity_Y><Velocity_Z>0.03883618</Velocity_Z><Position_X>-0.01804654</Position_X><Position_Y>-0.2068348</Position_Y><Position_Z>0.3981563</Position_Z><VelocityMagnitude>0.4906452</VelocityMagnitude><TimeRelativeToPrep>1.08</TimeRelativeToPrep><AngleToBP1>8.531659</AngleToBP1><DistanceCoveredSoFar>1.300651</DistanceCoveredSoFar><Acceleration>3.918165</Acceleration><BPM>80</BPM><Trial>2</Trial></ConductorSample><ConductorSample><ID>7.34S80T2</ID><GestureSize>S</GestureSize><Velocity_X>0.1576582</Velocity_X><Velocity_Y>0.491671</Velocity_Y><Velocity_Z>0.05711124</Velocity_Z><Position_X>-0.0133743</Position_X><Position_Y>-0.1962701</Position_Y><Position_Z>0.3995172</Position_Z><VelocityMagnitude>0.5194787</VelocityMagnitude><TimeRelativeToPrep>1.1</TimeRelativeToPrep><AngleToBP1>20.60305</AngleToBP1><DistanceCoveredSoFar>1.312282</DistanceCoveredSoFar><Acceleration>1.779002</Acceleration><BPM>80</BPM><Trial>2</Trial></ConductorSample><ConductorSample><ID>8.56S80T3</ID><GestureSize>S</GestureSize><Velocity_X>-0.01907611</Velocity_X><Velocity_Y>-0.7634718</Velocity_Y><Velocity_Z>0.6560857</Velocity_Z><Position_X>0.4799311</Position_X><Position_Y>-0.1181354</Position_Y><Position_Z>0.3643722</Position_Z><VelocityMagnitude>1.006827</VelocityMagnitude><TimeRelativeToPrep>0</TimeRelativeToPrep><AngleToBP1>-999</AngleToBP1><DistanceCoveredSoFar>0</DistanceCoveredSoFar><Acceleration>11.02187</Acceleration><BPM>80</BPM><Trial>3</Trial></ConductorSample><ConductorSample><ID>8.58S80T3</ID><GestureSize>S</GestureSize><Velocity_X>-0.02445348</Velocity_X><Velocity_Y>-0.7788153</Velocity_Y><Velocity_Z>0.6710362</Velocity_Z><Position_X>0.4804064</Position_X><Position_Y>-0.1337098</Position_Y><Position_Z>0.3782613</Position_Z><VelocityMagnitude>1.028319</VelocityMagnitude><TimeRelativeToPrep>0.02</TimeRelativeToPrep><AngleToBP1>-999</AngleToBP1><DistanceCoveredSoFar>0</DistanceCoveredSoFar><Acceleration>11.07454</Acceleration><BPM>80</BPM><Trial>3</Trial></ConductorSample><ConductorSample><ID>8.6S80T3</ID><GestureSize>S</GestureSize><Velocity_X>-0.2211645</Velocity_X><Velocity_Y>-1.038453</Velocity_Y><Velocity_Z>0.8684157</Velocity_Z><Position_X>0.4697603</Position_X><Position_Y>-0.1672309</Position_Y><Position_Z>0.4092944</Position_Z><VelocityMagnitude>1.371657</VelocityMagnitude><TimeRelativeToPrep>0.04</TimeRelativeToPrep><AngleToBP1>-999</AngleToBP1><DistanceCoveredSoFar>0</DistanceCoveredSoFar><Acceleration>8.285468</Acceleration><BPM>80</BPM><Trial>3</Trial></ConductorSample><ConductorSample><ID>8.62S80T3</ID><GestureSize>S</GestureSize><Velocity_X>-0.3723001</Velocity_X><Velocity_Y>-1.08502</Velocity_Y><Velocity_Z>0.8483427</Velocity_Z><Position_X>0.4589832</Position_X><Position_Y>-0.1897416</Position_Y><Position_Z>0.4264652</Position_Z><VelocityMagnitude>1.426731</VelocityMagnitude><TimeRelativeToPrep>0.06</TimeRelativeToPrep><AngleToBP1>-999</AngleToBP1><DistanceCoveredSoFar>0</DistanceCoveredSoFar><Acceleration>8.155931</Acceleration><BPM>80</BPM><Trial>3</Trial></ConductorSample><ConductorSample><ID>8.64S80T3</ID><GestureSize>S</GestureSize><Velocity_X>-0.618973</Velocity_X><Velocity_Y>-1.050675</Velocity_Y><Velocity_Z>0.7660627</Velocity_Z><Position_X>0.4388036</Position_X><Position_Y>-0.2138959</Position_Y><Position_Z>0.4441927</Position_Z><VelocityMagnitude>1.440104</VelocityMagnitude><TimeRelativeToPrep>0.08</TimeRelativeToPrep><AngleToBP1>-999</AngleToBP1><DistanceCoveredSoFar>0</DistanceCoveredSoFar><Acceleration>10.53096</Acceleration><BPM>80</BPM><Trial>3</Trial></ConductorSample><ConductorSample><ID>8.66S80T3</ID><GestureSize>S</GestureSize><Velocity_X>-0.7908814</Velocity_X><Velocity_Y>-0.9735966</Velocity_Y><Velocity_Z>0.6863852</Velocity_Z><Position_X>0.4186082</Position_X><Position_Y>-0.2305845</Position_Y><Position_Z>0.4573118</Position_Z><VelocityMagnitude>1.429863</VelocityMagnitude><TimeRelativeToPrep>0.1</TimeRelativeToPrep><AngleToBP1>-999</AngleToBP1><DistanceCoveredSoFar>0</DistanceCoveredSoFar><Acceleration>12.21297</Acceleration><BPM>80</BPM><Trial>3</Trial></ConductorSample><ConductorSample><ID>8.68S80T3</ID><GestureSize>S</GestureSize><Velocity_X>-1.00384</Velocity_X><Velocity_Y>-0.6973959</Velocity_Y><Velocity_Z>0.4319622</Velocity_Z><Position_X>0.3876432</Position_X><Position_Y>-0.2408899</Position_Y><Position_Z>0.4639136</Position_Z><VelocityMagnitude>1.296397</VelocityMagnitude><TimeRelativeToPrep>0.12</TimeRelativeToPrep><AngleToBP1>-999</AngleToBP1><DistanceCoveredSoFar>0</DistanceCoveredSoFar><Acceleration>18.14126</Acceleration><BPM>80</BPM><Trial>3</Trial></ConductorSample><ConductorSample><ID>8.7S80T3</ID><GestureSize>S</GestureSize><Velocity_X>-0.9939828</Velocity_X><Velocity_Y>-0.4335764</Velocity_Y><Velocity_Z>0.2692764</Velocity_Z><Position_X>0.3674046</Position_X><Position_Y>-0.2423349</Position_Y><Position_Z>0.4655741</Position_Z><VelocityMagnitude>1.117363</VelocityMagnitude><TimeRelativeToPrep>0.14</TimeRelativeToPrep><AngleToBP1>-999</AngleToBP1><DistanceCoveredSoFar>0</DistanceCoveredSoFar><Acceleration>20.24404</Acceleration><BPM>80</BPM><Trial>3</Trial></ConductorSample><ConductorSample><ID>8.72S80T3</ID><GestureSize>S</GestureSize><Velocity_X>-0.9939828</Velocity_X><Velocity_Y>-0.4335764</Velocity_Y><Velocity_Z>0.2692764</Velocity_Z><Position_X>0.347374</Position_X><Position_Y>-0.2508975</Position_Y><Position_Z>0.4722106</Position_Z><VelocityMagnitude>1.117363</VelocityMagnitude><TimeRelativeToPrep>0.16</TimeRelativeToPrep><AngleToBP1>-999</AngleToBP1><DistanceCoveredSoFar>0</DistanceCoveredSoFar><Acceleration>20.24404</Acceleration><BPM>80</BPM><Trial>3</Trial></ConductorSample><ConductorSample><ID>8.76S80T3</ID><GestureSize>S</GestureSize><Velocity_X>-0.8906567</Velocity_X><Velocity_Y>0.2610095</Velocity_Y><Velocity_Z>-0.01029087</Velocity_Z><Position_X>0.3277046</Position_X><Position_Y>-0.217378</Position_Y><Position_Z>0.4605755</Position_Z><VelocityMagnitude>0.9281709</VelocityMagnitude><TimeRelativeToPrep>0.2</TimeRelativeToPrep><AngleToBP1>23.73836</AngleToBP1><DistanceCoveredSoFar>0.0405687</DistanceCoveredSoFar><Acceleration>18.6622</Acceleration><BPM>80</BPM><Trial>3</Trial></ConductorSample><ConductorSample><ID>8.78S80T3</ID><GestureSize>S</GestureSize><Velocity_X>-0.7772319</Velocity_X><Velocity_Y>0.9550502</Velocity_Y><Velocity_Z>-0.13443</Velocity_Z><Position_X>0.3109189</Position_X><Position_Y>-0.1760218</Position_Y><Position_Z>0.4538555</Position_Z><VelocityMagnitude>1.238661</VelocityMagnitude><TimeRelativeToPrep>0.22</TimeRelativeToPrep><AngleToBP1>54.10453</AngleToBP1><DistanceCoveredSoFar>0.08570468</DistanceCoveredSoFar><Acceleration>24.20745</Acceleration><BPM>80</BPM><Trial>3</Trial></ConductorSample><ConductorSample><ID>8.8S80T3</ID><GestureSize>S</GestureSize><Velocity_X>-0.7091481</Velocity_X><Velocity_Y>1.134126</Velocity_Y><Velocity_Z>-0.1496352</Velocity_Z><Position_X>0.2986668</Position_X><Position_Y>-0.1479265</Position_Y><Position_Z>0.4501058</Position_Z><VelocityMagnitude>1.345928</VelocityMagnitude><TimeRelativeToPrep>0.24</TimeRelativeToPrep><AngleToBP1>57.95026</AngleToBP1><DistanceCoveredSoFar>0.1165837</DistanceCoveredSoFar><Acceleration>23.93205</Acceleration><BPM>80</BPM><Trial>3</Trial></ConductorSample><ConductorSample><ID>8.82S80T3</ID><GestureSize>S</GestureSize><Velocity_X>-0.4606023</Velocity_X><Velocity_Y>1.726415</Velocity_Y><Velocity_Z>-0.2153638</Velocity_Z><Position_X>0.2933765</Position_X><Position_Y>-0.08776735</Position_Y><Position_Z>0.4417426</Position_Z><VelocityMagnitude>1.799735</VelocityMagnitude><TimeRelativeToPrep>0.26</TimeRelativeToPrep><AngleToBP1>67.8771</AngleToBP1><DistanceCoveredSoFar>0.1775514</DistanceCoveredSoFar><Acceleration>15.07237</Acceleration><BPM>80</BPM><Trial>3</Trial></ConductorSample><ConductorSample><ID>8.84S80T3</ID><GestureSize>S</GestureSize><Velocity_X>-0.4246693</Velocity_X><Velocity_Y>1.863189</Velocity_Y><Velocity_Z>-0.246078</Velocity_Z><Position_X>0.2850325</Position_X><Position_Y>-0.04637535</Position_Y><Position_Z>0.4352379</Position_Z><VelocityMagnitude>1.926752</VelocityMagnitude><TimeRelativeToPrep>0.28</TimeRelativeToPrep><AngleToBP1>69.73656</AngleToBP1><DistanceCoveredSoFar>0.2202741</DistanceCoveredSoFar><Acceleration>14.21617</Acceleration><BPM>80</BPM><Trial>3</Trial></ConductorSample><ConductorSample><ID>8.86S80T3</ID><GestureSize>S</GestureSize><Velocity_X>-0.3966502</Velocity_X><Velocity_Y>2.293581</Velocity_Y><Velocity_Z>-0.4058622</Velocity_Z><Position_X>0.2759729</Position_X><Position_Y>0.02260372</Position_Y><Position_Z>0.4196003</Position_Z><VelocityMagnitude>2.362746</VelocityMagnitude><TimeRelativeToPrep>0.3</TimeRelativeToPrep><AngleToBP1>71.86387</AngleToBP1><DistanceCoveredSoFar>0.2915814</DistanceCoveredSoFar><Acceleration>12.44769</Acceleration><BPM>80</BPM><Trial>3</Trial></ConductorSample><ConductorSample><ID>8.88S80T3</ID><GestureSize>S</GestureSize><Velocity_X>-0.405808</Velocity_X><Velocity_Y>2.3994</Velocity_Y><Velocity_Z>-0.4666072</Velocity_Z><Position_X>0.2674956</Position_X><Position_Y>0.07372506</Position_Y><Position_Z>0.4073205</Position_Z><VelocityMagnitude>2.477807</VelocityMagnitude><TimeRelativeToPrep>0.32</TimeRelativeToPrep><AngleToBP1>72.38479</AngleToBP1><DistanceCoveredSoFar>0.3448359</DistanceCoveredSoFar><Acceleration>11.96008</Acceleration><BPM>80</BPM><Trial>3</Trial></ConductorSample><ConductorSample><ID>8.9S80T3</ID><GestureSize>S</GestureSize><Velocity_X>-0.4071334</Velocity_X><Velocity_Y>2.419921</Velocity_Y><Velocity_Z>-0.4795457</Velocity_Z><Position_X>0.2591742</Position_X><Position_Y>0.1226279</Position_Y><Position_Z>0.3962544</Position_Z><VelocityMagnitude>2.500348</VelocityMagnitude><TimeRelativeToPrep>0.34</TimeRelativeToPrep><AngleToBP1>72.73351</AngleToBP1><DistanceCoveredSoFar>0.3956611</DistanceCoveredSoFar><Acceleration>12.01967</Acceleration><BPM>80</BPM><Trial>3</Trial></ConductorSample><ConductorSample><ID>8.92S80T3</ID><GestureSize>S</GestureSize><Velocity_X>-0.410169</Velocity_X><Velocity_Y>2.712095</Velocity_Y><Velocity_Z>-0.712062</Velocity_Z><Position_X>0.2571056</Position_X><Position_Y>0.1487075</Position_Y><Position_Z>0.3802868</Position_Z><VelocityMagnitude>2.833854</VelocityMagnitude><TimeRelativeToPrep>0.36</TimeRelativeToPrep><AngleToBP1>72.22639</AngleToBP1><DistanceCoveredSoFar>0.4263105</DistanceCoveredSoFar><Acceleration>10.67558</Acceleration><BPM>80</BPM><Trial>3</Trial></ConductorSample><ConductorSample><ID>8.94S80T3</ID><GestureSize>S</GestureSize><Velocity_X>-0.4296879</Velocity_X><Velocity_Y>2.767521</Velocity_Y><Velocity_Z>-0.822706</Velocity_Z><Position_X>0.2474654</Position_X><Position_Y>0.2045191</Position_Y><Position_Z>0.3587745</Position_Z><VelocityMagnitude>2.919015</VelocityMagnitude><TimeRelativeToPrep>0.38</TimeRelativeToPrep><AngleToBP1>71.74279</AngleToBP1><DistanceCoveredSoFar>0.4868964</DistanceCoveredSoFar><Acceleration>10.50202</Acceleration><BPM>80</BPM><Trial>3</Trial></ConductorSample><ConductorSample><ID>8.96S80T3</ID><GestureSize>S</GestureSize><Velocity_X>-0.5468811</Velocity_X><Velocity_Y>2.693464</Velocity_Y><Velocity_Z>-1.157081</Velocity_Z><Position_X>0.2297814</Position_X><Position_Y>0.2662622</Position_Y><Position_Z>0.3184385</Position_Z><VelocityMagnitude>2.982057</VelocityMagnitude><TimeRelativeToPrep>0.4</TimeRelativeToPrep><AngleToBP1>69.50636</AngleToBP1><DistanceCoveredSoFar>0.5627378</DistanceCoveredSoFar><Acceleration>12.45198</Acceleration><BPM>80</BPM><Trial>3</Trial></ConductorSample><ConductorSample><ID>8.98S80T3</ID><GestureSize>S</GestureSize><Velocity_X>-0.5906398</Velocity_X><Velocity_Y>2.619221</Velocity_Y><Velocity_Z>-1.248753</Velocity_Z><Position_X>0.2160944</Position_X><Position_Y>0.3140013</Position_Y><Position_Z>0.2893363</Position_Z><VelocityMagnitude>2.961175</VelocityMagnitude><TimeRelativeToPrep>0.42</TimeRelativeToPrep><AngleToBP1>68.25877</AngleToBP1><DistanceCoveredSoFar>0.620299</DistanceCoveredSoFar><Acceleration>12.4741</Acceleration><BPM>80</BPM><Trial>3</Trial></ConductorSample><ConductorSample><ID>9S80T3</ID><GestureSize>S</GestureSize><Velocity_X>-0.6800622</Velocity_X><Velocity_Y>2.249054</Velocity_Y><Velocity_Z>-1.483815</Velocity_Z><Position_X>0.1967597</Position_X><Position_Y>0.3553663</Position_Y><Position_Z>0.2443166</Position_Z><VelocityMagnitude>2.778927</VelocityMagnitude><TimeRelativeToPrep>0.44</TimeRelativeToPrep><AngleToBP1>65.64262</AngleToBP1><DistanceCoveredSoFar>0.6844213</DistanceCoveredSoFar><Acceleration>12.5328</Acceleration><BPM>80</BPM><Trial>3</Trial></ConductorSample><ConductorSample><ID>9.02S80T3</ID><GestureSize>S</GestureSize><Velocity_X>-0.6764778</Velocity_X><Velocity_Y>2.105259</Velocity_Y><Velocity_Z>-1.528563</Velocity_Z><Position_X>0.1835986</Position_X><Position_Y>0.3910868</Position_Y><Position_Z>0.2118225</Position_Z><VelocityMagnitude>2.688167</VelocityMagnitude><TimeRelativeToPrep>0.46</TimeRelativeToPrep><AngleToBP1>64.2584</AngleToBP1><DistanceCoveredSoFar>0.7344717</DistanceCoveredSoFar><Acceleration>12.74665</Acceleration><BPM>80</BPM><Trial>3</Trial></ConductorSample><ConductorSample><ID>9.04S80T3</ID><GestureSize>S</GestureSize><Velocity_X>-0.6157885</Velocity_X><Velocity_Y>1.627509</Velocity_Y><Velocity_Z>-1.557428</Velocity_Z><Position_X>0.1695713</Position_X><Position_Y>0.4175854</Position_Y><Position_Z>0.1709436</Position_Z><VelocityMagnitude>2.335286</VelocityMagnitude><TimeRelativeToPrep>0.48</TimeRelativeToPrep><AngleToBP1>62.17868</AngleToBP1><DistanceCoveredSoFar>0.7851671</DistanceCoveredSoFar><Acceleration>13.81511</Acceleration><BPM>80</BPM><Trial>3</Trial></ConductorSample><ConductorSample><ID>9.06S80T3</ID><GestureSize>S</GestureSize><Velocity_X>-0.5995811</Velocity_X><Velocity_Y>1.485539</Velocity_Y><Velocity_Z>-1.542985</Velocity_Z><Position_X>0.1581699</Position_X><Position_Y>0.4411513</Position_Y><Position_Z>0.1408703</Position_Z><VelocityMagnitude>2.224214</VelocityMagnitude><TimeRelativeToPrep>0.5</TimeRelativeToPrep><AngleToBP1>60.90137</AngleToBP1><DistanceCoveredSoFar>0.8250387</DistanceCoveredSoFar><Acceleration>13.6341</Acceleration><BPM>80</BPM><Trial>3</Trial></ConductorSample><ConductorSample><ID>9.08S80T3</ID><GestureSize>S</GestureSize><Velocity_X>-0.5995811</Velocity_X><Velocity_Y>1.485539</Velocity_Y><Velocity_Z>-1.542985</Velocity_Z><Position_X>0.1463134</Position_X><Position_Y>0.4691537</Position_Y><Position_Z>0.1104967</Position_Z><VelocityMagnitude>2.224214</VelocityMagnitude><TimeRelativeToPrep>0.52</TimeRelativeToPrep><AngleToBP1>59.8638</AngleToBP1><DistanceCoveredSoFar>0.8680186</DistanceCoveredSoFar><Acceleration>13.6341</Acceleration><BPM>80</BPM><Trial>3</Trial></ConductorSample><ConductorSample><ID>9.1S80T3</ID><GestureSize>S</GestureSize><Velocity_X>-0.5499038</Velocity_X><Velocity_Y>1.093297</Velocity_Y><Velocity_Z>-1.470756</Velocity_Z><Position_X>0.1456732</Position_X><Position_Y>0.4543882</Position_Y><Position_Z>0.1078884</Position_Z><VelocityMagnitude>1.913326</VelocityMagnitude><TimeRelativeToPrep>0.54</TimeRelativeToPrep><AngleToBP1>59.16559</AngleToBP1><DistanceCoveredSoFar>0.8830263</DistanceCoveredSoFar><Acceleration>11.68309</Acceleration><BPM>80</BPM><Trial>3</Trial></ConductorSample><ConductorSample><ID>9.12S80T3</ID><GestureSize>S</GestureSize><Velocity_X>-0.5379353</Velocity_X><Velocity_Y>0.962974</Velocity_Y><Velocity_Z>-1.435417</Velocity_Z><Position_X>0.1349604</Position_X><Position_Y>0.4682459</Position_Y><Position_Z>0.08116814</Position_Z><VelocityMagnitude>1.810281</VelocityMagnitude><TimeRelativeToPrep>0.56</TimeRelativeToPrep><AngleToBP1>57.94697</AngleToBP1><DistanceCoveredSoFar>0.9149758</DistanceCoveredSoFar><Acceleration>11.30677</Acceleration><BPM>80</BPM><Trial>3</Trial></ConductorSample><ConductorSample><ID>9.14S80T3</ID><GestureSize>S</GestureSize><Velocity_X>-0.5116586</Velocity_X><Velocity_Y>0.6429005</Velocity_Y><Velocity_Z>-1.325461</Velocity_Z><Position_X>0.1229054</Position_X><Position_Y>0.4739417</Position_Y><Position_Z>0.05279287</Position_Z><VelocityMagnitude>1.559475</VelocityMagnitude><TimeRelativeToPrep>0.58</TimeRelativeToPrep><AngleToBP1>56.37963</AngleToBP1><DistanceCoveredSoFar>0.9463274</DistanceCoveredSoFar><Acceleration>10.05002</Acceleration><BPM>80</BPM><Trial>3</Trial></ConductorSample><ConductorSample><ID>9.16S80T3</ID><GestureSize>S</GestureSize><Velocity_X>-0.4971766</Velocity_X><Velocity_Y>0.5375034</Velocity_Y><Velocity_Z>-1.297635</Velocity_Z><Position_X>0.1134194</Position_X><Position_Y>0.4806647</Position_Y><Position_Z>0.02839986</Position_Z><VelocityMagnitude>1.48995</VelocityMagnitude><TimeRelativeToPrep>0.6</TimeRelativeToPrep><AngleToBP1>55.18704</AngleToBP1><DistanceCoveredSoFar>0.9733496</DistanceCoveredSoFar><Acceleration>8.958672</Acceleration><BPM>80</BPM><Trial>3</Trial></ConductorSample><ConductorSample><ID>9.18S80T3</ID><GestureSize>S</GestureSize><Velocity_X>-0.4393861</Velocity_X><Velocity_Y>0.3101481</Velocity_Y><Velocity_Z>-1.258323</Velocity_Z><Position_X>0.1045411</Position_X><Position_Y>0.4810759</Position_Y><Position_Z>-0.0007828536</Position_Z><VelocityMagnitude>1.36844</VelocityMagnitude><TimeRelativeToPrep>0.62</TimeRelativeToPrep><AngleToBP1>53.5976</AngleToBP1><DistanceCoveredSoFar>1.003856</DistanceCoveredSoFar><Acceleration>7.466236</Acceleration><BPM>80</BPM><Trial>3</Trial></ConductorSample><ConductorSample><ID>9.2S80T3</ID><GestureSize>S</GestureSize><Velocity_X>-0.4201457</Velocity_X><Velocity_Y>0.2090542</Velocity_Y><Velocity_Z>-1.217177</Velocity_Z><Position_X>0.09715171</Position_X><Position_Y>0.4817336</Position_Y><Position_Z>-0.02344249</Position_Z><VelocityMagnitude>1.30451</VelocityMagnitude><TimeRelativeToPrep>0.64</TimeRelativeToPrep><AngleToBP1>52.40734</AngleToBP1><DistanceCoveredSoFar>1.027699</DistanceCoveredSoFar><Acceleration>8.398601</Acceleration><BPM>80</BPM><Trial>3</Trial></ConductorSample><ConductorSample><ID>9.22S80T3</ID><GestureSize>S</GestureSize><Velocity_X>-0.3998022</Velocity_X><Velocity_Y>0.01444969</Velocity_Y><Velocity_Z>-1.0607</Velocity_Z><Position_X>0.08841394</Position_X><Position_Y>0.4760298</Position_Y><Position_Z>-0.04448076</Position_Z><VelocityMagnitude>1.133638</VelocityMagnitude><TimeRelativeToPrep>0.66</TimeRelativeToPrep><AngleToBP1>51.04327</AngleToBP1><DistanceCoveredSoFar>1.051183</DistanceCoveredSoFar><Acceleration>8.271003</Acceleration><BPM>80</BPM><Trial>3</Trial></ConductorSample><ConductorSample><ID>9.24S80T3</ID><GestureSize>S</GestureSize><Velocity_X>-0.3824824</Velocity_X><Velocity_Y>-0.06055646</Velocity_Y><Velocity_Z>-0.9801781</Velocity_Z><Position_X>0.08169916</Position_X><Position_Y>0.4719003</Position_Y><Position_Z>-0.06092333</Position_Z><VelocityMagnitude>1.053902</VelocityMagnitude><TimeRelativeToPrep>0.68</TimeRelativeToPrep><AngleToBP1>50.01323</AngleToBP1><DistanceCoveredSoFar>1.069417</DistanceCoveredSoFar><Acceleration>7.872109</Acceleration><BPM>80</BPM><Trial>3</Trial></ConductorSample><ConductorSample><ID>9.26S80T3</ID><GestureSize>S</GestureSize><Velocity_X>-0.2811899</Velocity_X><Velocity_Y>-0.175155</Velocity_Y><Velocity_Z>-0.7973284</Velocity_Z><Position_X>0.07764287</Position_X><Position_Y>0.4633422</Position_Y><Position_Z>-0.0742975</Position_Z><VelocityMagnitude>0.8634115</VelocityMagnitude><TimeRelativeToPrep>0.7</TimeRelativeToPrep><AngleToBP1>49.00551</AngleToBP1><DistanceCoveredSoFar>1.085805</DistanceCoveredSoFar><Acceleration>7.669287</Acceleration><BPM>80</BPM><Trial>3</Trial></ConductorSample><ConductorSample><ID>9.28S80T3</ID><GestureSize>S</GestureSize><Velocity_X>-0.220982</Velocity_X><Velocity_Y>-0.1894051</Velocity_Y><Velocity_Z>-0.7113485</Velocity_Z><Position_X>0.07501254</Position_X><Position_Y>0.4586398</Position_Y><Position_Z>-0.08516294</Position_Z><VelocityMagnitude>0.7685857</VelocityMagnitude><TimeRelativeToPrep>0.72</TimeRelativeToPrep><AngleToBP1>48.29826</AngleToBP1><DistanceCoveredSoFar>1.097933</DistanceCoveredSoFar><Acceleration>7.63432</Acceleration><BPM>80</BPM><Trial>3</Trial></ConductorSample><ConductorSample><ID>9.3S80T3</ID><GestureSize>S</GestureSize><Velocity_X>-0.2121601</Velocity_X><Velocity_Y>-0.1901724</Velocity_Y><Velocity_Z>-0.6987517</Velocity_Z><Position_X>0.07133809</Position_X><Position_Y>0.4544038</Position_Y><Position_Z>-0.09769888</Position_Z><VelocityMagnitude>0.7546068</VelocityMagnitude><TimeRelativeToPrep>0.74</TimeRelativeToPrep><AngleToBP1>47.52588</AngleToBP1><DistanceCoveredSoFar>1.111666</DistanceCoveredSoFar><Acceleration>7.721589</Acceleration><BPM>80</BPM><Trial>3</Trial></ConductorSample><ConductorSample><ID>9.36S80T3</ID><GestureSize>S</GestureSize><Velocity_X>0.06592351</Velocity_X><Velocity_Y>-0.2388624</Velocity_Y><Velocity_Z>-0.1786538</Velocity_Z><Position_X>0.08116215</Position_X><Position_Y>0.4424369</Position_Y><Position_Z>-0.09657042</Position_Z><VelocityMagnitude>0.3054805</VelocityMagnitude><TimeRelativeToPrep>0.8</TimeRelativeToPrep><AngleToBP1>47.26265</AngleToBP1><DistanceCoveredSoFar>1.12719</DistanceCoveredSoFar><Acceleration>8.080525</Acceleration><BPM>80</BPM><Trial>3</Trial></ConductorSample><ConductorSample><ID>9.4S80T3</ID><GestureSize>S</GestureSize><Velocity_X>0.1765074</Velocity_X><Velocity_Y>-0.2228804</Velocity_Y><Velocity_Z>0.1434099</Velocity_Z><Position_X>0.09006751</Position_X><Position_Y>0.4328781</Position_Y><Position_Z>-0.08667132</Position_Z><VelocityMagnitude>0.3184289</VelocityMagnitude><TimeRelativeToPrep>0.84</TimeRelativeToPrep><AngleToBP1>47.44719</AngleToBP1><DistanceCoveredSoFar>1.143581</DistanceCoveredSoFar><Acceleration>9.376819</Acceleration><BPM>80</BPM><Trial>3</Trial></ConductorSample><ConductorSample><ID>9.42S80T3</ID><GestureSize>S</GestureSize><Velocity_X>0.2046832</Velocity_X><Velocity_Y>-0.2313607</Velocity_Y><Velocity_Z>0.2909434</Velocity_Z><Position_X>0.09476304</Position_X><Position_Y>0.4280336</Position_Y><Position_Z>-0.07664174</Position_Z><VelocityMagnitude>0.4243478</VelocityMagnitude><TimeRelativeToPrep>0.86</TimeRelativeToPrep><AngleToBP1>47.76411</AngleToBP1><DistanceCoveredSoFar>1.155669</DistanceCoveredSoFar><Acceleration>9.394776</Acceleration><BPM>80</BPM><Trial>3</Trial></ConductorSample><ConductorSample><ID>9.44S80T3</ID><GestureSize>S</GestureSize><Velocity_X>0.2668557</Velocity_X><Velocity_Y>-0.2837311</Velocity_Y><Velocity_Z>0.6634383</Velocity_Z><Position_X>0.1019259</Position_X><Position_Y>0.420286</Position_Y><Position_Z>-0.05331274</Position_Z><VelocityMagnitude>0.7693281</VelocityMagnitude><TimeRelativeToPrep>0.88</TimeRelativeToPrep><AngleToBP1>48.60808</AngleToBP1><DistanceCoveredSoFar>1.181273</DistanceCoveredSoFar><Acceleration>8.675234</Acceleration><BPM>80</BPM><Trial>3</Trial></ConductorSample><ConductorSample><ID>9.46S80T3</ID><GestureSize>S</GestureSize><Velocity_X>0.271207</Velocity_X><Velocity_Y>-0.287775</Velocity_Y><Velocity_Z>0.6795726</Velocity_Z><Position_X>0.1073081</Position_X><Position_Y>0.4146004</Position_Y><Position_Z>-0.03967378</Position_Z><VelocityMagnitude>0.7862484</VelocityMagnitude><TimeRelativeToPrep>0.9</TimeRelativeToPrep><AngleToBP1>49.09626</AngleToBP1><DistanceCoveredSoFar>1.196999</DistanceCoveredSoFar><Acceleration>8.597537</Acceleration><BPM>80</BPM><Trial>3</Trial></ConductorSample><ConductorSample><ID>9.48S80T3</ID><GestureSize>S</GestureSize><Velocity_X>0.2756692</Velocity_X><Velocity_Y>-0.2921386</Velocity_Y><Velocity_Z>0.6955757</Velocity_Z><Position_X>0.1128585</Position_X><Position_Y>0.408769</Position_Y><Position_Z>-0.02546039</Position_Z><VelocityMagnitude>0.803221</VelocityMagnitude><TimeRelativeToPrep>0.92</TimeRelativeToPrep><AngleToBP1>49.62506</AngleToBP1><DistanceCoveredSoFar>1.213334</DistanceCoveredSoFar><Acceleration>8.589327</Acceleration><BPM>80</BPM><Trial>3</Trial></ConductorSample><ConductorSample><ID>9.5S80T3</ID><GestureSize>S</GestureSize><Velocity_X>0.411631</Velocity_X><Velocity_Y>-0.5043755</Velocity_Y><Velocity_Z>1.051917</Velocity_Z><Position_X>0.1190015</Position_X><Position_Y>0.4004851</Position_Y><Position_Z>-0.008856011</Position_Z><VelocityMagnitude>1.237079</VelocityMagnitude><TimeRelativeToPrep>0.94</TimeRelativeToPrep><AngleToBP1>50.19195</AngleToBP1><DistanceCoveredSoFar>1.232881</DistanceCoveredSoFar><Acceleration>11.42312</Acceleration><BPM>80</BPM><Trial>3</Trial></ConductorSample><ConductorSample><ID>9.52S80T3</ID><GestureSize>S</GestureSize><Velocity_X>0.4581061</Velocity_X><Velocity_Y>-0.6478744</Velocity_Y><Velocity_Z>1.187596</Velocity_Z><Position_X>0.1282864</Position_X><Position_Y>0.3870268</Position_Y><Position_Z>0.01527074</Position_Z><VelocityMagnitude>1.428281</VelocityMagnitude><TimeRelativeToPrep>0.96</TimeRelativeToPrep><AngleToBP1>51.00422</AngleToBP1><DistanceCoveredSoFar>1.262026</DistanceCoveredSoFar><Acceleration>13.59447</Acceleration><BPM>80</BPM><Trial>3</Trial></ConductorSample><ConductorSample><ID>9.54S80T3</ID><GestureSize>S</GestureSize><Velocity_X>0.4581061</Velocity_X><Velocity_Y>-0.6478744</Velocity_Y><Velocity_Z>1.187596</Velocity_Z><Position_X>0.137301</Position_X><Position_Y>0.3749005</Position_Y><Position_Z>0.03807662</Position_Z><VelocityMagnitude>1.428281</VelocityMagnitude><TimeRelativeToPrep>0.98</TimeRelativeToPrep><AngleToBP1>51.85751</AngleToBP1><DistanceCoveredSoFar>1.289383</DistanceCoveredSoFar><Acceleration>13.59447</Acceleration><BPM>80</BPM><Trial>3</Trial></ConductorSample><ConductorSample><ID>9.56S80T3</ID><GestureSize>S</GestureSize><Velocity_X>0.5078837</Velocity_X><Velocity_Y>-1.158767</Velocity_Y><Velocity_Z>1.544184</Velocity_Z><Position_X>0.1523382</Position_X><Position_Y>0.335149</Position_Y><Position_Z>0.08535572</Position_Z><VelocityMagnitude>1.996295</VelocityMagnitude><TimeRelativeToPrep>1</TimeRelativeToPrep><AngleToBP1>52.99828</AngleToBP1><DistanceCoveredSoFar>1.352957</DistanceCoveredSoFar><Acceleration>19.04297</Acceleration><BPM>80</BPM><Trial>3</Trial></ConductorSample><ConductorSample><ID>9.58S80T3</ID><GestureSize>S</GestureSize><Velocity_X>0.5159428</Velocity_X><Velocity_Y>-1.293959</Velocity_Y><Velocity_Z>1.62303</Velocity_Z><Position_X>0.1631758</Position_X><Position_Y>0.3072526</Position_Y><Position_Z>0.1188564</Position_Z><VelocityMagnitude>2.138867</VelocityMagnitude><TimeRelativeToPrep>1.02</TimeRelativeToPrep><AngleToBP1>53.94815</AngleToBP1><DistanceCoveredSoFar>1.397879</DistanceCoveredSoFar><Acceleration>19.8753</Acceleration><BPM>80</BPM><Trial>3</Trial></ConductorSample><ConductorSample><ID>9.6S80T3</ID><GestureSize>S</GestureSize><Velocity_X>0.5553043</Velocity_X><Velocity_Y>-1.9446</Velocity_Y><Velocity_Z>1.996779</Velocity_Z><Position_X>0.1781747</Position_X><Position_Y>0.2456281</Position_Y><Position_Z>0.1759548</Position_Z><VelocityMagnitude>2.841999</VelocityMagnitude><TimeRelativeToPrep>1.04</TimeRelativeToPrep><AngleToBP1>54.93696</AngleToBP1><DistanceCoveredSoFar>1.483218</DistanceCoveredSoFar><Acceleration>27.4487</Acceleration><BPM>80</BPM><Trial>3</Trial></ConductorSample><ConductorSample><ID>9.62S80T3</ID><GestureSize>S</GestureSize><Velocity_X>0.547178</Velocity_X><Velocity_Y>-2.188499</Velocity_Y><Velocity_Z>2.165366</Velocity_Z><Position_X>0.1888807</Position_X><Position_Y>0.197097</Position_Y><Position_Z>0.2238332</Position_Z><VelocityMagnitude>3.126939</VelocityMagnitude><TimeRelativeToPrep>1.06</TimeRelativeToPrep><AngleToBP1>56.06275</AngleToBP1><DistanceCoveredSoFar>1.552227</DistanceCoveredSoFar><Acceleration>30.98766</Acceleration><BPM>80</BPM><Trial>3</Trial></ConductorSample><ConductorSample><ID>9.64S80T3</ID><GestureSize>S</GestureSize><Velocity_X>0.4042161</Velocity_X><Velocity_Y>-3.176447</Velocity_Y><Velocity_Z>2.681742</Velocity_Z><Position_X>0.1937547</Position_X><Position_Y>0.09667692</Position_Y><Position_Z>0.305529</Position_Z><VelocityMagnitude>4.176715</VelocityMagnitude><TimeRelativeToPrep>1.08</TimeRelativeToPrep><AngleToBP1>55.97629</AngleToBP1><DistanceCoveredSoFar>1.681773</DistanceCoveredSoFar><Acceleration>36.82624</Acceleration><BPM>80</BPM><Trial>3</Trial></ConductorSample><ConductorSample><ID>9.66S80T3</ID><GestureSize>S</GestureSize><Velocity_X>0.3210273</Velocity_X><Velocity_Y>-3.600985</Velocity_Y><Velocity_Z>2.754953</Velocity_Z><Position_X>0.197891</Position_X><Position_Y>0.01490857</Position_Y><Position_Z>0.3645493</Position_Z><VelocityMagnitude>4.545318</VelocityMagnitude><TimeRelativeToPrep>1.1</TimeRelativeToPrep><AngleToBP1>53.68608</AngleToBP1><DistanceCoveredSoFar>1.782701</DistanceCoveredSoFar><Acceleration>35.8896</Acceleration><BPM>80</BPM><Trial>3</Trial></ConductorSample><ConductorSample><ID>9.68S80T3</ID><GestureSize>S</GestureSize><Velocity_X>0.1660484</Velocity_X><Velocity_Y>-4.377348</Velocity_Y><Velocity_Z>2.202673</Velocity_Z><Position_X>0.1967551</Position_X><Position_Y>-0.1135534</Position_Y><Position_Z>0.4099243</Position_Z><VelocityMagnitude>4.903113</VelocityMagnitude><TimeRelativeToPrep>1.12</TimeRelativeToPrep><AngleToBP1>35.3558</AngleToBP1><DistanceCoveredSoFar>1.918946</DistanceCoveredSoFar><Acceleration>32.62496</Acceleration><BPM>80</BPM><Trial>3</Trial></ConductorSample><ConductorSample><ID>9.7S80T3</ID><GestureSize>S</GestureSize><Velocity_X>0.1861277</Velocity_X><Velocity_Y>-4.359915</Velocity_Y><Velocity_Z>1.917421</Velocity_Z><Position_X>0.2005789</Position_X><Position_Y>-0.1987143</Position_Y><Position_Z>0.4428137</Position_Z><VelocityMagnitude>4.766551</VelocityMagnitude><TimeRelativeToPrep>1.14</TimeRelativeToPrep><AngleToBP1>10.32975</AngleToBP1><DistanceCoveredSoFar>2.010317</DistanceCoveredSoFar><Acceleration>38.03069</Acceleration><BPM>80</BPM><Trial>3</Trial></ConductorSample><ConductorSample><ID>9.88S80T3</ID><GestureSize>S</GestureSize><Velocity_X>-0.08337655</Velocity_X><Velocity_Y>0.9348902</Velocity_Y><Velocity_Z>-0.01339957</Velocity_Z><Position_X>0.1880826</Position_X><Position_Y>-0.2189198</Position_Y><Position_Z>0.4133734</Position_Z><VelocityMagnitude>0.9386964</VelocityMagnitude><TimeRelativeToPrep>1.32</TimeRelativeToPrep><AngleToBP1>2.257674</AngleToBP1><DistanceCoveredSoFar>2.048148</DistanceCoveredSoFar><Acceleration>14.56221</Acceleration><BPM>80</BPM><Trial>3</Trial></ConductorSample><ConductorSample><ID>9.9S80T3</ID><GestureSize>S</GestureSize><Velocity_X>-0.07607406</Velocity_X><Velocity_Y>0.9635816</Velocity_Y><Velocity_Z>-0.01599894</Velocity_Z><Position_X>0.1867469</Position_X><Position_Y>-0.1984814</Position_Y><Position_Z>0.4124679</Position_Z><VelocityMagnitude>0.9667123</VelocityMagnitude><TimeRelativeToPrep>1.34</TimeRelativeToPrep><AngleToBP1>9.194965</AngleToBP1><DistanceCoveredSoFar>2.06865</DistanceCoveredSoFar><Acceleration>14.74784</Acceleration><BPM>80</BPM><Trial>3</Trial></ConductorSample></Samples>'"
   ]
  },
  {
   "cell_type": "code",
   "execution_count": null,
   "metadata": {},
   "outputs": [],
   "source": [
    "# The previous line is the xml data obtained in one of our trials. \n",
    "# Let's see what pandas can do. "
   ]
  },
  {
   "cell_type": "code",
   "execution_count": null,
   "metadata": {},
   "outputs": [],
   "source": [
    "dfcols = ['ID','GestureSize','Velocity_X','Velocity_Y','Velocity_Z','Position_X','Position_Y','Position_z','VelocityMagnitude','TimeRelativeToPrep','AngleToBP1','DistanceCoveredSoFar','Acceleration','BPM','Trial']\n",
    "root = ET.fromstring(xml_data)\n"
   ]
  },
  {
   "cell_type": "code",
   "execution_count": null,
   "metadata": {},
   "outputs": [],
   "source": [
    "df = pd.DataFrame(columns = dfcols)"
   ]
  },
  {
   "cell_type": "code",
   "execution_count": null,
   "metadata": {},
   "outputs": [],
   "source": [
    "# Wait what did this do? \n",
    "# Type 'df' in a node and run it to see"
   ]
  },
  {
   "cell_type": "code",
   "execution_count": null,
   "metadata": {},
   "outputs": [],
   "source": [
    "df"
   ]
  },
  {
   "cell_type": "code",
   "execution_count": null,
   "metadata": {},
   "outputs": [],
   "source": [
    "# Pretty neat right? In an undefined variable suddenly we have all of the 'features'\n",
    "# of our data. Now let's populate it"
   ]
  },
  {
   "cell_type": "code",
   "execution_count": null,
   "metadata": {},
   "outputs": [],
   "source": [
    "df_array_to_append = []"
   ]
  },
  {
   "cell_type": "code",
   "execution_count": null,
   "metadata": {},
   "outputs": [],
   "source": [
    "for i in root:\n",
    "    for c in i:\n",
    "        df_array_to_append.append(c.text)\n",
    "    df = df.append(\n",
    "        pd.Series(df_array_to_append, index=dfcols),\n",
    "        ignore_index=True)\n",
    "    df_array_to_append = df_array_to_append[:0]"
   ]
  },
  {
   "cell_type": "code",
   "execution_count": null,
   "metadata": {},
   "outputs": [],
   "source": [
    "# In the inner loop we're essentially filling an array with all the contents of one 'ConductorSample' \n",
    "# In the outer loop we add that array to the bigger data set and then clear the array. \n",
    "# The results? Type 'df' below and run the node"
   ]
  },
  {
   "cell_type": "code",
   "execution_count": null,
   "metadata": {},
   "outputs": [],
   "source": [
    "df"
   ]
  },
  {
   "cell_type": "code",
   "execution_count": null,
   "metadata": {},
   "outputs": [],
   "source": [
    "# WOOH DATA!!! LOOK AT IT! \n",
    "# As mentioned in the other document, this is just a portion of the data we're gonna be looking at. \n",
    "# We're gonna be working with about 3000 data points, so having them all in a compact variable is pretty handy. \n",
    "# It's also handy because grabbing data we need is very easy. "
   ]
  },
  {
   "cell_type": "code",
   "execution_count": null,
   "metadata": {},
   "outputs": [],
   "source": [
    "# We can display and save by feature:\n",
    "df[\"VelocityMagnitude\"] = df[\"VelocityMagnitude\"].astype(float)\n",
    "velocityMagnitude = df[\"VelocityMagnitude\"]"
   ]
  },
  {
   "cell_type": "code",
   "execution_count": null,
   "metadata": {},
   "outputs": [],
   "source": [
    "velocityMagnitude"
   ]
  },
  {
   "cell_type": "code",
   "execution_count": null,
   "metadata": {},
   "outputs": [],
   "source": [
    "# And then grab data points from them\n",
    "velocityMagnitude[3]"
   ]
  },
  {
   "cell_type": "code",
   "execution_count": null,
   "metadata": {},
   "outputs": [],
   "source": [
    "# Or grab interesting information!\n",
    "velocityMagnitudeNumpyArray = np.array(velocityMagnitude)\n",
    "np.median(velocityMagnitudeNumpyArray)"
   ]
  },
  {
   "cell_type": "code",
   "execution_count": null,
   "metadata": {},
   "outputs": [],
   "source": [
    "# This is an example of why 'numpy' is so useful. \n",
    "# Firstly, we need to save the array we're working with as a numpy array\n",
    "# We can then use all the built in numpy functions on this array, such as:"
   ]
  },
  {
   "cell_type": "code",
   "execution_count": null,
   "metadata": {},
   "outputs": [],
   "source": [
    "np.mean(velocityMagnitudeNumpyArray)"
   ]
  },
  {
   "cell_type": "code",
   "execution_count": null,
   "metadata": {},
   "outputs": [],
   "source": [
    "np.sort(velocityMagnitudeNumpyArray)"
   ]
  },
  {
   "cell_type": "code",
   "execution_count": null,
   "metadata": {},
   "outputs": [],
   "source": [
    "np.std(velocityMagnitudeNumpyArray) # Standard Deviation"
   ]
  },
  {
   "cell_type": "code",
   "execution_count": null,
   "metadata": {},
   "outputs": [],
   "source": [
    "# All just generally useful ways of extracting information out of data "
   ]
  },
  {
   "cell_type": "code",
   "execution_count": null,
   "metadata": {},
   "outputs": [],
   "source": [
    "# To get specific portions of data sets, you can also use colons.\n",
    "# One colon basically means 'from'. So [0:2] means from 0 to 2. \n",
    "# Two colons stands for skipping. [0::2] means, get elements at every 2 positions"
   ]
  },
  {
   "cell_type": "code",
   "execution_count": null,
   "metadata": {},
   "outputs": [],
   "source": [
    "# This will get the first 3 elements\n",
    "df[:3]"
   ]
  },
  {
   "cell_type": "code",
   "execution_count": null,
   "metadata": {},
   "outputs": [],
   "source": [
    "# This gets every 3 elements\n",
    "df[::3]"
   ]
  },
  {
   "cell_type": "code",
   "execution_count": null,
   "metadata": {},
   "outputs": [],
   "source": [
    "# This gets every 6 elements, starting at position 3. \n",
    "df[3::6]"
   ]
  },
  {
   "cell_type": "code",
   "execution_count": null,
   "metadata": {},
   "outputs": [],
   "source": [
    "# Combine the use of colons and grabbing features in order to get the data points that you want. \n",
    "# We can also grab data based on conditionals! \n",
    "# Check it out"
   ]
  },
  {
   "cell_type": "code",
   "execution_count": null,
   "metadata": {},
   "outputs": [],
   "source": [
    "# First I grab the data points from position 10 until position 100\n",
    "dataPortion = df[10:100]"
   ]
  },
  {
   "cell_type": "code",
   "execution_count": null,
   "metadata": {},
   "outputs": [],
   "source": [
    "# Then within the parameters where the index usually goes, I instead a conditional statement\n",
    "# This then returns all the points between index 10 and 100 where the velocitymagnitude is greater than 1\n",
    "dataPortion[dataPortion.VelocityMagnitude > 1]"
   ]
  },
  {
   "cell_type": "code",
   "execution_count": null,
   "metadata": {},
   "outputs": [],
   "source": [
    "# Have fun with it! Again, the appealing thing about jupyter in particular is how quickly you can write code and immediately check if it's correct\n",
    "# To practice, try grabbing all the data points that correspond to Trial 2.\n",
    "# Use df[\"SomeFeature\"] = df[\"SomeFeature\"].astype(float) to convert the data in the table into the data type that you need.\n",
    "# Earlier we converted velocityMagnitude into floats in order to find its mean. \n",
    "\n"
   ]
  },
  {
   "cell_type": "code",
   "execution_count": null,
   "metadata": {},
   "outputs": [],
   "source": [
    "# Now output the median of the velocityMagnitude in Trial 2"
   ]
  },
  {
   "cell_type": "code",
   "execution_count": null,
   "metadata": {},
   "outputs": [],
   "source": []
  },
  {
   "cell_type": "code",
   "execution_count": null,
   "metadata": {},
   "outputs": [],
   "source": [
    "# Now backing up, display all the data in Trial 2 where the angletoBP1 is greater than 50"
   ]
  },
  {
   "cell_type": "code",
   "execution_count": null,
   "metadata": {},
   "outputs": [],
   "source": []
  },
  {
   "cell_type": "code",
   "execution_count": null,
   "metadata": {},
   "outputs": [],
   "source": [
    "# Let me know if you have any questions on Slack! "
   ]
  },
  {
   "cell_type": "code",
   "execution_count": null,
   "metadata": {},
   "outputs": [],
   "source": []
  }
 ],
 "metadata": {
  "kernelspec": {
   "display_name": "Python 3",
   "language": "python",
   "name": "python3"
  },
  "language_info": {
   "codemirror_mode": {
    "name": "ipython",
    "version": 3
   },
   "file_extension": ".py",
   "mimetype": "text/x-python",
   "name": "python",
   "nbconvert_exporter": "python",
   "pygments_lexer": "ipython3",
   "version": "3.7.3"
  }
 },
 "nbformat": 4,
 "nbformat_minor": 2
}
