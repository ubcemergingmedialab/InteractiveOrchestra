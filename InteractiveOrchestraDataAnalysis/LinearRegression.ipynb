{
 "cells": [
  {
   "cell_type": "code",
   "execution_count": null,
   "metadata": {},
   "outputs": [],
   "source": [
    "import pandas as pd\n",
    "import numpy as np\n",
    "import matplotlib.pyplot as plt\n",
    "import seaborn as sns\n",
    "sns.set(style=\"darkgrid\")\n",
    "from sklearn import linear_model\n",
    "from sklearn.linear_model import LinearRegression"
   ]
  },
  {
   "cell_type": "code",
   "execution_count": null,
   "metadata": {},
   "outputs": [],
   "source": [
    "algoData = pd.read_csv(r'CombinedAlgorithmData.csv')\n",
    "# Automatic Cross validation and picks a hyper parameter for regularization given a list of small lambda values\n",
    "reg = linear_model.RidgeCV(alphas=np.logspace(-8,8,15))\n",
    "algoData = algoData.iloc[:,4:23]\n",
    "\n",
    "algoData = algoData.sample(frac=1).reset_index(drop=True)\n",
    "algoData"
   ]
  },
  {
   "cell_type": "code",
   "execution_count": null,
   "metadata": {},
   "outputs": [],
   "source": [
    "trainingSize = np.arange(20,357,20)\n",
    "X = algoData.iloc[:,0:18]\n",
    "y = algoData.iloc[:,-1]\n",
    "y = y.astype(float)\n",
    "X = X.astype(float)\n",
    "X"
   ]
  },
  {
   "cell_type": "raw",
   "metadata": {},
   "source": []
  },
  {
   "cell_type": "code",
   "execution_count": null,
   "metadata": {},
   "outputs": [],
   "source": [
    "mu, sigma = 0, 0.1\n",
    "noise = np.random.normal(mu,sigma,[algoData.shape[0],algoData.shape[1]])\n",
    "algoDataNoisy = algoData.astype(float) + noise\n",
    "XNoise = algoData.iloc[:,0:18]\n",
    "yNoise = algoData.iloc[:,-1]\n",
    "yNoise = yNoise.astype(float)\n",
    "XNoise = XNoise.astype(float)"
   ]
  },
  {
   "cell_type": "code",
   "execution_count": null,
   "metadata": {},
   "outputs": [],
   "source": [
    "optimalSize = int(358*.7)\n",
    "#maxScore = 0\n",
    "#for size in trainingSize:\n",
    "#    X_train = X[:size].append(XNoise[:size])\n",
    "#    y_train = y[:size].append(yNoise[:size])\n",
    "#    X_test = X[size:].append(XNoise[size:])\n",
    "#    y_test = y[size:].append(yNoise[size:])\n",
    "#    model = reg.fit(X_train,y_train)\n",
    "#    if model.score(X_test,y_test) > maxScore:\n",
    "#        maxScore = model.score(X_test,y_test)\n",
    "        #optimalSize = size\n",
    "#    print(size)"
   ]
  },
  {
   "cell_type": "code",
   "execution_count": null,
   "metadata": {},
   "outputs": [],
   "source": [
    "X_train = X[:optimalSize].append(XNoise[:optimalSize])\n",
    "y_train = y[:optimalSize].append(yNoise[:optimalSize])\n",
    "X_test = X[optimalSize:].append(XNoise[optimalSize:])\n",
    "y_test = y[optimalSize:].append(yNoise[optimalSize:])"
   ]
  },
  {
   "cell_type": "code",
   "execution_count": null,
   "metadata": {},
   "outputs": [],
   "source": [
    "optimalSize"
   ]
  },
  {
   "cell_type": "code",
   "execution_count": null,
   "metadata": {},
   "outputs": [],
   "source": [
    "model = reg.fit(X_train,y_train)\n",
    "reg.alpha_"
   ]
  },
  {
   "cell_type": "code",
   "execution_count": 206,
   "metadata": {},
   "outputs": [
    {
     "data": {
      "text/plain": [
       "1.0391687510491466e-16"
      ]
     },
     "execution_count": 206,
     "metadata": {},
     "output_type": "execute_result"
    }
   ],
   "source": [
    "np.mean(model.predict(X_train) - y_train)"
   ]
  },
  {
   "cell_type": "code",
   "execution_count": 207,
   "metadata": {},
   "outputs": [
    {
     "data": {
      "text/plain": [
       "0.004515903870008372"
      ]
     },
     "execution_count": 207,
     "metadata": {},
     "output_type": "execute_result"
    }
   ],
   "source": [
    "np.mean(model.predict(X_test) - y_test)"
   ]
  },
  {
   "cell_type": "code",
   "execution_count": 208,
   "metadata": {},
   "outputs": [
    {
     "name": "stdout",
     "output_type": "stream",
     "text": [
      "0.9694371928706356\n"
     ]
    }
   ],
   "source": [
    "print(model.score(X_test,y_test))"
   ]
  },
  {
   "cell_type": "code",
   "execution_count": 209,
   "metadata": {},
   "outputs": [
    {
     "name": "stdout",
     "output_type": "stream",
     "text": [
      "250    0.45\n",
      "251    0.41\n",
      "252    0.71\n",
      "253    0.53\n",
      "254    0.53\n",
      "255    0.55\n",
      "256    0.45\n",
      "257    0.53\n",
      "258    0.48\n",
      "259    0.45\n",
      "260    0.47\n",
      "261    0.55\n",
      "262    0.47\n",
      "263    0.53\n",
      "264    0.43\n",
      "265    0.47\n",
      "266    0.57\n",
      "267    0.59\n",
      "268    0.65\n",
      "269    0.59\n",
      "270    0.45\n",
      "271    0.45\n",
      "272    0.77\n",
      "273    0.41\n",
      "274    0.45\n",
      "275    0.47\n",
      "276    0.63\n",
      "277    0.49\n",
      "278    0.41\n",
      "279    0.45\n",
      "       ... \n",
      "328    0.65\n",
      "329    0.41\n",
      "330    0.51\n",
      "331    0.55\n",
      "332    0.51\n",
      "333    0.59\n",
      "334    0.71\n",
      "335    0.45\n",
      "336    0.63\n",
      "337    0.51\n",
      "338    0.53\n",
      "339    0.67\n",
      "340    0.43\n",
      "341    0.55\n",
      "342    0.67\n",
      "343    0.67\n",
      "344    0.51\n",
      "345    0.45\n",
      "346    0.43\n",
      "347    0.63\n",
      "348    0.53\n",
      "349    0.47\n",
      "350    0.59\n",
      "351    0.53\n",
      "352    0.57\n",
      "353    0.39\n",
      "354    0.43\n",
      "355    0.57\n",
      "356    0.49\n",
      "357    0.51\n",
      "Name: TimeDifferenceBetweenCollisions, Length: 216, dtype: float64 [0.45106931 0.42555007 0.73307535 0.52642484 0.52682096 0.57049852\n",
      " 0.43083025 0.54206877 0.48875482 0.43317695 0.47815788 0.55377391\n",
      " 0.45922872 0.52704322 0.43670617 0.45720158 0.55096397 0.59987543\n",
      " 0.63979318 0.60135624 0.45867855 0.44864723 0.75254007 0.4503413\n",
      " 0.45826822 0.48192672 0.62945492 0.51912886 0.41698822 0.4614503\n",
      " 0.42232327 0.45921047 0.5925349  0.54406765 0.5301919  0.53076613\n",
      " 0.54326778 0.45185898 0.71713728 0.68785987 0.55379911 0.55959136\n",
      " 0.42399237 0.55295685 0.56312872 0.68450252 0.61313931 0.63956234\n",
      " 0.50236605 0.48365463 0.68074238 0.40929575 0.70825734 0.58981937\n",
      " 0.56636772 0.64335122 0.66996015 0.4149151  0.43736609 0.53345264\n",
      " 0.47251687 0.595916   0.67519691 0.68841762 0.65344112 0.50015744\n",
      " 0.53246163 0.5500817  0.50795329 0.46407356 0.50417914 0.53560478\n",
      " 0.41454499 0.70233426 0.58663634 0.50284353 0.67434046 0.46750514\n",
      " 0.67118421 0.41298023 0.51947267 0.54783146 0.53135496 0.59461171\n",
      " 0.72315562 0.46883814 0.63243726 0.5060141  0.53343624 0.65202024\n",
      " 0.45884462 0.55861341 0.67741457 0.66854671 0.48753223 0.47129926\n",
      " 0.43315961 0.62621701 0.53975325 0.47463895 0.57296157 0.53248093\n",
      " 0.56634405 0.42462282 0.42420698 0.56372907 0.4931668  0.5234104\n",
      " 0.45106931 0.42555007 0.73307535 0.52642484 0.52682096 0.57049852\n",
      " 0.43083025 0.54206877 0.48875482 0.43317695 0.47815788 0.55377391\n",
      " 0.45922872 0.52704322 0.43670617 0.45720158 0.55096397 0.59987543\n",
      " 0.63979318 0.60135624 0.45867855 0.44864723 0.75254007 0.4503413\n",
      " 0.45826822 0.48192672 0.62945492 0.51912886 0.41698822 0.4614503\n",
      " 0.42232327 0.45921047 0.5925349  0.54406765 0.5301919  0.53076613\n",
      " 0.54326778 0.45185898 0.71713728 0.68785987 0.55379911 0.55959136\n",
      " 0.42399237 0.55295685 0.56312872 0.68450252 0.61313931 0.63956234\n",
      " 0.50236605 0.48365463 0.68074238 0.40929575 0.70825734 0.58981937\n",
      " 0.56636772 0.64335122 0.66996015 0.4149151  0.43736609 0.53345264\n",
      " 0.47251687 0.595916   0.67519691 0.68841762 0.65344112 0.50015744\n",
      " 0.53246163 0.5500817  0.50795329 0.46407356 0.50417914 0.53560478\n",
      " 0.41454499 0.70233426 0.58663634 0.50284353 0.67434046 0.46750514\n",
      " 0.67118421 0.41298023 0.51947267 0.54783146 0.53135496 0.59461171\n",
      " 0.72315562 0.46883814 0.63243726 0.5060141  0.53343624 0.65202024\n",
      " 0.45884462 0.55861341 0.67741457 0.66854671 0.48753223 0.47129926\n",
      " 0.43315961 0.62621701 0.53975325 0.47463895 0.57296157 0.53248093\n",
      " 0.56634405 0.42462282 0.42420698 0.56372907 0.4931668  0.5234104 ]\n"
     ]
    }
   ],
   "source": [
    "print(y_test,model.predict(X_test))"
   ]
  },
  {
   "cell_type": "code",
   "execution_count": null,
   "metadata": {},
   "outputs": [],
   "source": [
    "print(model.coef_)"
   ]
  },
  {
   "cell_type": "code",
   "execution_count": null,
   "metadata": {},
   "outputs": [],
   "source": [
    "print(np.mean(model.predict(X_test)-y_test))"
   ]
  },
  {
   "cell_type": "code",
   "execution_count": null,
   "metadata": {},
   "outputs": [],
   "source": [
    "\n",
    "np.sum(X[:1]*model.coef_)"
   ]
  },
  {
   "cell_type": "code",
   "execution_count": null,
   "metadata": {},
   "outputs": [],
   "source": [
    "a = X[optimalSize+1:optimalSize+2]*model.coef_"
   ]
  },
  {
   "cell_type": "code",
   "execution_count": null,
   "metadata": {},
   "outputs": [],
   "source": [
    "a"
   ]
  },
  {
   "cell_type": "code",
   "execution_count": null,
   "metadata": {},
   "outputs": [],
   "source": []
  },
  {
   "cell_type": "code",
   "execution_count": null,
   "metadata": {},
   "outputs": [],
   "source": [
    "type(a)"
   ]
  },
  {
   "cell_type": "code",
   "execution_count": null,
   "metadata": {},
   "outputs": [],
   "source": [
    "a.sum(axis=1)"
   ]
  },
  {
   "cell_type": "code",
   "execution_count": null,
   "metadata": {},
   "outputs": [],
   "source": []
  }
 ],
 "metadata": {
  "kernelspec": {
   "display_name": "Python 3",
   "language": "python",
   "name": "python3"
  },
  "language_info": {
   "codemirror_mode": {
    "name": "ipython",
    "version": 3
   },
   "file_extension": ".py",
   "mimetype": "text/x-python",
   "name": "python",
   "nbconvert_exporter": "python",
   "pygments_lexer": "ipython3",
   "version": "3.7.3"
  }
 },
 "nbformat": 4,
 "nbformat_minor": 2
}
