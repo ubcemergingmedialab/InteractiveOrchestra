{
 "cells": [
  {
   "cell_type": "code",
   "execution_count": 2,
   "metadata": {},
   "outputs": [],
   "source": [
    "import pandas as pd\n",
    "import numpy as np\n",
    "import matplotlib.pyplot as plt\n",
    "import seaborn as sns\n",
    "sns.set(style=\"darkgrid\")\n",
    "from sklearn.linear_model import LinearRegression"
   ]
  },
  {
   "cell_type": "code",
   "execution_count": 30,
   "metadata": {},
   "outputs": [],
   "source": [
    "algoData = pd.read_csv(r'CombinedAlgorithmData.csv')"
   ]
  },
  {
   "cell_type": "code",
   "execution_count": 37,
   "metadata": {},
   "outputs": [],
   "source": [
    "X = algoData.iloc[:,4:17]\n",
    "y = algoData.iloc[:,-1]\n",
    "y = y.astype(float)\n",
    "X = X.astype(float)"
   ]
  },
  {
   "cell_type": "code",
   "execution_count": 38,
   "metadata": {},
   "outputs": [],
   "source": [
    "X_train = X[:280]\n",
    "y_train = y[:280]\n",
    "X_test = X[280:]\n",
    "y_test = y[280:]"
   ]
  },
  {
   "cell_type": "code",
   "execution_count": 39,
   "metadata": {},
   "outputs": [],
   "source": [
    "lm = LinearRegression()"
   ]
  },
  {
   "cell_type": "code",
   "execution_count": 40,
   "metadata": {},
   "outputs": [],
   "source": [
    "model = lm.fit(X_train,y_train)"
   ]
  },
  {
   "cell_type": "code",
   "execution_count": 45,
   "metadata": {},
   "outputs": [
    {
     "data": {
      "text/plain": [
       "0.003316403464166534"
      ]
     },
     "execution_count": 45,
     "metadata": {},
     "output_type": "execute_result"
    }
   ],
   "source": [
    "np.mean(model.predict(X_test) - y_test)"
   ]
  },
  {
   "cell_type": "code",
   "execution_count": 42,
   "metadata": {},
   "outputs": [
    {
     "data": {
      "text/plain": [
       "280    0.59\n",
       "281    0.65\n",
       "282    0.61\n",
       "283    0.61\n",
       "284    0.61\n",
       "285    0.55\n",
       "286    0.57\n",
       "287    0.55\n",
       "288    0.59\n",
       "289    0.53\n",
       "290    0.53\n",
       "291    0.61\n",
       "292    0.51\n",
       "293    0.55\n",
       "294    0.57\n",
       "295    0.59\n",
       "296    0.59\n",
       "297    0.55\n",
       "298    0.59\n",
       "299    0.55\n",
       "300    0.53\n",
       "301    0.57\n",
       "302    0.57\n",
       "303    0.55\n",
       "304    0.53\n",
       "305    0.51\n",
       "306    0.55\n",
       "307    0.49\n",
       "308    0.49\n",
       "309    0.47\n",
       "       ... \n",
       "328    0.51\n",
       "329    0.49\n",
       "330    0.49\n",
       "331    0.47\n",
       "332    0.51\n",
       "333    0.47\n",
       "334    0.43\n",
       "335    0.45\n",
       "336    0.43\n",
       "337    0.51\n",
       "338    0.47\n",
       "339    0.51\n",
       "340    0.47\n",
       "341    0.45\n",
       "342    0.45\n",
       "343    0.47\n",
       "344    0.45\n",
       "345    0.45\n",
       "346    0.45\n",
       "347    0.39\n",
       "348    0.39\n",
       "349    0.43\n",
       "350    0.41\n",
       "351    0.43\n",
       "352    0.43\n",
       "353    0.49\n",
       "354    0.45\n",
       "355    0.43\n",
       "356    0.41\n",
       "357    0.45\n",
       "Name: TimeDifferenceBetweenCollisions, Length: 78, dtype: float64"
      ]
     },
     "execution_count": 42,
     "metadata": {},
     "output_type": "execute_result"
    }
   ],
   "source": [
    "y_test"
   ]
  },
  {
   "cell_type": "code",
   "execution_count": null,
   "metadata": {},
   "outputs": [],
   "source": []
  }
 ],
 "metadata": {
  "kernelspec": {
   "display_name": "Python 3",
   "language": "python",
   "name": "python3"
  },
  "language_info": {
   "codemirror_mode": {
    "name": "ipython",
    "version": 3
   },
   "file_extension": ".py",
   "mimetype": "text/x-python",
   "name": "python",
   "nbconvert_exporter": "python",
   "pygments_lexer": "ipython3",
   "version": "3.6.5"
  }
 },
 "nbformat": 4,
 "nbformat_minor": 2
}
